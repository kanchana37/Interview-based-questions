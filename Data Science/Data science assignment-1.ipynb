{
 "cells": [
  {
   "cell_type": "markdown",
   "id": "361a0221",
   "metadata": {},
   "source": [
    "# Data Science Assignment -1"
   ]
  },
  {
   "cell_type": "markdown",
   "id": "0ae4353b",
   "metadata": {},
   "source": [
    "### Q1. Write a Python program to reverse a string without using any built-in string reversal functions."
   ]
  },
  {
   "cell_type": "code",
   "execution_count": 16,
   "id": "efcc2030",
   "metadata": {},
   "outputs": [
    {
     "name": "stdout",
     "output_type": "stream",
     "text": [
      "The original string is: HELLO WORLD\n",
      "The reversed string is: DLROW OLLEH\n"
     ]
    }
   ],
   "source": [
    "def reverse(s):\n",
    "    reversed_list = []\n",
    "    for i in s:\n",
    "        reversed_list.insert(0, i)\n",
    "    reversed_str = ''.join(reversed_list)\n",
    "    return reversed_str\n",
    "\n",
    "# Test the function\n",
    "s = \"HELLO WORLD\"\n",
    "\n",
    "print(\"The original string is: \", end=\"\")\n",
    "print(s)\n",
    "\n",
    "print(\"The reversed string is: \", end=\"\")\n",
    "print(reverse(s))\n"
   ]
  },
  {
   "cell_type": "markdown",
   "id": "e0b0c346",
   "metadata": {},
   "source": [
    "### Q2. Implement a function to check if a given string is a palindrome."
   ]
  },
  {
   "cell_type": "code",
   "execution_count": 17,
   "id": "bda04338",
   "metadata": {},
   "outputs": [
    {
     "name": "stdout",
     "output_type": "stream",
     "text": [
      "The given string is a palindrome\n"
     ]
    }
   ],
   "source": [
    "def is_palindrome(input_string):\n",
    "    input_string = input_string.lower().replace(\" \", \"\")  # Convert to lowercase and remove spaces\n",
    "    reversed_string = input_string[::-1]  # Reverse the string\n",
    "\n",
    "    return input_string == reversed_string\n",
    "\n",
    "# Example usage\n",
    "input_string = \"mom\"\n",
    "if is_palindrome(input_string):\n",
    "    print(\"The given string is a palindrome\")\n",
    "else:\n",
    "    print(\"The given string is not a palindrome\")\n"
   ]
  },
  {
   "cell_type": "markdown",
   "id": "b0e89c42",
   "metadata": {},
   "source": [
    "### Q3. Write a program to find the largest element in a given list."
   ]
  },
  {
   "cell_type": "code",
   "execution_count": 18,
   "id": "3cb7c125",
   "metadata": {},
   "outputs": [
    {
     "name": "stdout",
     "output_type": "stream",
     "text": [
      "Largest element is: 34\n"
     ]
    }
   ],
   "source": [
    "list1 = [10,1,34,25,22]\n",
    " \n",
    "list1.sort()\n",
    " \n",
    "print(\"Largest element is:\", list1[-1])\n"
   ]
  },
  {
   "cell_type": "markdown",
   "id": "0c967504",
   "metadata": {},
   "source": [
    "### Q4. Implement a function to count the occurrence of each element in a list"
   ]
  },
  {
   "cell_type": "code",
   "execution_count": 19,
   "id": "e8fd748d",
   "metadata": {},
   "outputs": [
    {
     "name": "stdout",
     "output_type": "stream",
     "text": [
      "9  occurred  3  times\n"
     ]
    }
   ],
   "source": [
    "def countX(lst, x):\n",
    "    return lst.count(x)\n",
    "\n",
    "lst = [8, 6, 8, 10, 9, 20, 10, 9, 9]\n",
    "x = 9\n",
    "print( x,\" occurred \" ,countX(lst, x),\" times\")"
   ]
  },
  {
   "cell_type": "markdown",
   "id": "f27b3087",
   "metadata": {},
   "source": [
    "### Q5. Write a Python program to find the second largest number in a list."
   ]
  },
  {
   "cell_type": "code",
   "execution_count": 43,
   "id": "3ca25da7",
   "metadata": {},
   "outputs": [
    {
     "name": "stdout",
     "output_type": "stream",
     "text": [
      "Second largest number: 10\n"
     ]
    }
   ],
   "source": [
    "def find_second_largest(numbers):\n",
    "    largest = float('-inf')  # Initialize the largest number to negative infinity\n",
    "    second_largest = float('-inf')  # Initialize the second largest number to negative infinity\n",
    "\n",
    "    for num in numbers:\n",
    "        if num > largest:\n",
    "            second_largest = largest\n",
    "            largest = num\n",
    "        elif num > second_largest and num != largest:\n",
    "            second_largest = num\n",
    "\n",
    "    return second_largest\n",
    "\n",
    "# Example usage\n",
    "numbers = [10, 5, 7, 12, 3, 8]\n",
    "result = find_second_largest(numbers)\n",
    "print(\"Second largest number:\", result)"
   ]
  },
  {
   "cell_type": "markdown",
   "id": "91edb8df",
   "metadata": {},
   "source": [
    "### Q6. Implement a function to remove duplicate elements from a list."
   ]
  },
  {
   "cell_type": "code",
   "execution_count": 21,
   "id": "359a4568",
   "metadata": {},
   "outputs": [
    {
     "name": "stdout",
     "output_type": "stream",
     "text": [
      "[2, 4, 10, 5, 20]\n"
     ]
    }
   ],
   "source": [
    "def RemoveDuplicate(duplicate):\n",
    "    set_list = []\n",
    "    for num in duplicate:\n",
    "        if num not in set_list:\n",
    "            set_list.append(num)\n",
    "    return set_list\n",
    "\n",
    "duplicatedArray = [2, 4, 10, 5, 2, 20, 4]\n",
    "print(RemoveDuplicate(duplicatedArray))\n"
   ]
  },
  {
   "cell_type": "markdown",
   "id": "b58cf318",
   "metadata": {},
   "source": [
    "### Q7. Write a program to calculate the factorial of a given number."
   ]
  },
  {
   "cell_type": "code",
   "execution_count": 22,
   "id": "3d2faf8a",
   "metadata": {},
   "outputs": [
    {
     "name": "stdout",
     "output_type": "stream",
     "text": [
      "Factorial of 8 is 40320\n"
     ]
    }
   ],
   "source": [
    "def factorial(n):\n",
    "       \n",
    "    if n == 0:\n",
    "        return 1\n",
    "      \n",
    "    return n * factorial(n-1)\n",
    "\n",
    "num = 8;\n",
    "print(\"Factorial of\", num, \"is\",\n",
    "factorial(num))"
   ]
  },
  {
   "cell_type": "markdown",
   "id": "c2cf1b92",
   "metadata": {},
   "source": [
    "### Q8. Implement a function to check if a given number is prime"
   ]
  },
  {
   "cell_type": "code",
   "execution_count": 23,
   "id": "75b09e29",
   "metadata": {},
   "outputs": [
    {
     "name": "stdout",
     "output_type": "stream",
     "text": [
      "True\n",
      "False\n"
     ]
    }
   ],
   "source": [
    "def isprime(num):\n",
    "    for n in range(2,int(num**0.5)+1):\n",
    "        if num%n==0:\n",
    "            return False\n",
    "    return True\n",
    "print(isprime(7))\n",
    "print(isprime(8))"
   ]
  },
  {
   "cell_type": "markdown",
   "id": "017c4abf",
   "metadata": {},
   "source": [
    "### Q9. Write a Python program to sort a list of integers in ascending order."
   ]
  },
  {
   "cell_type": "code",
   "execution_count": 24,
   "id": "e86a0ed5",
   "metadata": {},
   "outputs": [
    {
     "name": "stdout",
     "output_type": "stream",
     "text": [
      "List in Ascending Order:  [1, 2, 3, 4, 5, 9, 10]\n"
     ]
    }
   ],
   "source": [
    "nums = [1, 5, 3, 4, 2, 10, 9]\n",
    "nums.sort()\n",
    "print('List in Ascending Order: ', nums)"
   ]
  },
  {
   "cell_type": "markdown",
   "id": "2e2bc8af",
   "metadata": {},
   "source": [
    "### Q10. Implement a function to find the sum of all numbers in a list."
   ]
  },
  {
   "cell_type": "code",
   "execution_count": 25,
   "id": "c90e406f",
   "metadata": {},
   "outputs": [
    {
     "name": "stdout",
     "output_type": "stream",
     "text": [
      "36\n"
     ]
    }
   ],
   "source": [
    "def sum(numbers):\n",
    "    total = 0\n",
    "    for x in numbers:\n",
    "        total += x\n",
    "    return total\n",
    "print(sum([1,2,3,4,5,6,7,8]))"
   ]
  },
  {
   "cell_type": "markdown",
   "id": "5aea34b1",
   "metadata": {},
   "source": [
    "### Q11. Write a program to find the common elements between two lists."
   ]
  },
  {
   "cell_type": "code",
   "execution_count": 26,
   "id": "56a52ef3",
   "metadata": {},
   "outputs": [
    {
     "name": "stdout",
     "output_type": "stream",
     "text": [
      "Common elements: [4, 5]\n"
     ]
    }
   ],
   "source": [
    "def find_common_elements(list1, list2):\n",
    "    common_elements = []\n",
    "    for element in list1:\n",
    "        if element in list2:\n",
    "            common_elements.append(element)\n",
    "    return common_elements\n",
    "\n",
    "# Example usage\n",
    "list1 = [1, 2, 3, 4, 5]\n",
    "list2 = [4, 5, 6, 7, 8]\n",
    "common_elements = find_common_elements(list1, list2)\n",
    "print(\"Common elements:\", common_elements)\n"
   ]
  },
  {
   "cell_type": "markdown",
   "id": "61bbe939",
   "metadata": {},
   "source": [
    "### Q12. Implement a function to check if a given string is an anagram of another string"
   ]
  },
  {
   "cell_type": "code",
   "execution_count": 46,
   "id": "57cb8b81",
   "metadata": {},
   "outputs": [],
   "source": [
    "from collections import Counter\n",
    "\n",
    "def is_anagram(string1, string2):\n",
    "    # Convert both strings to lowercase and remove spaces\n",
    "    string1 = string1.lower().replace(\" \", \"\")\n",
    "    string2 = string2.lower().replace(\" \", \"\")\n",
    "\n",
    "    # Use Counter to count the occurrence of each character\n",
    "    counter1 = Counter(string1)\n",
    "    counter2 = Counter(string2)\n",
    "\n",
    "    # Compare the counters\n",
    "    if counter1 == counter2:\n",
    "        return True\n",
    "    else:\n",
    "        return False\n",
    "\n"
   ]
  },
  {
   "cell_type": "code",
   "execution_count": 47,
   "id": "65c09ed7",
   "metadata": {},
   "outputs": [
    {
     "name": "stdout",
     "output_type": "stream",
     "text": [
      "The strings are anagrams.\n"
     ]
    }
   ],
   "source": [
    "string1 = \"listen\"\n",
    "string2 = \"silent\"\n",
    "\n",
    "if is_anagram(string1, string2):\n",
    "    print(\"The strings are anagrams.\")\n",
    "else:\n",
    "    print(\"The strings are not anagrams.\")"
   ]
  },
  {
   "cell_type": "markdown",
   "id": "8d96df51",
   "metadata": {},
   "source": [
    "### Q13. Write a Python program to generate all permutations of a given string.\n"
   ]
  },
  {
   "cell_type": "code",
   "execution_count": 28,
   "id": "4e7fffa9",
   "metadata": {},
   "outputs": [
    {
     "name": "stdout",
     "output_type": "stream",
     "text": [
      "Enter the string : python\n",
      "All possible strings are : \n",
      "python  pythno  pytohn  pytonh  pytnho  pytnoh  pyhton  pyhtno  pyhotn  pyhont  pyhnto  pyhnot  pyothn  pyotnh  pyohtn  pyohnt  pyonth  pyonht  pyntho  pyntoh  pynhto  pynhot  pynoth  pynoht  ptyhon  ptyhno  ptyohn  ptyonh  ptynho  ptynoh  pthyon  pthyno  pthoyn  pthony  pthnyo  pthnoy  ptoyhn  ptoynh  ptohyn  ptohny  ptonyh  ptonhy  ptnyho  ptnyoh  ptnhyo  ptnhoy  ptnoyh  ptnohy  phyton  phytno  phyotn  phyont  phynto  phynot  phtyon  phtyno  phtoyn  phtony  phtnyo  phtnoy  phoytn  phoynt  photyn  photny  phonyt  phonty  phnyto  phnyot  phntyo  phntoy  phnoyt  phnoty  poythn  poytnh  poyhtn  poyhnt  poynth  poynht  potyhn  potynh  pothyn  pothny  potnyh  potnhy  pohytn  pohynt  pohtyn  pohtny  pohnyt  pohnty  ponyth  ponyht  pontyh  ponthy  ponhyt  ponhty  pnytho  pnytoh  pnyhto  pnyhot  pnyoth  pnyoht  pntyho  pntyoh  pnthyo  pnthoy  pntoyh  pntohy  pnhyto  pnhyot  pnhtyo  pnhtoy  pnhoyt  pnhoty  pnoyth  pnoyht  pnotyh  pnothy  pnohyt  pnohty  ypthon  ypthno  yptohn  yptonh  yptnho  yptnoh  yphton  yphtno  yphotn  yphont  yphnto  yphnot  ypothn  ypotnh  ypohtn  ypohnt  yponth  yponht  ypntho  ypntoh  ypnhto  ypnhot  ypnoth  ypnoht  ytphon  ytphno  ytpohn  ytponh  ytpnho  ytpnoh  ythpon  ythpno  ythopn  ythonp  ythnpo  ythnop  ytophn  ytopnh  ytohpn  ytohnp  ytonph  ytonhp  ytnpho  ytnpoh  ytnhpo  ytnhop  ytnoph  ytnohp  yhpton  yhptno  yhpotn  yhpont  yhpnto  yhpnot  yhtpon  yhtpno  yhtopn  yhtonp  yhtnpo  yhtnop  yhoptn  yhopnt  yhotpn  yhotnp  yhonpt  yhontp  yhnpto  yhnpot  yhntpo  yhntop  yhnopt  yhnotp  yopthn  yoptnh  yophtn  yophnt  yopnth  yopnht  yotphn  yotpnh  yothpn  yothnp  yotnph  yotnhp  yohptn  yohpnt  yohtpn  yohtnp  yohnpt  yohntp  yonpth  yonpht  yontph  yonthp  yonhpt  yonhtp  ynptho  ynptoh  ynphto  ynphot  ynpoth  ynpoht  yntpho  yntpoh  ynthpo  ynthop  yntoph  yntohp  ynhpto  ynhpot  ynhtpo  ynhtop  ynhopt  ynhotp  ynopth  ynopht  ynotph  ynothp  ynohpt  ynohtp  tpyhon  tpyhno  tpyohn  tpyonh  tpynho  tpynoh  tphyon  tphyno  tphoyn  tphony  tphnyo  tphnoy  tpoyhn  tpoynh  tpohyn  tpohny  tponyh  tponhy  tpnyho  tpnyoh  tpnhyo  tpnhoy  tpnoyh  tpnohy  typhon  typhno  typohn  typonh  typnho  typnoh  tyhpon  tyhpno  tyhopn  tyhonp  tyhnpo  tyhnop  tyophn  tyopnh  tyohpn  tyohnp  tyonph  tyonhp  tynpho  tynpoh  tynhpo  tynhop  tynoph  tynohp  thpyon  thpyno  thpoyn  thpony  thpnyo  thpnoy  thypon  thypno  thyopn  thyonp  thynpo  thynop  thopyn  thopny  thoypn  thoynp  thonpy  thonyp  thnpyo  thnpoy  thnypo  thnyop  thnopy  thnoyp  topyhn  topynh  tophyn  tophny  topnyh  topnhy  toyphn  toypnh  toyhpn  toyhnp  toynph  toynhp  tohpyn  tohpny  tohypn  tohynp  tohnpy  tohnyp  tonpyh  tonphy  tonyph  tonyhp  tonhpy  tonhyp  tnpyho  tnpyoh  tnphyo  tnphoy  tnpoyh  tnpohy  tnypho  tnypoh  tnyhpo  tnyhop  tnyoph  tnyohp  tnhpyo  tnhpoy  tnhypo  tnhyop  tnhopy  tnhoyp  tnopyh  tnophy  tnoyph  tnoyhp  tnohpy  tnohyp  hpyton  hpytno  hpyotn  hpyont  hpynto  hpynot  hptyon  hptyno  hptoyn  hptony  hptnyo  hptnoy  hpoytn  hpoynt  hpotyn  hpotny  hponyt  hponty  hpnyto  hpnyot  hpntyo  hpntoy  hpnoyt  hpnoty  hypton  hyptno  hypotn  hypont  hypnto  hypnot  hytpon  hytpno  hytopn  hytonp  hytnpo  hytnop  hyoptn  hyopnt  hyotpn  hyotnp  hyonpt  hyontp  hynpto  hynpot  hyntpo  hyntop  hynopt  hynotp  htpyon  htpyno  htpoyn  htpony  htpnyo  htpnoy  htypon  htypno  htyopn  htyonp  htynpo  htynop  htopyn  htopny  htoypn  htoynp  htonpy  htonyp  htnpyo  htnpoy  htnypo  htnyop  htnopy  htnoyp  hopytn  hopynt  hoptyn  hoptny  hopnyt  hopnty  hoyptn  hoypnt  hoytpn  hoytnp  hoynpt  hoyntp  hotpyn  hotpny  hotypn  hotynp  hotnpy  hotnyp  honpyt  honpty  honypt  honytp  hontpy  hontyp  hnpyto  hnpyot  hnptyo  hnptoy  hnpoyt  hnpoty  hnypto  hnypot  hnytpo  hnytop  hnyopt  hnyotp  hntpyo  hntpoy  hntypo  hntyop  hntopy  hntoyp  hnopyt  hnopty  hnoypt  hnoytp  hnotpy  hnotyp  opythn  opytnh  opyhtn  opyhnt  opynth  opynht  optyhn  optynh  opthyn  opthny  optnyh  optnhy  ophytn  ophynt  ophtyn  ophtny  ophnyt  ophnty  opnyth  opnyht  opntyh  opnthy  opnhyt  opnhty  oypthn  oyptnh  oyphtn  oyphnt  oypnth  oypnht  oytphn  oytpnh  oythpn  oythnp  oytnph  oytnhp  oyhptn  oyhpnt  oyhtpn  oyhtnp  oyhnpt  oyhntp  oynpth  oynpht  oyntph  oynthp  oynhpt  oynhtp  otpyhn  otpynh  otphyn  otphny  otpnyh  otpnhy  otyphn  otypnh  otyhpn  otyhnp  otynph  otynhp  othpyn  othpny  othypn  othynp  othnpy  othnyp  otnpyh  otnphy  otnyph  otnyhp  otnhpy  otnhyp  ohpytn  ohpynt  ohptyn  ohptny  ohpnyt  ohpnty  ohyptn  ohypnt  ohytpn  ohytnp  ohynpt  ohyntp  ohtpyn  ohtpny  ohtypn  ohtynp  ohtnpy  ohtnyp  ohnpyt  ohnpty  ohnypt  ohnytp  ohntpy  ohntyp  onpyth  onpyht  onptyh  onpthy  onphyt  onphty  onypth  onypht  onytph  onythp  onyhpt  onyhtp  ontpyh  ontphy  ontyph  ontyhp  onthpy  onthyp  onhpyt  onhpty  onhypt  onhytp  onhtpy  onhtyp  npytho  npytoh  npyhto  npyhot  npyoth  npyoht  nptyho  nptyoh  npthyo  npthoy  nptoyh  nptohy  nphyto  nphyot  nphtyo  nphtoy  nphoyt  nphoty  npoyth  npoyht  npotyh  npothy  npohyt  npohty  nyptho  nyptoh  nyphto  nyphot  nypoth  nypoht  nytpho  nytpoh  nythpo  nythop  nytoph  nytohp  nyhpto  nyhpot  nyhtpo  nyhtop  nyhopt  nyhotp  nyopth  nyopht  nyotph  nyothp  nyohpt  nyohtp  ntpyho  ntpyoh  ntphyo  ntphoy  ntpoyh  ntpohy  ntypho  ntypoh  ntyhpo  ntyhop  ntyoph  ntyohp  nthpyo  nthpoy  nthypo  nthyop  nthopy  nthoyp  ntopyh  ntophy  ntoyph  ntoyhp  ntohpy  ntohyp  nhpyto  nhpyot  nhptyo  nhptoy  nhpoyt  nhpoty  nhypto  nhypot  nhytpo  nhytop  nhyopt  nhyotp  nhtpyo  nhtpoy  nhtypo  nhtyop  nhtopy  nhtoyp  nhopyt  nhopty  nhoypt  nhoytp  nhotpy  nhotyp  nopyth  nopyht  noptyh  nopthy  nophyt  nophty  noypth  noypht  noytph  noythp  noyhpt  noyhtp  notpyh  notphy  notyph  notyhp  nothpy  nothyp  nohpyt  nohpty  nohypt  nohytp  nohtpy  nohtyp  "
     ]
    }
   ],
   "source": [
    "def permute(s, answer):\n",
    "    if (len(s) == 0):\n",
    "        print(answer, end = \"  \")\n",
    "        return\n",
    "     \n",
    "    for i in range(len(s)):\n",
    "        ch = s[i]\n",
    "        left_substr = s[0:i]\n",
    "        right_substr = s[i + 1:]\n",
    "        rest = left_substr + right_substr\n",
    "        permute(rest, answer + ch)\n",
    "\n",
    "answer = \"\"\n",
    "s = input(\"Enter the string : \")\n",
    "print(\"All possible strings are : \")\n",
    "permute(s, answer)"
   ]
  },
  {
   "cell_type": "markdown",
   "id": "b435308e",
   "metadata": {},
   "source": [
    "### Q14. Implement a function to calculate the Fibonacci sequence up to a given number of terms.\n"
   ]
  },
  {
   "cell_type": "code",
   "execution_count": 29,
   "id": "5cbfad47",
   "metadata": {},
   "outputs": [
    {
     "name": "stdout",
     "output_type": "stream",
     "text": [
      "5\n"
     ]
    }
   ],
   "source": [
    "def fibonacci(n):\n",
    "    a = 0\n",
    "    b = 1\n",
    "    if n < 0:\n",
    "        print(\"please enter correct number\")\n",
    "    elif n == 0:\n",
    "        return a\n",
    "    elif n == 1:\n",
    "        return b\n",
    "    else:\n",
    "        for i in range(2, n+1):\n",
    "            c = a + b\n",
    "            a = b\n",
    "            b = c\n",
    "        return b\n",
    "print(fibonacci(5))"
   ]
  },
  {
   "cell_type": "markdown",
   "id": "274216e9",
   "metadata": {},
   "source": [
    "### Q15. Write a program to find the median of a list of numbers."
   ]
  },
  {
   "cell_type": "code",
   "execution_count": 48,
   "id": "57802553",
   "metadata": {},
   "outputs": [
    {
     "name": "stdout",
     "output_type": "stream",
     "text": [
      "Median: 5\n"
     ]
    }
   ],
   "source": [
    "def find_median(numbers):\n",
    "    numbers.sort()  # Sort the list in ascending order\n",
    "    length = len(numbers)\n",
    "\n",
    "    if length % 2 == 0:\n",
    "        # If the length is even, average the middle two numbers\n",
    "        mid1 = numbers[length // 2]\n",
    "        mid2 = numbers[length // 2 - 1]\n",
    "        median = (mid1 + mid2) / 2\n",
    "    else:\n",
    "        # If the length is odd, the median is the middle number\n",
    "        median = numbers[length // 2]\n",
    "\n",
    "    return median\n",
    "\n",
    "\n",
    "# Example usage\n",
    "number_list = [7, 2, 10, 5, 3]\n",
    "result = find_median(number_list)\n",
    "print(\"Median:\", result)\n",
    "\n"
   ]
  },
  {
   "cell_type": "markdown",
   "id": "ea63b1d7",
   "metadata": {},
   "source": [
    "### Q16. Implement a function to check if a given list is sorted in non-decreasing order."
   ]
  },
  {
   "cell_type": "code",
   "execution_count": 34,
   "id": "2ff3096b",
   "metadata": {},
   "outputs": [
    {
     "name": "stdout",
     "output_type": "stream",
     "text": [
      "True\n",
      "False\n",
      "True\n"
     ]
    }
   ],
   "source": [
    "def is_sorted(lst):\n",
    "    for i in range(len(lst) - 1):\n",
    "        if lst[i] > lst[i + 1]:\n",
    "            return False\n",
    "    return True\n",
    "\n",
    "\n",
    "list1 = [1, 2, 3, 4, 5]\n",
    "print(is_sorted(list1)) \n",
    "\n",
    "list2 = [5, 3, 2, 1]\n",
    "print(is_sorted(list2)) \n",
    "\n",
    "list3 = [1, 1, 2, 3, 3, 4]\n",
    "print(is_sorted(list3)) \n"
   ]
  },
  {
   "cell_type": "markdown",
   "id": "9443e5bd",
   "metadata": {},
   "source": [
    "### Q17. Write the Python program to find the intersection of two lists."
   ]
  },
  {
   "cell_type": "code",
   "execution_count": 35,
   "id": "2ba67ace",
   "metadata": {},
   "outputs": [
    {
     "name": "stdout",
     "output_type": "stream",
     "text": [
      "Intersection: [4, 5]\n"
     ]
    }
   ],
   "source": [
    "def find_intersection(list1, list2):\n",
    "    intersection = list(set(list1) & set(list2))\n",
    "    return intersection\n",
    "\n",
    "# Example usage\n",
    "list1 = [1, 2, 3, 4, 5]\n",
    "list2 = [4, 5, 6, 7, 8]\n",
    "intersection = find_intersection(list1, list2)\n",
    "print(\"Intersection:\", intersection)\n"
   ]
  },
  {
   "cell_type": "markdown",
   "id": "04f1fa15",
   "metadata": {},
   "source": [
    "### Q18. Implement a function to find the maximum subarray sum in a given list."
   ]
  },
  {
   "cell_type": "code",
   "execution_count": 36,
   "id": "6319c27c",
   "metadata": {},
   "outputs": [
    {
     "name": "stdout",
     "output_type": "stream",
     "text": [
      "Maximum Subarray Sum: 6\n"
     ]
    }
   ],
   "source": [
    "def max_subarray_sum(arr):\n",
    "    max_sum = float('-inf')\n",
    "    current_sum = 0\n",
    "\n",
    "    for num in arr:\n",
    "        current_sum = max(num, current_sum + num)\n",
    "        max_sum = max(max_sum, current_sum)\n",
    "\n",
    "    return max_sum\n",
    "\n",
    "list1 = [-2, 1, -3, 4, -1, 2, 1, -5, 4]\n",
    "result = max_subarray_sum(list1)\n",
    "print(\"Maximum Subarray Sum:\", result)"
   ]
  },
  {
   "cell_type": "markdown",
   "id": "aaf1cdb2",
   "metadata": {},
   "source": [
    "### Q19. Write a program to remove all vowels from a given string."
   ]
  },
  {
   "cell_type": "code",
   "execution_count": 37,
   "id": "ca65796b",
   "metadata": {},
   "outputs": [
    {
     "name": "stdout",
     "output_type": "stream",
     "text": [
      "Enter a string: vowel\n",
      "String without vowels: vwl\n"
     ]
    }
   ],
   "source": [
    "def remove_vowels(string):\n",
    "    vowels = \"aeiouAEIOU\"\n",
    "    new_string = \"\"\n",
    "    for char in string:\n",
    "        if char not in vowels:\n",
    "            new_string += char\n",
    "    return new_string\n",
    "input_string = input(\"Enter a string: \")\n",
    "result = remove_vowels(input_string)\n",
    "print(\"String without vowels:\", result)"
   ]
  },
  {
   "cell_type": "markdown",
   "id": "a9451fc5",
   "metadata": {},
   "source": [
    "### Q20. Implement a function to reverse the order of words in a given sentence."
   ]
  },
  {
   "cell_type": "code",
   "execution_count": 49,
   "id": "1b97c845",
   "metadata": {},
   "outputs": [
    {
     "name": "stdout",
     "output_type": "stream",
     "text": [
      "Enter a sentence: hello my name is kanchana\n",
      "Reversed sentence: kanchana is name my hello\n"
     ]
    }
   ],
   "source": [
    "def reverse_words(sentence):\n",
    "    words = sentence.split()\n",
    "    reversed_words = words[::-1]\n",
    "    reversed_sentence = ' '.join(reversed_words)\n",
    "    return reversed_sentence\n",
    "input_sentence = input(\"Enter a sentence: \")\n",
    "reversed_sentence = reverse_words(input_sentence)\n",
    "print(\"Reversed sentence:\", reversed_sentence)"
   ]
  },
  {
   "cell_type": "markdown",
   "id": "0d9fb1a9",
   "metadata": {},
   "source": [
    "### Q21. Write a Python program to check if two strings are anagrams of each other."
   ]
  },
  {
   "cell_type": "code",
   "execution_count": 50,
   "id": "15e4450e",
   "metadata": {},
   "outputs": [
    {
     "name": "stdout",
     "output_type": "stream",
     "text": [
      "The strings are anagrams.\n"
     ]
    }
   ],
   "source": [
    "def are_anagrams(string1, string2):\n",
    "    # Convert both strings to lowercase and remove spaces\n",
    "    string1 = string1.lower().replace(\" \", \"\")\n",
    "    string2 = string2.lower().replace(\" \", \"\")\n",
    "\n",
    "    # Check if the lengths of the strings are equal\n",
    "    if len(string1) != len(string2):\n",
    "        return False\n",
    "\n",
    "    # Convert strings to lists to facilitate sorting\n",
    "    string1_list = list(string1)\n",
    "    string2_list = list(string2)\n",
    "\n",
    "    # Sort the lists\n",
    "    string1_list.sort()\n",
    "    string2_list.sort()\n",
    "\n",
    "    # Compare the sorted lists\n",
    "    if string1_list == string2_list:\n",
    "        return True\n",
    "    else:\n",
    "        return False\n",
    "\n",
    "\n",
    "# Example usage\n",
    "string1 = \"listen\"\n",
    "string2 = \"silent\"\n",
    "\n",
    "if are_anagrams(string1, string2):\n",
    "    print(\"The strings are anagrams.\")\n",
    "else:\n",
    "    print(\"The strings are not anagrams.\")"
   ]
  },
  {
   "cell_type": "markdown",
   "id": "9c226d1a",
   "metadata": {},
   "source": [
    "### Q22. Implement a function to find the first non-repeating character in a string.\n"
   ]
  },
  {
   "cell_type": "code",
   "execution_count": 53,
   "id": "9dc79352",
   "metadata": {},
   "outputs": [
    {
     "name": "stdout",
     "output_type": "stream",
     "text": [
      "Enter a string: this is a code implementation\n",
      "First non-repeating character: h\n"
     ]
    }
   ],
   "source": [
    "def find_first_non_repeating_char(string):\n",
    "    char_count = {}\n",
    "    \n",
    "    \n",
    "    for char in string:\n",
    "        char_count[char] = char_count.get(char, 0) + 1\n",
    "    \n",
    "    \n",
    "    for char in string:\n",
    "        if char_count[char] == 1:\n",
    "            return char\n",
    "    \n",
    "    \n",
    "    return None\n",
    "\n",
    "input_string = input(\"Enter a string: \")\n",
    "result = find_first_non_repeating_char(input_string)\n",
    "if result is None:\n",
    "    print(\"No non-repeating character found\")\n",
    "else:\n",
    "    print(\"First non-repeating character:\", result)"
   ]
  },
  {
   "cell_type": "markdown",
   "id": "a4d3c1a1",
   "metadata": {},
   "source": [
    "### Q23. Write a program to find the prime factors of a given number.\n"
   ]
  },
  {
   "cell_type": "code",
   "execution_count": 54,
   "id": "2f95cb04",
   "metadata": {},
   "outputs": [
    {
     "name": "stdout",
     "output_type": "stream",
     "text": [
      "Enter a number: 24\n",
      "Prime factors: [2, 2, 2, 3]\n"
     ]
    }
   ],
   "source": [
    "def find_prime_factors(number):\n",
    "    prime_factors = []\n",
    "    divisor = 2\n",
    "\n",
    "    while divisor <= number:\n",
    "        if number % divisor == 0:\n",
    "            prime_factors.append(divisor)\n",
    "            number //= divisor\n",
    "        else:\n",
    "            divisor += 1\n",
    "\n",
    "    return prime_factors\n",
    "input_number = int(input(\"Enter a number: \"))\n",
    "result = find_prime_factors(input_number)\n",
    "print(\"Prime factors:\", result)"
   ]
  },
  {
   "cell_type": "markdown",
   "id": "805d9848",
   "metadata": {},
   "source": [
    "### Q24. Implement a function to check if a given number is a power of two."
   ]
  },
  {
   "cell_type": "code",
   "execution_count": 56,
   "id": "08f522b0",
   "metadata": {},
   "outputs": [
    {
     "name": "stdout",
     "output_type": "stream",
     "text": [
      "The number is a power of two.\n"
     ]
    }
   ],
   "source": [
    "def is_power_of_two(number):\n",
    "    if number <= 0:\n",
    "        return False\n",
    "    else:\n",
    "        # Check if the number is a power of two by counting the number of set bits (1s)\n",
    "        return (number & (number - 1)) == 0\n",
    "\n",
    "\n",
    "# Example usage\n",
    "num = 16\n",
    "\n",
    "if is_power_of_two(num):\n",
    "    print(\"The number is a power of two.\")\n",
    "else:\n",
    "    print(\"The number is not a power of two.\")\n"
   ]
  },
  {
   "cell_type": "markdown",
   "id": "67f90e6b",
   "metadata": {},
   "source": [
    "### Q25. Write a Python program to merge two sorted lists into a single sorted list."
   ]
  },
  {
   "cell_type": "code",
   "execution_count": 57,
   "id": "5a6fd6ec",
   "metadata": {},
   "outputs": [
    {
     "name": "stdout",
     "output_type": "stream",
     "text": [
      "Merged and sorted list: [1, 2, 3, 4, 5, 6, 7, 8, 9]\n"
     ]
    }
   ],
   "source": [
    "def merge_sorted_lists(list1, list2):\n",
    "    merged_list = []\n",
    "    i, j = 0, 0\n",
    "\n",
    "    while i < len(list1) and j < len(list2):\n",
    "        if list1[i] < list2[j]:\n",
    "            merged_list.append(list1[i])\n",
    "            i += 1\n",
    "        else:\n",
    "            merged_list.append(list2[j])\n",
    "            j += 1\n",
    "\n",
    "    while i < len(list1):\n",
    "        merged_list.append(list1[i])\n",
    "        i += 1\n",
    "\n",
    "\n",
    "    while j < len(list2):\n",
    "        merged_list.append(list2[j])\n",
    "        j += 1\n",
    "\n",
    "    return merged_list\n",
    "\n",
    "list1 = [1, 4, 7, 9]\n",
    "list2 = [2, 3, 5, 6, 8]\n",
    "result = merge_sorted_lists(list1, list2)\n",
    "print(\"Merged and sorted list:\", result)"
   ]
  },
  {
   "cell_type": "markdown",
   "id": "eec663db",
   "metadata": {},
   "source": [
    "### Q26. Implement a function to find the mode of a list of numbers."
   ]
  },
  {
   "cell_type": "code",
   "execution_count": 61,
   "id": "badb440b",
   "metadata": {},
   "outputs": [
    {
     "name": "stdout",
     "output_type": "stream",
     "text": [
      "Mode(s): [2]\n"
     ]
    }
   ],
   "source": [
    "from collections import Counter\n",
    "\n",
    "def find_mode(numbers):\n",
    "    # Use Counter to count the occurrence of each number\n",
    "    count = Counter(numbers)\n",
    "\n",
    "    # Find the maximum count\n",
    "    max_count = max(count.values())\n",
    "\n",
    "    # Find all numbers with the maximum count\n",
    "    mode = [num for num, freq in count.items() if freq == max_count]\n",
    "\n",
    "    return mode\n",
    "\n",
    "\n",
    "# Example usage\n",
    "number_list = [1, 2, 3, 2, 4, 3, 2, 5]\n",
    "result = find_mode(number_list)\n",
    "print(\"Mode(s):\", result)\n"
   ]
  },
  {
   "cell_type": "markdown",
   "id": "de60778c",
   "metadata": {},
   "source": [
    "### 27. Write a program to find the greatest common divisor (GCD) of two numbers."
   ]
  },
  {
   "cell_type": "code",
   "execution_count": 62,
   "id": "9c4a3a2a",
   "metadata": {},
   "outputs": [
    {
     "name": "stdout",
     "output_type": "stream",
     "text": [
      "The GCD of 48 and 18 is: 6\n"
     ]
    }
   ],
   "source": [
    "def gcd(a, b):\n",
    "    if b == 0:\n",
    "        return a\n",
    "    return gcd(b, a % b)\n",
    "\n",
    "\n",
    "num1 = 48\n",
    "num2 = 18\n",
    "result = gcd(num1, num2)\n",
    "print(\"The GCD of\", num1, \"and\", num2, \"is:\", result)"
   ]
  },
  {
   "cell_type": "markdown",
   "id": "0e1f84e8",
   "metadata": {},
   "source": [
    "### Q28. Implement a function to calculate the square root of a given number."
   ]
  },
  {
   "cell_type": "code",
   "execution_count": 64,
   "id": "0419d491",
   "metadata": {},
   "outputs": [
    {
     "name": "stdout",
     "output_type": "stream",
     "text": [
      "Square root: 4.0\n"
     ]
    }
   ],
   "source": [
    "import math\n",
    "\n",
    "def square_root(number):\n",
    "    if number < 0:\n",
    "        raise ValueError(\"Square root is not defined for negative numbers.\")\n",
    "    \n",
    "    result = math.sqrt(number)\n",
    "    return result\n",
    "\n",
    "# Example usage\n",
    "number = 16\n",
    "result = square_root(number)\n",
    "print(\"Square root:\", result)\n"
   ]
  },
  {
   "cell_type": "markdown",
   "id": "453d822e",
   "metadata": {},
   "source": [
    "### Q29. Write a Python program to check if a given string is a valid palindrome ignoring non-alphanumeric characters."
   ]
  },
  {
   "cell_type": "code",
   "execution_count": 66,
   "id": "5d0ac748",
   "metadata": {},
   "outputs": [
    {
     "name": "stdout",
     "output_type": "stream",
     "text": [
      "The string is a valid palindrome.\n"
     ]
    }
   ],
   "source": [
    "import re\n",
    "\n",
    "def is_valid_palindrome(string):\n",
    "    # Remove non-alphanumeric characters and convert to lowercase\n",
    "    alphanumeric_string = re.sub(r'[^a-zA-Z0-9]', '', string.lower())\n",
    "\n",
    "    # Check if the alphanumeric string is a palindrome\n",
    "    return alphanumeric_string == alphanumeric_string[::-1]\n",
    "\n",
    "\n",
    "# Example usage\n",
    "string = \"A man, a plan, a canal: Panama\"\n",
    "\n",
    "if is_valid_palindrome(string):\n",
    "    print(\"The string is a valid palindrome.\")\n",
    "else:\n",
    "    print(\"The string is not a valid palindrome.\")"
   ]
  },
  {
   "cell_type": "markdown",
   "id": "5e669835",
   "metadata": {},
   "source": [
    "### Q30. Implement a function to find the minimum element in a rotated sorted list."
   ]
  },
  {
   "cell_type": "code",
   "execution_count": 68,
   "id": "b84bac87",
   "metadata": {},
   "outputs": [
    {
     "name": "stdout",
     "output_type": "stream",
     "text": [
      "Minimum element: 0\n"
     ]
    }
   ],
   "source": [
    "def find_min_element(nums):\n",
    "    left = 0\n",
    "    right = len(nums) - 1\n",
    "\n",
    "    while left < right:\n",
    "        mid = (left + right) // 2\n",
    "\n",
    "        if nums[mid] > nums[right]:\n",
    "            # The minimum element is in the right half\n",
    "            left = mid + 1\n",
    "        else:\n",
    "            # The minimum element is in the left half or is the current mid\n",
    "            right = mid\n",
    "\n",
    "    # The left index will eventually point to the minimum element\n",
    "    return nums[left]\n",
    "\n",
    "# Example usage\n",
    "numbers = [4, 5, 6, 7, 0, 1, 2]\n",
    "result = find_min_element(numbers)\n",
    "print(\"Minimum element:\", result)\n"
   ]
  },
  {
   "cell_type": "markdown",
   "id": "ad3bac52",
   "metadata": {},
   "source": [
    "### Q31. Write a program to find the sum of all even numbers in a list."
   ]
  },
  {
   "cell_type": "code",
   "execution_count": 69,
   "id": "17009715",
   "metadata": {},
   "outputs": [
    {
     "name": "stdout",
     "output_type": "stream",
     "text": [
      "Sum of even numbers: 30\n"
     ]
    }
   ],
   "source": [
    "def sum_even_numbers(numbers):\n",
    "    sum_even = 0\n",
    "    for number in numbers:\n",
    "        if number % 2 == 0:\n",
    "            sum_even += number\n",
    "    return sum_even\n",
    "\n",
    "# Example usage\n",
    "numbers = [1, 2, 3, 4, 5, 6, 7, 8, 9, 10]\n",
    "result = sum_even_numbers(numbers)\n",
    "print(\"Sum of even numbers:\", result)\n"
   ]
  },
  {
   "cell_type": "markdown",
   "id": "ddfa1bd4",
   "metadata": {},
   "source": [
    "### Q32. Implement a function to calculate the power of a number using recursion."
   ]
  },
  {
   "cell_type": "code",
   "execution_count": 72,
   "id": "5312a7f7",
   "metadata": {},
   "outputs": [
    {
     "name": "stdout",
     "output_type": "stream",
     "text": [
      "Result: 8\n"
     ]
    }
   ],
   "source": [
    "def power(base, exponent):\n",
    "    if exponent == 0:\n",
    "        return 1\n",
    "    elif exponent < 0:\n",
    "        return 1 / power(base, -exponent)\n",
    "    else:\n",
    "        return base * power(base, exponent - 1)\n",
    "\n",
    "# Example usage\n",
    "base = 2\n",
    "exponent = 3\n",
    "result = power(base, exponent)\n",
    "print(\"Result:\", result)\n"
   ]
  },
  {
   "cell_type": "markdown",
   "id": "8b0b04f0",
   "metadata": {},
   "source": [
    "### Q33. Write a Python program to remove duplicates from a list while preserving the order."
   ]
  },
  {
   "cell_type": "code",
   "execution_count": 71,
   "id": "90552e04",
   "metadata": {},
   "outputs": [
    {
     "name": "stdout",
     "output_type": "stream",
     "text": [
      "List after removing duplicates: [1, 3, 2, 4, 5]\n"
     ]
    }
   ],
   "source": [
    "def remove_duplicates_preserve_order(lst):\n",
    "    seen = set()\n",
    "    result = []\n",
    "    for item in lst:\n",
    "        if item not in seen:\n",
    "            seen.add(item)\n",
    "            result.append(item)\n",
    "    return result\n",
    "\n",
    "my_list = [1, 3, 2, 4, 2, 3, 1, 5, 4]\n",
    "result = remove_duplicates_preserve_order(my_list)\n",
    "print(\"List after removing duplicates:\", result)\n"
   ]
  },
  {
   "cell_type": "markdown",
   "id": "cb10b7fb",
   "metadata": {},
   "source": [
    "### Q34. Implement a function to find the longest common prefix among a list of strings."
   ]
  },
  {
   "cell_type": "code",
   "execution_count": 73,
   "id": "05e0f8ee",
   "metadata": {},
   "outputs": [
    {
     "name": "stdout",
     "output_type": "stream",
     "text": [
      "The longest common prefix is: fl\n"
     ]
    }
   ],
   "source": [
    "def longest_common_prefix(strs):\n",
    "    if not strs:\n",
    "        return \"\"\n",
    "\n",
    "   \n",
    "    sorted_strs = sorted(strs)\n",
    "\n",
    "    \n",
    "    for i in range(len(sorted_strs[0])):\n",
    "        if sorted_strs[0][i] != sorted_strs[-1][i]:\n",
    "            return sorted_strs[0][:i]\n",
    "\n",
    "   \n",
    "    return sorted_strs[0]\n",
    "\n",
    "\n",
    "string_list = [\"flower\", \"flow\", \"flight\"]\n",
    "result = longest_common_prefix(string_list)\n",
    "print(\"The longest common prefix is:\", result)"
   ]
  },
  {
   "cell_type": "markdown",
   "id": "c97c6bf1",
   "metadata": {},
   "source": [
    "### Q35. Write a program to check if a given number is a perfect square."
   ]
  },
  {
   "cell_type": "code",
   "execution_count": 74,
   "id": "a9f6c2c3",
   "metadata": {},
   "outputs": [
    {
     "name": "stdout",
     "output_type": "stream",
     "text": [
      "The number is a perfect square.\n"
     ]
    }
   ],
   "source": [
    "def is_perfect_square(number):\n",
    "    if number < 0:\n",
    "        return False\n",
    "    sqrt = int(number ** 0.5)\n",
    "\n",
    "    return sqrt * sqrt == number\n",
    "\n",
    "num = 25\n",
    "result = is_perfect_square(num)\n",
    "if result:\n",
    "    print(\"The number is a perfect square.\")\n",
    "else:\n",
    "    print(\"The number is not a perfect square.\")"
   ]
  },
  {
   "cell_type": "markdown",
   "id": "a0a3d903",
   "metadata": {},
   "source": [
    "### Q36. Implement a function to calculate the product of all elements in a list."
   ]
  },
  {
   "cell_type": "code",
   "execution_count": 75,
   "id": "984f2ae8",
   "metadata": {},
   "outputs": [
    {
     "name": "stdout",
     "output_type": "stream",
     "text": [
      "The product of all elements in the list is: 120\n"
     ]
    }
   ],
   "source": [
    "def calculate_product(numbers):\n",
    "    if not numbers:\n",
    "        return 1\n",
    "\n",
    "    product = 1\n",
    "    for num in numbers:\n",
    "        product *= num\n",
    "    return product\n",
    "\n",
    "number_list = [1, 2, 3, 4, 5]\n",
    "result = calculate_product(number_list)\n",
    "print(\"The product of all elements in the list is:\", result)"
   ]
  },
  {
   "cell_type": "markdown",
   "id": "b86895f7",
   "metadata": {},
   "source": [
    "### Q37. Write a Python program to reverse the order of words in a sentence while preserving the word order."
   ]
  },
  {
   "cell_type": "code",
   "execution_count": 76,
   "id": "a21419ca",
   "metadata": {},
   "outputs": [
    {
     "name": "stdout",
     "output_type": "stream",
     "text": [
      "Reversed sentence: you? are how Hello,\n"
     ]
    }
   ],
   "source": [
    "def reverse_words(sentence):\n",
    " \n",
    "    words = sentence.split()\n",
    "\n",
    "    reversed_words = words[::-1]\n",
    "\n",
    "    reversed_sentence = ' '.join(reversed_words)\n",
    "\n",
    "    return reversed_sentence\n",
    "\n",
    "input_sentence = \"Hello, how are you?\"\n",
    "result = reverse_words(input_sentence)\n",
    "print(\"Reversed sentence:\", result)"
   ]
  },
  {
   "cell_type": "markdown",
   "id": "0e142c09",
   "metadata": {},
   "source": [
    "### Q38. Implement a function to find the missing number in a given list of consecutive numbers."
   ]
  },
  {
   "cell_type": "code",
   "execution_count": 77,
   "id": "886ac91c",
   "metadata": {},
   "outputs": [
    {
     "name": "stdout",
     "output_type": "stream",
     "text": [
      "The missing number is: 4\n"
     ]
    }
   ],
   "source": [
    "def find_missing_number(numbers):\n",
    "    n = len(numbers) + 1\n",
    "    expected_sum = (n * (n + 1)) // 2\n",
    "    actual_sum = sum(numbers)\n",
    "    missing_number = expected_sum - actual_sum\n",
    "    return missing_number\n",
    "number_list = [1, 2, 3, 5, 6, 7, 8]\n",
    "result = find_missing_number(number_list)\n",
    "print(\"The missing number is:\", result)"
   ]
  },
  {
   "cell_type": "markdown",
   "id": "07c88181",
   "metadata": {},
   "source": [
    "### Q39. Write a program to find the sum of digits of a given number."
   ]
  },
  {
   "cell_type": "code",
   "execution_count": 78,
   "id": "00ba14a9",
   "metadata": {},
   "outputs": [
    {
     "name": "stdout",
     "output_type": "stream",
     "text": [
      "The sum of digits of the number is: 15\n"
     ]
    }
   ],
   "source": [
    "def sum_of_digits(number):\n",
    "    total = 0\n",
    "    while number > 0:\n",
    "        digit = number % 10\n",
    "        total += digit\n",
    "        number //= 10\n",
    "    return total\n",
    "\n",
    "# Example usage\n",
    "num = 12345\n",
    "result = sum_of_digits(num)\n",
    "print(\"The sum of digits of the number is:\", result)"
   ]
  },
  {
   "cell_type": "markdown",
   "id": "0124dc11",
   "metadata": {},
   "source": [
    "### Q40. Implement a function to check if a given string is a valid palindrome considering case sensitivity."
   ]
  },
  {
   "cell_type": "code",
   "execution_count": 79,
   "id": "ad16fde4",
   "metadata": {},
   "outputs": [
    {
     "name": "stdout",
     "output_type": "stream",
     "text": [
      "The string is not a valid palindrome.\n"
     ]
    }
   ],
   "source": [
    "def is_palindrome(string):\n",
    "    \n",
    "    clean_string = ''.join(c for c in string if c.isalnum())\n",
    "    return clean_string == clean_string[::-1]\n",
    "input_string = \"Able was I saw eLba\"\n",
    "result = is_palindrome(input_string)\n",
    "if result:\n",
    "    print(\"The string is a valid palindrome.\")\n",
    "else:\n",
    "    print(\"The string is not a valid palindrome.\")"
   ]
  },
  {
   "cell_type": "markdown",
   "id": "4062e36f",
   "metadata": {},
   "source": [
    "### Q41. Write a Python program to find the smallest missing positive integer in a list."
   ]
  },
  {
   "cell_type": "code",
   "execution_count": 80,
   "id": "1e4272ae",
   "metadata": {},
   "outputs": [
    {
     "name": "stdout",
     "output_type": "stream",
     "text": [
      "The smallest missing positive integer is: 2\n"
     ]
    }
   ],
   "source": [
    "def find_smallest_missing_positive(nums):\n",
    "    n = len(nums)\n",
    "\n",
    "   \n",
    "    for i in range(n):\n",
    "        if nums[i] <= 0 or nums[i] > n:\n",
    "            nums[i] = n + 1\n",
    "\n",
    "    for i in range(n):\n",
    "        num = abs(nums[i])\n",
    "        if num <= n:\n",
    "            nums[num - 1] = -abs(nums[num - 1])\n",
    "\n",
    "    for i in range(n):\n",
    "        if nums[i] > 0:\n",
    "            return i + 1\n",
    "\n",
    "    return n + 1\n",
    "\n",
    "number_list = [3, 4, -1, 1]\n",
    "result = find_smallest_missing_positive(number_list)\n",
    "print(\"The smallest missing positive integer is:\", result)"
   ]
  },
  {
   "cell_type": "markdown",
   "id": "faf4aa28",
   "metadata": {},
   "source": [
    "### Q42. Implement a function to find the longest palindrome substring in a given string."
   ]
  },
  {
   "cell_type": "code",
   "execution_count": 81,
   "id": "8ca1cdfa",
   "metadata": {},
   "outputs": [
    {
     "name": "stdout",
     "output_type": "stream",
     "text": [
      "Longest palindrome substring: bab\n"
     ]
    }
   ],
   "source": [
    "def longest_palindrome(string):\n",
    "    longest = ''\n",
    "    for i in range(len(string)):\n",
    "        \n",
    "        odd_palindrome = expand_around_center(string, i, i)\n",
    "        if len(odd_palindrome) > len(longest):\n",
    "            longest = odd_palindrome\n",
    "\n",
    "        \n",
    "        even_palindrome = expand_around_center(string, i, i + 1)\n",
    "        if len(even_palindrome) > len(longest):\n",
    "            longest = even_palindrome\n",
    "\n",
    "    return longest\n",
    "def expand_around_center(string, left, right):\n",
    "    while left >= 0 and right < len(string) and string[left] == string[right]:\n",
    "        left -= 1\n",
    "        right += 1\n",
    "    return string[left + 1: right]\n",
    "\n",
    "input_string = \"babad\"\n",
    "result = longest_palindrome(input_string)\n",
    "print(\"Longest palindrome substring:\", result)"
   ]
  },
  {
   "cell_type": "markdown",
   "id": "068af945",
   "metadata": {},
   "source": [
    "### Q43. Write a program to find the number of occurrences of a given element in a list."
   ]
  },
  {
   "cell_type": "code",
   "execution_count": 82,
   "id": "68efd774",
   "metadata": {},
   "outputs": [
    {
     "name": "stdout",
     "output_type": "stream",
     "text": [
      "9  occurred  3  times\n"
     ]
    }
   ],
   "source": [
    "def countX(lst, x):\n",
    "    return lst.count(x)\n",
    "\n",
    "lst = [8, 6, 8, 10, 9, 20, 10, 9, 9]\n",
    "x = 9\n",
    "print( x,\" occurred \" ,countX(lst, x),\" times\")"
   ]
  },
  {
   "cell_type": "markdown",
   "id": "dee70a50",
   "metadata": {},
   "source": [
    "### Q44. Implement a function to check if a given number is a perfect number."
   ]
  },
  {
   "cell_type": "code",
   "execution_count": 83,
   "id": "30ca5f88",
   "metadata": {},
   "outputs": [
    {
     "name": "stdout",
     "output_type": "stream",
     "text": [
      "The number is a perfect number.\n"
     ]
    }
   ],
   "source": [
    "def is_perfect_number(number):\n",
    "    if number <= 0:\n",
    "        return False\n",
    "    \n",
    "    divisor_sum = 0\n",
    "    for i in range(1, number):\n",
    "        if number % i == 0:\n",
    "            divisor_sum += i\n",
    "    \n",
    "    return divisor_sum == number\n",
    "num = 28\n",
    "result = is_perfect_number(num)\n",
    "if result:\n",
    "    print(\"The number is a perfect number.\")\n",
    "else:\n",
    "    print(\"The number is not a perfect number.\")"
   ]
  },
  {
   "cell_type": "markdown",
   "id": "d863c491",
   "metadata": {},
   "source": [
    "### Q45. Write a Python program to remove all duplicates from a string."
   ]
  },
  {
   "cell_type": "code",
   "execution_count": 84,
   "id": "f8132115",
   "metadata": {},
   "outputs": [
    {
     "name": "stdout",
     "output_type": "stream",
     "text": [
      "String after removing duplicates: Wo!edH r,l\n"
     ]
    }
   ],
   "source": [
    "def remove_duplicates(string):\n",
    "\n",
    "    unique_chars = set(string)\n",
    "\n",
    "    result = ''.join(unique_chars)\n",
    "\n",
    "    return result\n",
    "\n",
    "\n",
    "input_string = \"Hello, World!\"\n",
    "result = remove_duplicates(input_string)\n",
    "print(\"String after removing duplicates:\", result)"
   ]
  },
  {
   "cell_type": "markdown",
   "id": "c896115c",
   "metadata": {},
   "source": [
    "### Q46. Implement a function to find the first missing positive"
   ]
  },
  {
   "cell_type": "code",
   "execution_count": 85,
   "id": "a2b7d584",
   "metadata": {},
   "outputs": [
    {
     "name": "stdout",
     "output_type": "stream",
     "text": [
      "The first missing positive integer is: 2\n"
     ]
    }
   ],
   "source": [
    "def find_first_missing_positive(nums):\n",
    "    \n",
    "    nums = [num for num in nums if num > 0]\n",
    "\n",
    "   \n",
    "    num_set = set(nums)\n",
    "\n",
    "    \n",
    "    i = 1\n",
    "    while i in num_set:\n",
    "        i += 1\n",
    "\n",
    "    return i\n",
    "\n",
    "\n",
    "number_list = [3, 4, -1, 1]\n",
    "result = find_first_missing_positive(number_list)\n",
    "print(\"The first missing positive integer is:\", result)"
   ]
  },
  {
   "cell_type": "code",
   "execution_count": null,
   "id": "e7e580d6",
   "metadata": {},
   "outputs": [],
   "source": []
  }
 ],
 "metadata": {
  "kernelspec": {
   "display_name": "Python 3 (ipykernel)",
   "language": "python",
   "name": "python3"
  },
  "language_info": {
   "codemirror_mode": {
    "name": "ipython",
    "version": 3
   },
   "file_extension": ".py",
   "mimetype": "text/x-python",
   "name": "python",
   "nbconvert_exporter": "python",
   "pygments_lexer": "ipython3",
   "version": "3.10.9"
  }
 },
 "nbformat": 4,
 "nbformat_minor": 5
}
