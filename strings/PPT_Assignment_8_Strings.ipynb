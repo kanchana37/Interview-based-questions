{
 "cells": [
  {
   "cell_type": "markdown",
   "metadata": {},
   "source": [
    "# PPT ASSIGNMENT-8 STRINGS"
   ]
  },
  {
   "cell_type": "markdown",
   "metadata": {},
   "source": [
    "### Q1.Given two strings s1 and s2, return the lowest ASCII sum of deleted characters to make two strings equal.\n",
    "\n",
    "**Example 1: Input: s1 = \"sea\", s2 = \"eat\"\n",
    "\n"
   ]
  },
  {
   "cell_type": "code",
   "execution_count": 50,
   "metadata": {},
   "outputs": [
    {
     "name": "stdout",
     "output_type": "stream",
     "text": [
      "231\n"
     ]
    }
   ],
   "source": [
    "def minimumDeleteSum(s1, s2):\n",
    "    m, n = len(s1), len(s2)\n",
    "\n",
    "    dp = [[0] * (n+1) for _ in range(m+1)]\n",
    "\n",
    "    for i in range(1, m+1):\n",
    "        for j in range(1, n+1):\n",
    "            if s1[i-1] == s2[j-1]:\n",
    "                dp[i][j] = dp[i-1][j-1] + ord(s1[i-1])\n",
    "            else:\n",
    "                dp[i][j] = max(dp[i-1][j], dp[i][j-1])\n",
    "\n",
    "    ascii_sum = sum(map(ord, s1)) + sum(map(ord, s2)) - 2 * dp[m][n]\n",
    "    return ascii_sum\n",
    "\n",
    "s1 = \"sea\"\n",
    "s2 = \"eat\"\n",
    "result = minimumDeleteSum(s1, s2)\n",
    "print(result)\n"
   ]
  },
  {
   "cell_type": "markdown",
   "metadata": {},
   "source": [
    "### complexity analysis\n",
    "1. The time complexity of the provided code is O(m * n), where m and n are the lengths of strings s1 and s2, respectively. This is because there is a nested loop iterating over the lengths of both strings.\n",
    "\n",
    "2. The space complexity is O(m * n) as well. "
   ]
  },
  {
   "cell_type": "markdown",
   "metadata": {},
   "source": [
    "### Q2.Given a string s containing only three types of characters: '(', ')' and '*', return true *if* s *is **valid***.\n",
    "\n",
    "The following rules define a **valid** string:\n",
    "\n",
    "- Any left parenthesis '(' must have a corresponding right parenthesis ')'.\n",
    "- Any right parenthesis ')' must have a corresponding left parenthesis '('.\n",
    "- Left parenthesis '(' must go before the corresponding right parenthesis ')'.\n",
    "- '*' could be treated as a single right parenthesis ')' or a single left parenthesis '(' or an empty string \"\".\n",
    "\n",
    "**Example 1:**\n",
    "\n",
    "**Input:** s = \"()\"\n"
   ]
  },
  {
   "cell_type": "code",
   "execution_count": 51,
   "metadata": {},
   "outputs": [
    {
     "name": "stdout",
     "output_type": "stream",
     "text": [
      "True\n"
     ]
    }
   ],
   "source": [
    "def checkValidString(s):\n",
    "    minOpen = maxOpen = 0\n",
    "\n",
    "    for char in s:\n",
    "        if char == '(':\n",
    "            minOpen += 1\n",
    "            maxOpen += 1\n",
    "        elif char == ')':\n",
    "            minOpen = max(0, minOpen - 1)\n",
    "            maxOpen -= 1\n",
    "        elif char == '*':\n",
    "            minOpen = max(0, minOpen - 1)\n",
    "            maxOpen += 1\n",
    "\n",
    "        if maxOpen < 0:\n",
    "            return False\n",
    "\n",
    "    return minOpen == 0\n",
    "\n",
    "s = \"()\"\n",
    "result = checkValidString(s)\n",
    "print(result)\n"
   ]
  },
  {
   "cell_type": "markdown",
   "metadata": {},
   "source": [
    "### complexity analysis\n",
    "1. Time Complexity: The code iterates through each character in the input string s once, performing constant-time operations for each character. Therefore, the time complexity of the code is O(n), where n is the length of the input string s.\n",
    "\n",
    "2. Space Complexity: The code uses two variables, minOpen and maxOpen, to track the minimum and maximum number of open parentheses encountered. These variables require constant space, regardless of the length of the input string. Hence, the space complexity of the code is O(1)."
   ]
  },
  {
   "cell_type": "markdown",
   "metadata": {},
   "source": [
    "### Q3. Given two strings word1 and word2, return the minimum number of steps required to make word1 and word2 the same.\n",
    "\n",
    "In one **step**, you can delete exactly one character in either string.\n",
    "\n",
    "**Example 1:**\n",
    "\n",
    "**Input:** word1 = \"sea\", word2 = \"eat\""
   ]
  },
  {
   "cell_type": "code",
   "execution_count": 1,
   "metadata": {},
   "outputs": [
    {
     "name": "stdout",
     "output_type": "stream",
     "text": [
      "eeat\n"
     ]
    }
   ],
   "source": [
    "def minSteps(word1, word2):\n",
    "    m, n = len(word1), len(word2)\n",
    "\n",
    "    dp = [[0] * (n+1) for _ in range(m+1)]\n",
    "\n",
    "    lcs = \"\"\n",
    "    for i in range(1, m+1):\n",
    "        for j in range(1, n+1):\n",
    "            if word1[i-1] == word2[j-1]:\n",
    "                dp[i][j] = dp[i-1][j-1] + 1\n",
    "                lcs += word1[i-1]  \n",
    "            else:\n",
    "                dp[i][j] = max(dp[i-1][j], dp[i][j-1])\n",
    "\n",
    "    return lcs\n",
    "\n",
    "word1 = \"seeast\"\n",
    "word2 = \"eat\"\n",
    "result = minSteps(word1, word2)\n",
    "print(result)\n"
   ]
  },
  {
   "cell_type": "markdown",
   "metadata": {},
   "source": [
    "The provided code finds the longest common subsequence (LCS) between two input words, word1 and word2. It uses a dynamic programming approach to build a table dp that stores the lengths of the LCS for different prefixes of word1 and word2. It also constructs the actual LCS by tracing back through the dp table."
   ]
  },
  {
   "cell_type": "markdown",
   "metadata": {},
   "source": [
    "### complexity analysis\n",
    "1. The time complexity of this algorithm is O(m * n), where m and n are the lengths of word1 and word2, respectively.\n",
    "2. The space complexity is O(m * n) because the algorithm uses a 2D dp array of size (m+1) x (n+1) to store the lengths of the LCS. "
   ]
  },
  {
   "cell_type": "markdown",
   "metadata": {},
   "source": [
    "### Q4. You need to construct a binary tree from a string consisting of parenthesis and integers.\n",
    "\n",
    "The whole input represents a binary tree. It contains an integer followed by zero, one or two pairs of parenthesis. The integer represents the root's value and a pair of parenthesis contains a child binary tree with the same structure.\n",
    "You always start to construct the **left** child node of the parent first if it exists.\n",
    "\n",
    "**Input:** s = \"4(2(3)(1))(6(5))\""
   ]
  },
  {
   "cell_type": "markdown",
   "metadata": {},
   "source": [
    "Ans4. To construct a binary tree from the given string format, we can use a **recursive approach**.\n",
    "The algorithm recursively constructs the binary tree by dividing the string into substrings representing the left and right subtrees. It uses the opening and closing parentheses to determine the boundaries of each subtree. The resulting binary tree reflects the structure described in the input string.\n",
    "\n",
    "Here's the implementation in Python:"
   ]
  },
  {
   "cell_type": "code",
   "execution_count": 34,
   "metadata": {},
   "outputs": [
    {
     "name": "stdout",
     "output_type": "stream",
     "text": [
      "4\n",
      "├──│   2\n",
      "│   ├──│   │   3\n",
      "│   │   ├──│   │   │   None\n",
      "│   │   └──│   │       None\n",
      "│   └──│       1\n",
      "│       ├──│       │   None\n",
      "│       └──│           None\n",
      "└──    6\n",
      "    ├──    │   5\n",
      "    │   ├──    │   │   None\n",
      "    │   └──    │       None\n",
      "    └──        None\n"
     ]
    }
   ],
   "source": [
    "class TreeNode:\n",
    "    def __init__(self, val=0, left=None, right=None):\n",
    "        self.val = val\n",
    "        self.left = left\n",
    "        self.right = right\n",
    "\n",
    "def buildTree(s):\n",
    "    if not s:\n",
    "        return None\n",
    "\n",
    "    i = s.find(\"(\")\n",
    "    val = int(s[:i]) if i != -1 else int(s[:-1])\n",
    "    node = TreeNode(val)\n",
    "\n",
    "    if i != -1:\n",
    "        j = findClosingParenthesis(s[i:])\n",
    "        node.left = buildTree(s[i+1:i+j])\n",
    "\n",
    "        k = s.find(\"(\", i+j)\n",
    "        if k != -1:\n",
    "            l = findClosingParenthesis(s[k:])\n",
    "            node.right = buildTree(s[k+1:k+l])\n",
    "\n",
    "    return node\n",
    "\n",
    "def findClosingParenthesis(s):\n",
    "    count = 0\n",
    "    for i, ch in enumerate(s):\n",
    "        if ch == \"(\":\n",
    "            count += 1\n",
    "        elif ch == \")\":\n",
    "            count -= 1\n",
    "            if count == 0:\n",
    "                return i+1\n",
    "    return -1\n",
    "\n",
    "def printTree(node, indent=\"\"):\n",
    "    if node is None:\n",
    "        print(indent + \"None\")\n",
    "        return\n",
    "\n",
    "    print(indent + str(node.val))\n",
    "    print(indent + \"├──\", end=\"\")\n",
    "    printTree(node.left, indent + \"│   \")\n",
    "    print(indent + \"└──\", end=\"\")\n",
    "    printTree(node.right, indent + \"    \")\n",
    "\n",
    "# Test the function\n",
    "s = \"4(2(3)(1))(6(5))\"\n",
    "root = buildTree(s)\n",
    "printTree(root)\n",
    "\n"
   ]
  },
  {
   "cell_type": "markdown",
   "metadata": {},
   "source": [
    "### complexity analysis\n",
    "1. The time complexity of the buildTree function is O(N), where N is the length of the input string s\n",
    "2. The space complexity of the buildTree function is O(N), where N is the length of the input string s. This is because the function uses recursion"
   ]
  },
  {
   "cell_type": "markdown",
   "metadata": {},
   "source": [
    "### Q5.Given an array of characters chars, compress it using the following algorithm:\n",
    "\n",
    "Begin with an empty string s. For each group of **consecutive repeating characters** in chars:\n",
    "\n",
    "- If the group's length is 1, append the character to s.\n",
    "- Otherwise, append the character followed by the group's length.\n",
    "\n",
    "The compressed string s **should not be returned separately**, but instead, be stored **in the input character array chars**. Note that group lengths that are 10 or longer will be split into multiple characters in chars.\n",
    "\n",
    "After you are done **modifying the input array,** return *the new length of the array*.\n",
    "\n",
    "You must write an algorithm that uses only constant extra space.\n",
    "\n",
    "**Example 1:**\n",
    "\n",
    "**Input:** chars = [\"a\",\"a\",\"b\",\"b\",\"c\",\"c\",\"c\"]\n",
    "\n"
   ]
  },
  {
   "cell_type": "markdown",
   "metadata": {},
   "source": [
    "Ans 5. To compress the input array chars according to the given algorithm, we can use **two pointers: readPtr to iterate over the original array and read characters, and writePtr to write the compressed characters back into the array.** We also need a variable **count** to keep track of the consecutive occurrences of a character."
   ]
  },
  {
   "cell_type": "code",
   "execution_count": 38,
   "metadata": {},
   "outputs": [],
   "source": [
    "def compress(chars):\n",
    "    if not chars:\n",
    "        return 0\n",
    "\n",
    "    writePtr = 0\n",
    "    count = 1\n",
    "\n",
    "    for readPtr in range(1, len(chars)):\n",
    "        if chars[readPtr] == chars[readPtr - 1]:\n",
    "            count += 1\n",
    "        else:\n",
    "            chars[writePtr] = chars[readPtr - 1]\n",
    "            writePtr += 1\n",
    "            if count > 1:\n",
    "                countStr = str(count)\n",
    "                for digit in countStr:\n",
    "                    chars[writePtr] = digit\n",
    "                    writePtr += 1\n",
    "            count = 1\n",
    "\n",
    "    chars[writePtr] = chars[-1]\n",
    "    writePtr += 1\n",
    "    if count > 1:\n",
    "        countStr = str(count)\n",
    "        for digit in countStr:\n",
    "            chars[writePtr] = digit\n",
    "            writePtr += 1\n",
    "\n",
    "    return writePtr\n",
    "\n"
   ]
  },
  {
   "cell_type": "code",
   "execution_count": 39,
   "metadata": {},
   "outputs": [
    {
     "name": "stdout",
     "output_type": "stream",
     "text": [
      "6\n",
      "['a', '2', 'b', '2', 'c', '3']\n"
     ]
    }
   ],
   "source": [
    "chars = [\"a\",\"a\",\"b\",\"b\",\"c\",\"c\",\"c\"]\n",
    "compressed_length = compress(chars)\n",
    "print(compressed_length) \n",
    "print(chars[:compressed_length])  \n"
   ]
  },
  {
   "cell_type": "markdown",
   "metadata": {},
   "source": [
    "### complexity analysis\n",
    "1. The time complexity of the algorithm is O(n), where n is the length of the input chars array. This is because we iterate through the chars array once to compress the characters.\n",
    "\n",
    "2. The space complexity of the algorithm is O(1) because it uses constant extra space. The compression is done in-place, modifying the chars array without using any additional data structures that grow with the input size."
   ]
  },
  {
   "cell_type": "markdown",
   "metadata": {},
   "source": [
    "### Q6. Given two strings s and p, return an array of all the start indices of p's anagrams in s. You may return the answer in any order.\n",
    "\n",
    "An **Anagram** is a word or phrase formed by rearranging the letters of a different word or phrase, typically using all the original letters exactly once.\n",
    "\n",
    "**Example 1:**\n",
    "\n",
    "**Input:** s = \"cbaebabacd\", p = \"abc\""
   ]
  },
  {
   "cell_type": "markdown",
   "metadata": {},
   "source": [
    "### Ans6. To find all the start indices of anagrams of string p in string s, we can use the sliding window technique.\n",
    "\n",
    "In this problem, we want to find the start indices of p's anagrams in s. We can use a sliding window of size equal to the length of p and slide it through s to check if it matches the anagram of p. By keeping track of the **counts of characters within the window using Counter objects, we can efficiently determine if the current window is an anagram of p**.\n",
    "The sliding window moves one step at a time, adjusting the counts of characters as we remove the character from the left side of the window and add the character on the right side. This approach allows us to compare the counts of characters in the window with the counts of characters in p to determine if they are anagrams.\n",
    "\n",
    "**By iterating through s and maintaining the sliding window, we can find all the start indices of p's anagrams efficiently**.\n",
    "\n",
    "\n",
    "Here's the implementation of the above algorithm in Python:"
   ]
  },
  {
   "cell_type": "code",
   "execution_count": 40,
   "metadata": {},
   "outputs": [
    {
     "name": "stdout",
     "output_type": "stream",
     "text": [
      "[0, 6]\n"
     ]
    }
   ],
   "source": [
    "from collections import Counter\n",
    "\n",
    "def findAnagrams(s, p):\n",
    "    result = []\n",
    "    n, m = len(s), len(p)\n",
    "    if n < m:\n",
    "        return result\n",
    "\n",
    "    p_count = Counter(p)\n",
    "    s_count = Counter()\n",
    "\n",
    "    for i in range(n):\n",
    "        s_count[s[i]] += 1\n",
    "\n",
    "        if i >= m:\n",
    "            if s_count[s[i - m]] == 1:\n",
    "                del s_count[s[i - m]]\n",
    "            else:\n",
    "                s_count[s[i - m]] -= 1\n",
    "\n",
    "        if s_count == p_count:\n",
    "            result.append(i - m + 1)\n",
    "\n",
    "    return result\n",
    "\n",
    "s = \"cbaebabacd\"\n",
    "p = \"abc\"\n",
    "indices = findAnagrams(s, p)\n",
    "print(indices)\n"
   ]
  },
  {
   "cell_type": "markdown",
   "metadata": {},
   "source": [
    "### complexity analysis\n",
    "1. The time complexity of this implementation is O(n), where n is the length of s, since we iterate through s only once. \n",
    "2. The space complexity is O(1) since the size of p_count and s_count remains constant regardless of the input size."
   ]
  },
  {
   "cell_type": "markdown",
   "metadata": {},
   "source": [
    "### Q7.Given an encoded string, return its decoded string. The encoding rule is: k[encoded_string], where the encoded_string inside the square brackets is being repeated exactly k times. Note that k is guaranteed to be a positive integer.\n",
    "\n",
    "You may assume that the input string is always valid; there are no extra white spaces, square brackets are well-formed, etc. Furthermore, you may assume that the original data does not contain any digits and that digits are only for those repeat numbers, k. For example, there will not be input like 3a or 2[4].\n",
    "\n",
    "The test cases are generated so that the length of the output will never exceed 105.\n",
    "\n",
    "**Example 1:**\n",
    "\n",
    "**Input:** s = \"3[a]2[bc]\""
   ]
  },
  {
   "cell_type": "markdown",
   "metadata": {},
   "source": [
    "#### Ans7. The algorithm utilizes a stack to handle the nested structure of the string and performs decoding by processing each character and maintaining the necessary state.\n",
    "\n",
    "Here's the implementation of the above algorithm in Python:"
   ]
  },
  {
   "cell_type": "code",
   "execution_count": 41,
   "metadata": {},
   "outputs": [
    {
     "name": "stdout",
     "output_type": "stream",
     "text": [
      "aaabcbc\n"
     ]
    }
   ],
   "source": [
    "def decodeString(s):\n",
    "    stack = []\n",
    "    current_str = \"\"\n",
    "    current_num = 0\n",
    "\n",
    "    for char in s:\n",
    "        if char.isdigit():\n",
    "            current_num = current_num * 10 + int(char)\n",
    "        elif char.isalpha():\n",
    "            current_str += char\n",
    "        elif char == \"[\":\n",
    "            stack.append((current_str, current_num))\n",
    "            current_str = \"\"\n",
    "            current_num = 0\n",
    "        elif char == \"]\":\n",
    "            prev_str, prev_num = stack.pop()\n",
    "            current_str = prev_str + prev_num * current_str\n",
    "\n",
    "    return current_str\n",
    "\n",
    "s = \"3[a]2[bc]\"\n",
    "decoded = decodeString(s)\n",
    "print(decoded)\n"
   ]
  },
  {
   "cell_type": "markdown",
   "metadata": {},
   "source": [
    "### complexity analysis\n",
    "1. The time complexity of the decodeString function is O(n), where n is the length of the input string s. This is because the function iterates through each character of the string exactly once.\n",
    "2. The space complexity of the decodeString function is O(n), where n is the length of the input string s."
   ]
  },
  {
   "cell_type": "markdown",
   "metadata": {},
   "source": [
    "### Q8. Given two strings s and goal, return true if you can swap two letters in s so the result is equal to goal, otherwise, return false. Swapping letters is defined as taking two indices i and j (0-indexed) such that i != j and swapping the characters at s[i] and s[j].\n",
    "\n",
    "- For example, swapping at indices 0 and 2 in \"abcd\" results in \"cbad\".\n",
    "\n",
    "**Example 1:**\n",
    "\n",
    "**Input:** s = \"ab\", goal = \"ba\""
   ]
  },
  {
   "cell_type": "markdown",
   "metadata": {},
   "source": [
    "Ans8. To determine if we can swap two letters in string s to obtain string goal, we need to check the following conditions:\n",
    "\n",
    "1. The lengths of s and goal should be equal.\n",
    "2. The number of character mismatches between s and goal should be exactly two.\n",
    "3. The positions of the mismatched characters should be such that swapping them in s will result in goal.\n",
    "\n",
    "Here is the algorithm to solve this problem:\n",
    "\n",
    "1. If the lengths of s and goal are not equal, return False.\n",
    "2. Initialize two variables, mismatches and index_diff, to keep track of the number of mismatches and the difference in indices between s and goal.\n",
    "3. Iterate over the characters in s and goal simultaneously.\n",
    "4. If the characters at the current indices are different:\n",
    "5. Increment mismatches by 1.\n",
    "6. If mismatches exceeds 2, return False as we can't swap more than two letters.\n",
    "7. Calculate the index difference and store it in index_diff.\n",
    "8. If mismatches is not equal to 2 or index_diff is not equal to 0, return False.\n",
    "Otherwise, return True.\n",
    "\n",
    "Here is the implementation of the algorithm in Python:"
   ]
  },
  {
   "cell_type": "code",
   "execution_count": 44,
   "metadata": {},
   "outputs": [
    {
     "name": "stdout",
     "output_type": "stream",
     "text": [
      "True\n"
     ]
    }
   ],
   "source": [
    "def canSwapLetters(s, goal):\n",
    "    if len(s) != len(goal):\n",
    "        return False\n",
    "\n",
    "    mismatches = []\n",
    "    for i in range(len(s)):\n",
    "        if s[i] != goal[i]:\n",
    "            mismatches.append(i)\n",
    "\n",
    "    return len(mismatches) == 2 and s[mismatches[0]] == goal[mismatches[1]] and s[mismatches[1]] == goal[mismatches[0]]\n",
    "\n",
    "\n",
    "#example usage\n",
    "s = \"ab\"\n",
    "goal = \"ba\"\n",
    "print(canSwapLetters(s, goal))  # Output: True\n",
    "\n"
   ]
  },
  {
   "cell_type": "markdown",
   "metadata": {},
   "source": [
    "### complexity analysis\n",
    "1. The time complexity of the algorithm is O(n), where n is the length of the strings s and goal. This is because the algorithm iterates through the characters of both strings once and performs a constant number of operations for each character.\n",
    "\n",
    "2. The space complexity of the algorithm is O(1) since it uses a constant amount of extra space to store variables and perform comparisons. "
   ]
  },
  {
   "cell_type": "code",
   "execution_count": null,
   "metadata": {},
   "outputs": [],
   "source": []
  }
 ],
 "metadata": {
  "kernelspec": {
   "display_name": "Python 3 (ipykernel)",
   "language": "python",
   "name": "python3"
  },
  "language_info": {
   "codemirror_mode": {
    "name": "ipython",
    "version": 3
   },
   "file_extension": ".py",
   "mimetype": "text/x-python",
   "name": "python",
   "nbconvert_exporter": "python",
   "pygments_lexer": "ipython3",
   "version": "3.10.9"
  }
 },
 "nbformat": 4,
 "nbformat_minor": 2
}
