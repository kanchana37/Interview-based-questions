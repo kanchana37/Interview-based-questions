{
 "cells": [
  {
   "cell_type": "markdown",
   "id": "a14b424b",
   "metadata": {},
   "source": [
    "## Question 1\n",
    "\n",
    "**A permutation perm of n + 1 integers of all the integers in the range [0, n] can be represented as a string s of length n where:**\n",
    "\n",
    "- s[i] == 'I' if perm[i] < perm[i + 1], and\n",
    "- s[i] == 'D' if perm[i] > perm[i + 1].\n",
    "\n",
    "Given a string s, reconstruct the permutation perm and return it. If there are multiple valid permutations perm, return **any of them**.\n",
    "\n",
    "**Example 1:**\n",
    "\n",
    "**Input:** s = \"IDID\"\n",
    "\n",
    "**Output:**\n",
    "\n",
    "[0,4,1,3,2]\n",
    "\n",
    "</aside>"
   ]
  },
  {
   "cell_type": "markdown",
   "id": "9c89bb9a",
   "metadata": {},
   "source": [
    "## Solution 1. "
   ]
  },
  {
   "cell_type": "markdown",
   "id": "52f3fd34",
   "metadata": {},
   "source": [
    "we can iterate through the given string s and construct the permutation perm based on the following observations:\n",
    "\n",
    "1. Initialize an empty list perm to store the reconstructed permutation.\n",
    "\n",
    "2. Initialize a variable n to store the length of s (which will be one less than the length of perm).\n",
    "\n",
    "3. Initialize two variables low and high to keep track of the lowest and highest available numbers for constructing the permutation.\n",
    "\n",
    "4. Set low to 0 and high to n.\n",
    "\n",
    "5. Iterate through each character c in the string s.\n",
    "\n",
    "  - If c is 'I', append the current value of low to perm and increment low by 1.\n",
    "  - If c is 'D', append the current value of high to perm and decrement high by 1.\n",
    "\n",
    "6. After the iteration, append the value of low (or high, they will be the same) to perm to complete the permutation.\n",
    "\n",
    "7. Return the reconstructed permutation perm."
   ]
  },
  {
   "cell_type": "code",
   "execution_count": 1,
   "id": "e22fcc49",
   "metadata": {},
   "outputs": [],
   "source": [
    "def findPermutation(s):\n",
    "    n = len(s)\n",
    "    perm = []\n",
    "    low, high = 0, n\n",
    "\n",
    "    for c in s:\n",
    "        if c == 'I':\n",
    "            perm.append(low)\n",
    "            low += 1\n",
    "        else:\n",
    "            perm.append(high)\n",
    "            high -= 1\n",
    "\n",
    "    perm.append(low)\n",
    "\n",
    "    return perm\n"
   ]
  },
  {
   "cell_type": "code",
   "execution_count": 2,
   "id": "3f0055e2",
   "metadata": {},
   "outputs": [
    {
     "name": "stdout",
     "output_type": "stream",
     "text": [
      "[0, 4, 1, 3, 2]\n"
     ]
    }
   ],
   "source": [
    "s = \"IDID\"\n",
    "print(findPermutation(s))\n"
   ]
  },
  {
   "cell_type": "markdown",
   "id": "90b152e8",
   "metadata": {},
   "source": [
    "## Question2.\n",
    "\n",
    "**You are given an m x n integer matrix matrix with the following two properties:**\n",
    "\n",
    "- Each row is sorted in non-decreasing order.\n",
    "- The first integer of each row is greater than the last integer of the previous row.\n",
    "\n",
    "Given an integer target, return true *if* target *is in* matrix *or* false *otherwise*.\n",
    "\n",
    "You must write a solution in O(log(m * n)) time complexity.\n"
   ]
  },
  {
   "cell_type": "markdown",
   "id": "f4c1c87e",
   "metadata": {},
   "source": [
    "## Solution 2"
   ]
  },
  {
   "cell_type": "markdown",
   "id": "8767f290",
   "metadata": {},
   "source": [
    "To solve this problem in O(log(m * n)) time complexity, we can use a binary search approach. We can treat the matrix as a flattened sorted array and perform a binary search on it.\n",
    "\n",
    "Here's the step-by-step algorithm:\n",
    "\n",
    "1. Initialize variables m and n to store the number of rows and columns in the matrix, respectively.\n",
    "\n",
    "2. Initialize variables left and right to represent the indices of the first and last elements in the flattened matrix.\n",
    "\n",
    "3. left is set to 0.\n",
    "\n",
    "4. right is set to m * n - 1.\n",
    "\n",
    "5. Perform a binary search while left <= right.\n",
    "\n",
    "6. Calculate the middle index as mid = (left + right) // 2.\n",
    "\n",
    "7. Convert mid back into row and column indices using row = mid // n and col = mid % n.\n",
    "\n",
    "8. Compare the value at the middle index matrix[row][col] with the target.\n",
    "\n",
    "9. If they are equal, return True.\n",
    "\n",
    "10. If the target is less than matrix[row][col], update right = mid - 1 to search in the left half of the matrix.\n",
    "\n",
    "11. If the target is greater than matrix[row][col], update left = mid + 1 to search in the right half of the matrix.\n",
    "\n",
    "12. If the binary search completes without finding the target, return False."
   ]
  },
  {
   "cell_type": "code",
   "execution_count": 3,
   "id": "32a6d6ad",
   "metadata": {},
   "outputs": [],
   "source": [
    "def searchMatrix(matrix, target):\n",
    "    m, n = len(matrix), len(matrix[0])\n",
    "    left, right = 0, m * n - 1\n",
    "\n",
    "    while left <= right:\n",
    "        mid = (left + right) // 2\n",
    "        row = mid // n\n",
    "        col = mid % n\n",
    "        if matrix[row][col] == target:\n",
    "            return True\n",
    "        elif matrix[row][col] < target:\n",
    "            left = mid + 1\n",
    "        else:\n",
    "            right = mid - 1\n",
    "\n",
    "    return False\n"
   ]
  },
  {
   "cell_type": "code",
   "execution_count": 4,
   "id": "ccbcb4db",
   "metadata": {},
   "outputs": [
    {
     "name": "stdout",
     "output_type": "stream",
     "text": [
      "True\n"
     ]
    }
   ],
   "source": [
    "matrix = [\n",
    "    [1, 3, 5, 7],\n",
    "    [10, 11, 16, 20],\n",
    "    [23, 30, 34, 60]\n",
    "]\n",
    "target = 3\n",
    "\n",
    "print(searchMatrix(matrix, target))\n"
   ]
  },
  {
   "cell_type": "markdown",
   "id": "e8a51622",
   "metadata": {},
   "source": [
    "## Question 3.\n",
    "\n",
    "**Given an array of integers arr, return true if and only if it is a valid mountain array.**\n",
    "\n",
    "Recall that arr is a mountain array if and only if:\n",
    "\n",
    "- arr.length >= 3\n",
    "- There exists some i with 0 < i < arr.length - 1 such that:\n",
    "    - arr[0] < arr[1] < ... < arr[i - 1] < arr[i]\n",
    "    - arr[i] > arr[i + 1] > ... > arr[arr.length - 1]\n"
   ]
  },
  {
   "cell_type": "markdown",
   "id": "8b016f6d",
   "metadata": {},
   "source": [
    "## Solution 3."
   ]
  },
  {
   "cell_type": "markdown",
   "id": "b334b8f4",
   "metadata": {},
   "source": [
    "To determine if an array is a valid mountain array, we can iterate through the elements of the array and check if the following conditions are met:\n",
    "\n",
    "1. The length of the array should be at least 3. If the length is less than 3, it cannot satisfy the mountain array conditions.\n",
    "\n",
    "2. Find the peak element peak_index in the array. The peak element is the maximum element in the array.\n",
    "\n",
    "3. If there are multiple peak elements, we can return False since a valid mountain array should have only one peak.\n",
    "\n",
    "4. If no peak element is found, return False as well.\n",
    "\n",
    "5. Check if the elements before the peak are in strictly increasing order.\n",
    "\n",
    "6. If any element is not strictly increasing, return False.\n",
    "\n",
    "7. Check if the elements after the peak are in strictly decreasing order.\n",
    "\n",
    "8. If any element is not strictly decreasing, return False.\n",
    "\n",
    "9. If all conditions are satisfied, return True."
   ]
  },
  {
   "cell_type": "code",
   "execution_count": 5,
   "id": "c4e837da",
   "metadata": {},
   "outputs": [],
   "source": [
    "def validMountainArray(arr):\n",
    "    n = len(arr)\n",
    "    if n < 3:\n",
    "        return False\n",
    "\n",
    "    # Find the peak element\n",
    "    peak_index = arr.index(max(arr))\n",
    "    if peak_index == 0 or peak_index == n - 1:\n",
    "        return False\n",
    "\n",
    "    # Check the elements before the peak\n",
    "    for i in range(peak_index):\n",
    "        if arr[i] >= arr[i + 1]:\n",
    "            return False\n",
    "\n",
    "    # Check the elements after the peak\n",
    "    for i in range(peak_index, n - 1):\n",
    "        if arr[i] <= arr[i + 1]:\n",
    "            return False\n",
    "\n",
    "    return True\n"
   ]
  },
  {
   "cell_type": "code",
   "execution_count": 6,
   "id": "c6bead9c",
   "metadata": {},
   "outputs": [
    {
     "name": "stdout",
     "output_type": "stream",
     "text": [
      "False\n",
      "False\n",
      "True\n",
      "False\n",
      "True\n"
     ]
    }
   ],
   "source": [
    "arr1 = [2, 1]\n",
    "arr2 = [3, 5, 5]\n",
    "arr3 = [0, 3, 2, 1]\n",
    "arr4 = [1, 2, 3, 4, 5]\n",
    "arr5 = [1, 2, 3, 4, 5, 2, 1]\n",
    "\n",
    "print(validMountainArray(arr1))  # False\n",
    "print(validMountainArray(arr2))  # False\n",
    "print(validMountainArray(arr3))  # True\n",
    "print(validMountainArray(arr4))  # False\n",
    "print(validMountainArray(arr5))  # True\n"
   ]
  },
  {
   "cell_type": "markdown",
   "id": "2835d11e",
   "metadata": {},
   "source": [
    "### Question 4.\n",
    "\n",
    "**Given a binary array nums, return the maximum length of a contiguous subarray with an equal number of 0 and 1.**\n",
    "\n",
    "**Example 1:**\n",
    "\n",
    "**Input:** nums = [0,1]\n",
    "\n",
    "**Output:** 2\n",
    "\n",
    "**Explanation:**\n",
    "\n",
    "[0, 1] is the longest contiguous subarray with an equal number of 0 and 1.\n"
   ]
  },
  {
   "cell_type": "markdown",
   "id": "7c10281d",
   "metadata": {},
   "source": [
    "## Solution 4"
   ]
  },
  {
   "cell_type": "markdown",
   "id": "eabbbded",
   "metadata": {},
   "source": [
    "To find the maximum length of a contiguous subarray with an equal number of 0s and 1s in a binary array, we can use the following approach:\n",
    "\n",
    "1. Initialize a variable max_length to store the maximum length found so far, and a variable count to store the running count of 0s and 1s.\n",
    "\n",
    "2. Create a dictionary count_map to store the running count as the key and the corresponding index as the value. Initialize count_map with a single entry: {0: -1}.\n",
    "    \n",
    "3. The initial entry in the dictionary is used to handle the case when the subarray with an equal number of 0s and 1s starts from the beginning of the array.\n",
    "\n",
    "4. Iterate through the binary array nums.\n",
    "\n",
    "5. Increment count by 1 if the current element is 1, and decrement it by 1 if the current element is 0.\n",
    "\n",
    "6. If count is already present in count_map, calculate the length of the subarray from the previous occurrence of count to the current index, and update max_length if necessary.\n",
    "\n",
    "7. If count is not present in count_map, add it to count_map with the current index as the value.\n",
    "\n",
    "8.  max_length."
   ]
  },
  {
   "cell_type": "code",
   "execution_count": 7,
   "id": "5484d52b",
   "metadata": {},
   "outputs": [],
   "source": [
    "def findMaxLength(nums):\n",
    "    count_map = {0: -1}\n",
    "    max_length = 0\n",
    "    count = 0\n",
    "\n",
    "    for i, num in enumerate(nums):\n",
    "        count += 1 if num == 1 else -1\n",
    "\n",
    "        if count in count_map:\n",
    "            subarray_length = i - count_map[count]\n",
    "            max_length = max(max_length, subarray_length)\n",
    "        else:\n",
    "            count_map[count] = i\n",
    "\n",
    "    return max_length\n"
   ]
  },
  {
   "cell_type": "code",
   "execution_count": 8,
   "id": "d52395ba",
   "metadata": {},
   "outputs": [
    {
     "name": "stdout",
     "output_type": "stream",
     "text": [
      "2\n"
     ]
    }
   ],
   "source": [
    "nums = [0, 1]\n",
    "print(findMaxLength(nums))\n"
   ]
  },
  {
   "cell_type": "markdown",
   "id": "aefc9e15",
   "metadata": {},
   "source": [
    "## Question 5.\n",
    "\n",
    "**The product sum of two equal-length arrays a and b is equal to the sum of a[i] * b[i] for all 0 <= i < a.length (0-indexed).**\n",
    "\n",
    "- For example, if a = [1,2,3,4] and b = [5,2,3,1], the **product sum** would be 1*5 + 2*2 + 3*3 + 4*1 = 22.\n",
    "\n",
    "Given two arrays nums1 and nums2 of length n, return *the **minimum product sum** if you are allowed to **rearrange** the **order** of the elements in* nums1.\n",
    "\n",
    "**Example 1:**\n",
    "\n",
    "**Input:** nums1 = [5,3,4,2], nums2 = [4,2,2,5]\n",
    "\n",
    "**Output:** 40\n",
    "\n",
    "**Explanation:**\n",
    "\n",
    "We can rearrange nums1 to become [3,5,4,2]. The product sum of [3,5,4,2] and [4,2,2,5] is 3*4 + 5*2 + 4*2 + 2*5 = 40.\n",
    "\n",
    "</aside>"
   ]
  },
  {
   "cell_type": "markdown",
   "id": "933f713c",
   "metadata": {},
   "source": [
    "## Solution 5."
   ]
  },
  {
   "cell_type": "markdown",
   "id": "d44cc789",
   "metadata": {},
   "source": [
    "To find the minimum product sum by rearranging the elements in nums1, we can follow these steps:\n",
    "\n",
    "1. Sort both nums1 and nums2 arrays in non-decreasing order.\n",
    "\n",
    "2. Initialize a variable min_product_sum to store the minimum product sum.\n",
    "\n",
    "3. Iterate through the sorted arrays and calculate the product sum of corresponding elements, starting from the beginning and end of the arrays.\n",
    "\n",
    "4. Multiply the smallest element from nums1 with the largest element from nums2, and add it to the min_product_sum.\n",
    "\n",
    "5. Move to the next smallest element in nums1 and the next largest element in nums2.\n",
    "\n",
    "6. Return the min_product_sum."
   ]
  },
  {
   "cell_type": "code",
   "execution_count": 10,
   "id": "19f9b8a8",
   "metadata": {},
   "outputs": [],
   "source": [
    "def minProductSum(nums1, nums2):\n",
    "    nums1.sort()\n",
    "    nums2.sort(reverse=True)\n",
    "\n",
    "    min_product_sum = 0\n",
    "    for i in range(len(nums1)):\n",
    "        min_product_sum += nums1[i] * nums2[i]\n",
    "\n",
    "    return min_product_sum\n"
   ]
  },
  {
   "cell_type": "code",
   "execution_count": 11,
   "id": "5b0c6c3f",
   "metadata": {},
   "outputs": [
    {
     "name": "stdout",
     "output_type": "stream",
     "text": [
      "40\n"
     ]
    }
   ],
   "source": [
    "nums1 = [5, 3, 4, 2]\n",
    "nums2 = [4, 2, 2, 5]\n",
    "print(minProductSum(nums1, nums2))\n"
   ]
  },
  {
   "cell_type": "markdown",
   "id": "e9f65492",
   "metadata": {},
   "source": [
    "## Question 6\n",
    "\n",
    "An integer array original is transformed into a **doubled array** changed by appending **twice the value** of every element in original, and then randomly **shuffling the resulting array.**\n",
    "\n",
    "**Given an array changed, return original if changed is a doubled array. If changed is not a doubled array, return an empty array. The elements in original may be returned in any order.**\n",
    "\n",
    "**Example 1:**\n",
    "\n",
    "**Input:** changed = [1,3,4,2,6,8]\n",
    "\n",
    "**Output:** [1,3,4]\n",
    "\n",
    "**Explanation:** One possible original array could be [1,3,4]:\n",
    "\n",
    "- Twice the value of 1 is 1 * 2 = 2.\n",
    "- Twice the value of 3 is 3 * 2 = 6.\n",
    "- Twice the value of 4 is 4 * 2 = 8.\n",
    "\n",
    "Other original arrays could be [4,3,1] or [3,1,4].\n",
    "\n",
    "</aside>"
   ]
  },
  {
   "cell_type": "markdown",
   "id": "6d4a520f",
   "metadata": {},
   "source": [
    "## Solution 6. "
   ]
  },
  {
   "cell_type": "markdown",
   "id": "d3ff2e8c",
   "metadata": {},
   "source": [
    "1. Sort the changed array in non-decreasing order.\n",
    "\n",
    "2. Create a dictionary count to store the count of each element in the changed array.\n",
    "\n",
    "3. Iterate through the sorted changed array and perform the following checks:\n",
    "    \n",
    "4. If the current element is divisible by 2 and its half is present in the count dictionary with a count greater than 0, decrement the count of the half element and continue.\n",
    "\n",
    "5. If the above condition is not met, return an empty array since the changed array cannot be transformed from any valid original array.\n",
    "\n",
    "6. Create an empty list original to store the original array.\n",
    "\n",
    "7. Iterate through the sorted changed array again and for each element, append its half to the original list.\n",
    "\n",
    "8. Return the original list."
   ]
  },
  {
   "cell_type": "code",
   "execution_count": 12,
   "id": "5cc7ef34",
   "metadata": {},
   "outputs": [],
   "source": [
    "def findOriginalArray(changed):\n",
    "    changed.sort()\n",
    "    count = {}\n",
    "    original = []\n",
    "\n",
    "    for num in changed:\n",
    "        count[num] = count.get(num, 0) + 1\n",
    "\n",
    "    for num in changed:\n",
    "        if count.get(num, 0) > 0:\n",
    "            if num % 2 == 0 and count.get(num // 2, 0) > 0:\n",
    "                count[num] -= 1\n",
    "                count[num // 2] -= 1\n",
    "                original.append(num // 2)\n",
    "\n",
    "    if sum(count.values()) > 0:\n",
    "        return []\n",
    "\n",
    "    return original\n"
   ]
  },
  {
   "cell_type": "code",
   "execution_count": 13,
   "id": "d4266161",
   "metadata": {},
   "outputs": [
    {
     "name": "stdout",
     "output_type": "stream",
     "text": [
      "[1, 3, 4]\n"
     ]
    }
   ],
   "source": [
    "changed = [1, 3, 4, 2, 6, 8]\n",
    "print(findOriginalArray(changed))\n"
   ]
  },
  {
   "cell_type": "markdown",
   "id": "560dff70",
   "metadata": {},
   "source": [
    "## Question 7\n",
    "\n",
    "**Given a positive integer n, generate an n x n matrix filled with elements from 1 to n2 in spiral order.**\n",
    "\n",
    "**Input:** n = 3\n",
    "\n",
    "**Output:** [[1,2,3],[8,9,4],[7,6,5]]\n"
   ]
  },
  {
   "cell_type": "markdown",
   "id": "5567d48e",
   "metadata": {},
   "source": [
    "## Solution 7"
   ]
  },
  {
   "cell_type": "markdown",
   "id": "4f0fbc95",
   "metadata": {},
   "source": [
    "Ans7. To generate an n x n matrix filled with elements from 1 to n^2 in spiral order:\n",
    "\n",
    "1. Initialize an empty matrix of size n x n.\n",
    "2. Set the boundaries of rows (rowStart and rowEnd) and columns (colStart and colEnd).\n",
    "3. Initialize a counter variable to keep track of the current value to be filled.\n",
    "4. Iterate in a spiral pattern:\n",
    "5. Fill the top row from left to right.\n",
    "6. Move the boundary of the top row down.\n",
    "7. Fill the right column from top to bottom.\n",
    "8. Move the boundary of the right column to the left.\n",
    "9. Fill the bottom row from right to left (if it exists).\n",
    "10. Move the boundary of the bottom row up (if it exists).\n",
    "11. Fill the left column from bottom to top (if it exists).\n",
    "12. Move the boundary of the left column to the right (if it exists).\n",
    "13. Return the filled matrix."
   ]
  },
  {
   "cell_type": "code",
   "execution_count": 7,
   "id": "1da54625",
   "metadata": {},
   "outputs": [
    {
     "name": "stdout",
     "output_type": "stream",
     "text": [
      "[1, 2, 3]\n",
      "[8, 9, 4]\n",
      "[7, 6, 5]\n"
     ]
    }
   ],
   "source": [
    "def generate_spiral_matrix(n):\n",
    "    matrix = [[0] * n for _ in range(n)]\n",
    "    rowStart, rowEnd = 0, n - 1\n",
    "    colStart, colEnd = 0, n - 1\n",
    "    counter = 1\n",
    "\n",
    "    while rowStart <= rowEnd and colStart <= colEnd:\n",
    "        # Fill top row\n",
    "        for i in range(colStart, colEnd + 1):\n",
    "            matrix[rowStart][i] = counter\n",
    "            counter += 1\n",
    "        rowStart += 1\n",
    "\n",
    "        # Fill right column\n",
    "        for i in range(rowStart, rowEnd + 1):\n",
    "            matrix[i][colEnd] = counter\n",
    "            counter += 1\n",
    "        colEnd -= 1\n",
    "\n",
    "        # Fill bottom row\n",
    "        if rowStart <= rowEnd:\n",
    "            for i in range(colEnd, colStart - 1, -1):\n",
    "                matrix[rowEnd][i] = counter\n",
    "                counter += 1\n",
    "            rowEnd -= 1\n",
    "\n",
    "        # Fill left column\n",
    "        if colStart <= colEnd:\n",
    "            for i in range(rowEnd, rowStart - 1, -1):\n",
    "                matrix[i][colStart] = counter\n",
    "                counter += 1\n",
    "            colStart += 1\n",
    "\n",
    "    return matrix\n",
    "\n",
    "n = 3\n",
    "spiral_matrix = generate_spiral_matrix(n)\n",
    "for row in spiral_matrix:\n",
    "    print(row)\n"
   ]
  },
  {
   "cell_type": "markdown",
   "id": "fde7b280",
   "metadata": {},
   "source": [
    "## Question 8\n",
    "\n",
    "**Given two [sparse matrices](https://en.wikipedia.org/wiki/Sparse_matrix) mat1 of size m x k and mat2 of size k x n, return the result of mat1 x mat2. You may assume that multiplication is always possible.**\n"
   ]
  },
  {
   "cell_type": "markdown",
   "id": "57cc73c9",
   "metadata": {},
   "source": [
    "To perform matrix multiplication on the given sparse matrices mat1 and mat2, we can follow the following steps:\n",
    "\n",
    "1. Initialize an empty result matrix result of size m x n, where m is the number of rows in mat1 and n is the number of columns in mat2.\n",
    "\n",
    "2. Iterate over the rows of mat1, and for each row, iterate over the columns of mat2.\n",
    "\n",
    "3. For each element mat1[i][j] in mat1, check if it is non-zero.\n",
    "\n",
    "4. If it is zero, continue to the next iteration.\n",
    "\n",
    "5. If it is non-zero, iterate over the corresponding column mat2[:,j] of mat2 (all elements in the jth column).\n",
    "\n",
    "6. For each non-zero element mat2[k][j] in the column, multiply mat1[i][j] with mat2[k][j] and add the result to the corresponding position result[i][k] in the result matrix.\n",
    "\n",
    "7. After iterating over all the elements in mat1 and mat2, return the resulting matrix result.\n"
   ]
  },
  {
   "cell_type": "code",
   "execution_count": 1,
   "id": "ae77321e",
   "metadata": {},
   "outputs": [],
   "source": [
    "def multiply_sparse_matrices(mat1, mat2):\n",
    "    m, k = len(mat1), len(mat1[0])\n",
    "    k2, n = len(mat2), len(mat2[0])\n",
    "\n",
    "    result = [[0] * n for _ in range(m)]\n",
    "\n",
    "    for i in range(m):\n",
    "        for j in range(k):\n",
    "            if mat1[i][j] != 0:\n",
    "                for p in range(n):\n",
    "                    result[i][p] += mat1[i][j] * mat2[j][p]\n",
    "\n",
    "    return result\n"
   ]
  },
  {
   "cell_type": "code",
   "execution_count": 2,
   "id": "8980f171",
   "metadata": {},
   "outputs": [
    {
     "name": "stdout",
     "output_type": "stream",
     "text": [
      "[[7, 0, 0], [-7, 0, 3]]\n"
     ]
    }
   ],
   "source": [
    "mat1 = [[1, 0, 0], [-1, 0, 3]]\n",
    "mat2 = [[7, 0, 0], [0, 0, 0], [0, 0, 1]]\n",
    "\n",
    "result = multiply_sparse_matrices(mat1, mat2)\n",
    "print(result)\n"
   ]
  },
  {
   "cell_type": "code",
   "execution_count": null,
   "id": "fb790da5",
   "metadata": {},
   "outputs": [],
   "source": []
  }
 ],
 "metadata": {
  "kernelspec": {
   "display_name": "Python 3 (ipykernel)",
   "language": "python",
   "name": "python3"
  },
  "language_info": {
   "codemirror_mode": {
    "name": "ipython",
    "version": 3
   },
   "file_extension": ".py",
   "mimetype": "text/x-python",
   "name": "python",
   "nbconvert_exporter": "python",
   "pygments_lexer": "ipython3",
   "version": "3.10.9"
  }
 },
 "nbformat": 4,
 "nbformat_minor": 5
}
