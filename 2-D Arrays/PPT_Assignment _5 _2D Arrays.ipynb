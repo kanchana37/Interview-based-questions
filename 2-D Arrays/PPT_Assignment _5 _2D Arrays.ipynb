{
 "cells": [
  {
   "cell_type": "markdown",
   "id": "0a634a7b",
   "metadata": {},
   "source": [
    "# PPT_Assignment_2d Arrays"
   ]
  },
  {
   "cell_type": "markdown",
   "id": "a4af00d1",
   "metadata": {},
   "source": [
    "### Q.1. Convert 1D Array Into 2D Array.\n",
    "### You are given a 0-indexed 1-dimensional (1D) integer array original, and two integers, m and n. You are tasked with creating a 2-dimensional (2D) array with m rows and n columns using all the elements from original. The elements from indices 0 to n - 1 (inclusive) of original should form the first row of the constructed 2D array, the elements from indices n to 2 * n - 1 (inclusive) should form the second row of the constructed 2D array, and so on.Return an m x n 2D array constructed according to the above procedure, or an empty 2D array if it is impossible."
   ]
  },
  {
   "cell_type": "markdown",
   "id": "38ad7af3",
   "metadata": {},
   "source": [
    "Ans 1. Here are the steps involved in the algorithm to convert a 1D array into a 2D array:\n",
    "\n",
    "1. First, the algorithm checks if it's possible to form a valid 2D array with the given dimensions. It verifies whether the product of the number of rows (m) and the number of columns (n) is equal to the length of the original array. If not, it returns an empty array, indicating that it is not possible to form a valid 2D array.\n",
    "\n",
    "2. If the dimensions are valid, the algorithm proceeds to create the 2D array.\n",
    "\n",
    "3. The algorithm uses list comprehension to generate a new list of sublists. Each sublist represents a row in the 2D array.\n",
    "\n",
    "4. In each iteration of the list comprehension, the algorithm extracts a chunk of n elements from the original array. The original[i:i+n] slice notation selects n elements starting from index i.\n",
    "\n",
    "5. The range function is used to generate the appropriate start indices (i) for each sublist. It starts from 0 and increments by n in each iteration, ensuring that each sublist starts from the next appropriate index in the original array.\n",
    "\n",
    "6. The resulting sublists are collected as rows of the 2D array.\n",
    "\n",
    "7. Finally, the algorithm returns the resulting 2D array.\n",
    "\n"
   ]
  },
  {
   "cell_type": "code",
   "execution_count": 1,
   "id": "fb58d2b6",
   "metadata": {},
   "outputs": [
    {
     "name": "stdout",
     "output_type": "stream",
     "text": [
      "[[1, 2], [3, 4]]\n"
     ]
    }
   ],
   "source": [
    "def construct2DArray(original, m, n):\n",
    "    if m * n != len(original):\n",
    "        return []\n",
    "\n",
    "    return [original[i:i+n] for i in range(0, len(original), n)]\n",
    "\n",
    "original = [1, 2, 3, 4]\n",
    "m = 2\n",
    "n = 2\n",
    "\n",
    "print(construct2DArray(original, m, n))"
   ]
  },
  {
   "cell_type": "markdown",
   "id": "ecf53366",
   "metadata": {},
   "source": [
    "### Complexity analysis\n",
    "1. The time complexity of the solution to convert a 1D array into a 2D array, given the constraints you mentioned, would be O(m * n), where m is the number of rows and n is the number of columns.\n",
    "2. The space complexity of the solution is also O(m * n) because you are creating a new 2D array with m rows and n columns to store the converted elements."
   ]
  },
  {
   "attachments": {
    "PPT4_Q5.jpg": {
     "image/jpeg": "[encoded data removed]"
    }
   },
   "cell_type": "markdown",
   "id": "e153498f",
   "metadata": {},
   "source": [
    "### Q.2. You have n coins and you want to build a staircase with these coins. The staircase consists of k rows where the ith row has exactly i coins. The last row of the staircase may be incomplete. Given the integer n, return the number of complete rows of the staircase you will build.\n",
    "\n",
    "**Example 1:**\n",
    "    \n",
    "![PPT4_Q5.jpg](attachment:PPT4_Q5.jpg)\n"
   ]
  },
  {
   "cell_type": "code",
   "execution_count": 2,
   "id": "c99b9dca",
   "metadata": {},
   "outputs": [
    {
     "name": "stdout",
     "output_type": "stream",
     "text": [
      "2\n"
     ]
    }
   ],
   "source": [
    "class Solution:\n",
    "    def arrangeCoins(self, n: int) -> int:\n",
    "        if n==1:\n",
    "            return 1\n",
    "        l=0\n",
    "        r=n//2 + 1\n",
    "        while l<=r:\n",
    "            m = l+(r-l)//2\n",
    "            x = (m*(m+1)//2)\n",
    "            if x==n:\n",
    "                return(m)\n",
    "            elif x<n:\n",
    "                l = m+1\n",
    "            else:\n",
    "                r=m-1\n",
    "        return(l-1)\n",
    "    \n",
    "s = Solution()\n",
    "\n",
    "print(s.arrangeCoins(5))"
   ]
  },
  {
   "cell_type": "markdown",
   "id": "9aced076",
   "metadata": {},
   "source": [
    "### complexity analysis\n",
    "1. The time complexity of the provided solution is O(log n) because it uses binary search to find the largest possible value of k.\n",
    "2. The space complexity is O(1) because the algorithm only uses a constant amount of additional space to store variables such as l, r, m, and x"
   ]
  },
  {
   "cell_type": "markdown",
   "id": "4b37c723",
   "metadata": {},
   "source": [
    "### Q.3. Given an integer array nums sorted in non-decreasing order, return an array of the squares of each number sorted in non-decreasing order."
   ]
  },
  {
   "cell_type": "markdown",
   "id": "ffb9d1cb",
   "metadata": {},
   "source": [
    "### Ans3. we use a two-pointer approach to solve this problem.\n",
    "\n",
    "#### algorithm:\n",
    "1. Initialize an empty result array to store the squared numbers.\n",
    "2. Initialize two pointers, left and right, pointing to the start and end of the input array nums.\n",
    "3. compare the squares of the numbers at nums[left] and nums[right]. \n",
    "4. Store the larger square at the end of the result array (result[index]). \n",
    "5. Then, we move the corresponding pointer (left or right) and decrement the index.\n",
    "6. Finally, the function returns the *result* array, which contains the squares of the numbers in *nums* sorted in non-decreasing order.\n",
    "\n",
    "Here's the implementation of the above algorithm in Python:"
   ]
  },
  {
   "cell_type": "code",
   "execution_count": 3,
   "id": "3e3e95f9",
   "metadata": {},
   "outputs": [],
   "source": [
    "def sortedSquares(nums):\n",
    "    n = len(nums)\n",
    "    result = [0] * n\n",
    "    left = 0\n",
    "    right = n - 1\n",
    "    index = n - 1\n",
    "\n",
    "    while left <= right:\n",
    "        left_square = nums[left] ** 2\n",
    "        right_square = nums[right] ** 2\n",
    "\n",
    "        if left_square > right_square:\n",
    "            result[index] = left_square\n",
    "            left += 1\n",
    "        else:\n",
    "            result[index] = right_square\n",
    "            right -= 1\n",
    "\n",
    "        index -= 1\n",
    "\n",
    "    return result"
   ]
  },
  {
   "cell_type": "markdown",
   "id": "7feb1ca4",
   "metadata": {},
   "source": [
    "### Complexity analysis\n",
    "\n",
    "1. The time complexity of this algorithm is O(n), where n is the length of the input array nums, as we perform a single pass through the array. \n",
    "2. The space complexity is O(n) since we create a result array of the same length as nums."
   ]
  },
  {
   "cell_type": "markdown",
   "id": "9ecdde1c",
   "metadata": {},
   "source": [
    "### Q.4. Given two 0-indexed integer arrays nums1 and nums2, return a list answer of size 2  where:\n",
    "\n",
    "- answer[0] is a list of all **distinct** integers in nums1 which are **not** present in nums2.\n",
    "- answer[1] is a list of all **distinct** integers in nums2 which are **not** present in nums1.\n",
    "\n",
    "**Note** that the integers in the lists may be returned in **any** order."
   ]
  },
  {
   "cell_type": "code",
   "execution_count": 4,
   "id": "cc145118",
   "metadata": {},
   "outputs": [
    {
     "name": "stdout",
     "output_type": "stream",
     "text": [
      "[[1, 3], [4, 6]]\n"
     ]
    }
   ],
   "source": [
    "def findDisappearedNumbers(nums1, nums2):\n",
    "    set1 = set(nums1)\n",
    "    set2 = set(nums2)\n",
    "\n",
    "    return [list(set1 - set2), list(set2 - set1)]\n",
    "\n",
    "nums1 = [1, 2, 3]\n",
    "nums2 = [2, 4, 6]\n",
    "\n",
    "print(findDisappearedNumbers(nums1, nums2))"
   ]
  },
  {
   "cell_type": "markdown",
   "id": "924705b0",
   "metadata": {},
   "source": [
    "This implementation converts both nums1 and nums2 into sets, set1 and set2, respectively. It then calculates the set difference between set1 and set2 to find the distinct elements in set1 not present in set2. Similarly, it calculates the set difference between set2 and set1 to find the distinct elements in set2 not present in set1.\n",
    "\n",
    "The result is returned as a list containing the two lists of distinct numbers. "
   ]
  },
  {
   "cell_type": "markdown",
   "id": "c900c5a5",
   "metadata": {},
   "source": [
    "### complexity analysis\n",
    "1. The time complexity of O(n1 + n2), where n1 and n2 are the lengths of nums1 and nums2, respectively, because it involves creating sets and performing set difference operations. \n",
    "2. The space complexity is also O(n1 + n2) since the resulting lists contain the distinct elements and can be up to the lengths of the sets."
   ]
  },
  {
   "cell_type": "markdown",
   "id": "052ef2c8",
   "metadata": {},
   "source": [
    "### Q.5. Given two integer arrays arr1 and arr2, and the integer d, return the distance value between the two arrays.\n",
    "\n",
    "The distance value is defined as the number of elements arr1[i] such that there is not any element arr2[j] where |arr1[i]-arr2[j]| <= d.\n",
    "\n",
    "**Example 1:**\n",
    "\n",
    "**Input:** arr1 = [4,5,8], arr2 = [10,9,1,8], d = 2\n"
   ]
  },
  {
   "cell_type": "markdown",
   "id": "f5287a38",
   "metadata": {},
   "source": [
    "Ans5. To solve this problem we can use **brute force approach**. It involves nested loops where each element of arr1 is compared with every element of arr2 to check if the absolute difference between them is less than or equal to d."
   ]
  },
  {
   "cell_type": "code",
   "execution_count": 5,
   "id": "863fbf6a",
   "metadata": {},
   "outputs": [
    {
     "name": "stdout",
     "output_type": "stream",
     "text": [
      "2\n"
     ]
    }
   ],
   "source": [
    "def findTheDistanceValue(arr1, arr2, d):\n",
    "    distance = 0\n",
    "\n",
    "    for num1 in arr1:\n",
    "        for num2 in arr2:\n",
    "            if abs(num1 - num2) <= d:\n",
    "                break\n",
    "        else:\n",
    "            distance += 1\n",
    "\n",
    "    return distance\n",
    "\n",
    "arr1 = [4, 5, 8]\n",
    "arr2 = [10, 9, 1, 8]\n",
    "d = 2\n",
    "\n",
    "print(findTheDistanceValue(arr1, arr2, d))"
   ]
  },
  {
   "cell_type": "markdown",
   "id": "82954e0a",
   "metadata": {},
   "source": [
    "### complexity analysis\n",
    "1. The time complexity of this solution is O(n1 * n2), where n1 and n2 are the lengths of arr1 and arr2, respectively. This is because the algorithm has nested loops iterating through both arrays. In the worst case, it needs to compare every element of arr1 with every element of arr2.\n",
    "\n",
    "2. The space complexity is O(1) because the algorithm only uses a constant amount of extra space to store the count variable."
   ]
  },
  {
   "cell_type": "markdown",
   "id": "a181badd",
   "metadata": {},
   "source": [
    "### Q.6. Given an integer array nums of length n where all the integers of nums are in the range [1, n] and each integer appears once or twice, return *an array of all the integers that appears twice.\n",
    "\n",
    "You must write an algorithm that runs in O(n) time and uses only constant extra space.\n",
    "\n",
    "**Example 1:**\n",
    "\n",
    "**Input:** nums = [4,3,2,7,8,2,3,1]"
   ]
  },
  {
   "cell_type": "markdown",
   "id": "45519279",
   "metadata": {},
   "source": [
    "Ans6. To solve this problem within the given constraints, you can use the concept of **negation marking**.\" The algorithm follows these steps:\n",
    "\n",
    "1. Initialize an empty list result to store the integers that appear twice.\n",
    "2. Iterate through each element num in the nums array.\n",
    "3. Take the absolute value of num to ensure we're accessing the correct index in the array.\n",
    "4. If the element at index num - 1 is positive, it means it has not been visited before. Set it to its negation to mark it as visited.\n",
    "5. If the element at index num - 1 is negative, it means we have already visited it before. Add num to the result list.\n",
    "6. After iterating through all elements, return the result list.\n",
    "\n",
    "Here's the implementation in Python:"
   ]
  },
  {
   "cell_type": "code",
   "execution_count": 8,
   "id": "4920bf49",
   "metadata": {},
   "outputs": [],
   "source": [
    "def findDuplicates(nums):\n",
    "    result = []\n",
    "\n",
    "    for num in nums:\n",
    "        num = abs(num)\n",
    "        if nums[num - 1] > 0:\n",
    "            nums[num - 1] = -nums[num - 1]\n",
    "        else:\n",
    "            result.append(num)\n",
    "\n",
    "    return result\n"
   ]
  },
  {
   "cell_type": "code",
   "execution_count": 9,
   "id": "b8862e95",
   "metadata": {},
   "outputs": [
    {
     "name": "stdout",
     "output_type": "stream",
     "text": [
      "[2, 3]\n"
     ]
    }
   ],
   "source": [
    "#example usage\n",
    "nums = [4, 3, 2, 7, 8, 2, 3, 1]\n",
    "result = findDuplicates(nums)\n",
    "print(result)"
   ]
  },
  {
   "cell_type": "markdown",
   "id": "143b8a69",
   "metadata": {},
   "source": [
    "### Q.7.Suppose an array of length n sorted in ascending order is rotated between 1 and n times. For example, the array nums = [0,1,2,4,5,6,7] might become:\n",
    "\n",
    "- [4,5,6,7,0,1,2] if it was rotated 4 times.\n",
    "- [0,1,2,4,5,6,7] if it was rotated 7 times.\n",
    "\n",
    "Notice that **rotating** an array [a[0], a[1], a[2], ..., a[n-1]] 1 time results in the array [a[n-1], a[0], a[1], a[2], ..., a[n-2]].\n",
    "\n",
    "### Given the sorted rotated array nums of **unique** elements, return *the minimum element of this array*.\n",
    "\n",
    "You must write an algorithm that runs in O(log n) time.\n",
    "\n",
    "**Example 1:**\n",
    "\n",
    "**Input:** nums = [3,4,5,1,2]\n"
   ]
  },
  {
   "cell_type": "markdown",
   "id": "4455abc1",
   "metadata": {},
   "source": [
    "Ans7. we can use **binary search approach** to find the minimum element in a rotated sorted array. \n",
    "\n",
    "Here's a step-by-step explanation of how the code works:\n",
    "\n",
    "1. The function findMin takes an array nums as input.\n",
    "2. It initializes two pointers left and right. The left pointer is initially set to the start of the array (index 0), and the right pointer is set to the end of the array (index len(nums) - 1).\n",
    "3. The code enters a while loop, which continues until the left and right pointers meet or cross each other.\n",
    "4. Inside the loop, it calculates the midpoint of the current range using the formula (left + right) // 2. \n",
    "5. It compares the element at the midpoint nums[mid] with the element at the right index nums[right].\n",
    "6. If nums[mid] is greater than nums[right], it means the minimum element lies to the right of the midpoint. Therefore, the left pointer is updated to mid + 1 to search in the right half of the array.\n",
    "7. If nums[mid] is less than or equal to nums[right], it means the minimum element lies to the left of or at the midpoint. Therefore, the right pointer is updated to mid to search in the left half of the array.\n",
    "8. The loop continues until the left and right pointers meet or cross each other, indicating that the search range has been narrowed down to a single element.\n",
    "9. Finally, the function returns the element at the left index, which represents the minimum element in the rotated sorted array.\n",
    "10. The main section of the code defines the nums array, calls the findMin function with nums, and prints the result."
   ]
  },
  {
   "cell_type": "code",
   "execution_count": 7,
   "id": "eb076c30",
   "metadata": {},
   "outputs": [
    {
     "name": "stdout",
     "output_type": "stream",
     "text": [
      "1\n"
     ]
    }
   ],
   "source": [
    "def findMin(nums):\n",
    "    left = 0\n",
    "    right = len(nums) - 1\n",
    "\n",
    "    while left < right:\n",
    "        mid = (left + right) // 2\n",
    "\n",
    "        if nums[mid] > nums[right]:\n",
    "            left = mid + 1\n",
    "        else:\n",
    "            right = mid\n",
    "\n",
    "    return nums[left]\n",
    "\n",
    "nums = [3, 4, 5, 1, 2]\n",
    "\n",
    "print(findMin(nums))"
   ]
  },
  {
   "cell_type": "markdown",
   "id": "133054a3",
   "metadata": {},
   "source": [
    "### Q.8. An integer array original is transformed into a doubled array changed by appending twice the value of every element in original, and then randomly shuffling the resulting array.\n",
    "\n",
    "### Given an array changed, return original if changed is a doubled  array. If changed is not a doubled array, return an empty array. The elements in original may be returned in any order.\n",
    "\n",
    "**Example 1:**\n",
    "\n",
    "**Input:** changed = [1,3,4,2,6,8]"
   ]
  },
  {
   "cell_type": "code",
   "execution_count": 16,
   "id": "480e37c3",
   "metadata": {},
   "outputs": [],
   "source": [
    "from collections import defaultdict\n",
    "\n",
    "def findOriginalArray(changed):\n",
    "    original = []\n",
    "    changed.sort()\n",
    "    freq = defaultdict(int)\n",
    "\n",
    "    for num in changed:\n",
    "        freq[num] += 1\n",
    "\n",
    "    for num in changed:\n",
    "        if freq[num] == 0:\n",
    "            continue\n",
    "        if freq[num * 2] > 0:\n",
    "            original.append(num)\n",
    "            freq[num] -= 1\n",
    "            freq[num * 2] -= 1\n",
    "        else:\n",
    "            return []\n",
    "\n",
    "    return original"
   ]
  },
  {
   "cell_type": "code",
   "execution_count": 17,
   "id": "f2bc9e83",
   "metadata": {},
   "outputs": [
    {
     "name": "stdout",
     "output_type": "stream",
     "text": [
      "[1, 3, 4]\n"
     ]
    }
   ],
   "source": [
    "changed = [1, 3, 4, 2, 6, 8]\n",
    "original = findOriginalArray(changed)\n",
    "print(original)"
   ]
  },
  {
   "cell_type": "markdown",
   "id": "3efb3349",
   "metadata": {},
   "source": [
    "### complexity analysis\n",
    "1. The time complexity of the solution is determined by the sorting step, which has a time complexity of O(n log n), where n is the length of the changed array. \n",
    "2. The space complexity of the solution is O(n) due to the original list and the freq dictionary."
   ]
  },
  {
   "cell_type": "code",
   "execution_count": null,
   "id": "1e467b01",
   "metadata": {},
   "outputs": [],
   "source": []
  }
 ],
 "metadata": {
  "kernelspec": {
   "display_name": "Python 3 (ipykernel)",
   "language": "python",
   "name": "python3"
  },
  "language_info": {
   "codemirror_mode": {
    "name": "ipython",
    "version": 3
   },
   "file_extension": ".py",
   "mimetype": "text/x-python",
   "name": "python",
   "nbconvert_exporter": "python",
   "pygments_lexer": "ipython3",
   "version": "3.10.9"
  }
 },
 "nbformat": 4,
 "nbformat_minor": 5
}
