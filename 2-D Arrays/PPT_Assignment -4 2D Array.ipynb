{
 "cells": [
  {
   "cell_type": "markdown",
   "id": "f940f118",
   "metadata": {},
   "source": [
    "# Assignment -4 2D Array"
   ]
  },
  {
   "cell_type": "markdown",
   "id": "49f1f8e5",
   "metadata": {},
   "source": [
    "### Q1. Given three integer arrays arr1, arr2 and arr3 sorted in strictly increasing order, return a sorted array of only the integers that appeared in all three arrays."
   ]
  },
  {
   "cell_type": "markdown",
   "id": "ffa4b8ba",
   "metadata": {},
   "source": [
    "Ans1. To solve this problem, we can use a common technique called **\"Three Pointers**.\" \n",
    "\n",
    "#### Algorithm:\n",
    "\n",
    "1. We'll initialize three pointers, one for each array, and compare the elements at those pointers. \n",
    "2. Initialize an empty list called \"result\" to store the common elements.\n",
    "3. If the elements are equal, it means the number is present in all three arrays, so we add it to our result and increment all three pointers. \n",
    "3. If the elements are not equal, we increment the pointer for the array with the smallest element.\n",
    "4. Return the \"result\" list containing the common elements.\n",
    "\n",
    "\n",
    "Here's the implementation in Python:"
   ]
  },
  {
   "cell_type": "code",
   "execution_count": 3,
   "id": "b352923f",
   "metadata": {},
   "outputs": [],
   "source": [
    "def common_elements(arr1, arr2, arr3):\n",
    "    result = []\n",
    "    p1 = p2 = p3 = 0\n",
    "\n",
    "    while p1 < len(arr1) and p2 < len(arr2) and p3 < len(arr3):\n",
    "        if arr1[p1] == arr2[p2] == arr3[p3]:\n",
    "            result.append(arr1[p1])\n",
    "            p1 += 1\n",
    "            p2 += 1\n",
    "            p3 += 1\n",
    "        elif arr1[p1] < arr2[p2]:\n",
    "            p1 += 1\n",
    "        elif arr2[p2] < arr3[p3]:\n",
    "            p2 += 1\n",
    "        else:\n",
    "            p3 += 1\n",
    "\n",
    "    return result\n"
   ]
  },
  {
   "cell_type": "code",
   "execution_count": 2,
   "id": "443a0a38",
   "metadata": {},
   "outputs": [
    {
     "name": "stdout",
     "output_type": "stream",
     "text": [
      "[1, 5]\n"
     ]
    }
   ],
   "source": [
    "arr1 = [1, 2, 3, 4, 5]\n",
    "arr2 = [1, 2, 5, 7, 9]\n",
    "arr3 = [1, 3, 4, 5, 8]\n",
    "\n",
    "result = common_elements(arr1, arr2, arr3)\n",
    "print(result)\n"
   ]
  },
  {
   "cell_type": "markdown",
   "id": "73cad936",
   "metadata": {},
   "source": [
    "### complexity analysis\n",
    "1. The time complexity of this algorithm is O(n), where n is the total number of elements in the three arrays. In the worst case, each pointer will traverse the entire corresponding array once.\n",
    "2. The space complexity is O(1) since we are not using any additional data structures and the \"result\" list is not counted in the space complexity."
   ]
  },
  {
   "cell_type": "markdown",
   "id": "459a1110",
   "metadata": {},
   "source": [
    "### Q2.Given two 0-indexed integer arrays nums1 and nums2, return a list answer of size 2 where:\n",
    "\n",
    "#### - answer[0] *is a list of all **distinct** integers in* nums1 *which are **not** present in* nums2*.*\n",
    "#### - answer[1] *is a list of all **distinct** integers in* nums2 *which are **not** present in* nums1.\n",
    "\n",
    "#### Note that the integers in the lists may be returned in anyorder."
   ]
  },
  {
   "cell_type": "markdown",
   "id": "3be8dbd1",
   "metadata": {},
   "source": [
    "Ans2. To solve this problem, we can iterate over both arrays and use sets to keep track of distinct integers. \n",
    "\n",
    "#### algorithm:\n",
    "1. We'll initialize two empty sets, one for distinct integers in nums1 and one for distinct integers in nums2. \n",
    "2. Then, we'll iterate over nums1 and add each element to the set for nums1. \n",
    "3. Similarly, we'll iterate over nums2 and add each element to the set for nums2. \n",
    "4. Finally, we'll find the set differences to obtain the distinct integers that are present in one array but not the other.\n",
    "\n",
    "Here's the implementation in Python:"
   ]
  },
  {
   "cell_type": "code",
   "execution_count": 4,
   "id": "9c7820f5",
   "metadata": {},
   "outputs": [],
   "source": [
    "def find_disjoint_nums(nums1, nums2):\n",
    "    set_nums1 = set(nums1)\n",
    "    set_nums2 = set(nums2)\n",
    "\n",
    "    distinct_nums1 = set_nums1 - set_nums2\n",
    "    distinct_nums2 = set_nums2 - set_nums1\n",
    "\n",
    "    return [list(distinct_nums1), list(distinct_nums2)]\n"
   ]
  },
  {
   "cell_type": "code",
   "execution_count": 5,
   "id": "782e2dc5",
   "metadata": {},
   "outputs": [
    {
     "name": "stdout",
     "output_type": "stream",
     "text": [
      "[[1, 3], [4, 6]]\n"
     ]
    }
   ],
   "source": [
    "nums1 = [1, 2, 3]\n",
    "nums2 = [2, 4, 6]\n",
    "\n",
    "result = find_disjoint_nums(nums1, nums2)\n",
    "print(result)\n"
   ]
  },
  {
   "cell_type": "markdown",
   "id": "da387631",
   "metadata": {},
   "source": [
    "### complexity analysis\n",
    "1. The time complexity of this algorithm is O(m + n), where m is the length of nums1 and n is the length of nums2. Converting nums1 and nums2 into sets takes O(m + n) time complexity, and iterating through each array takes O(m + n) as well. \n",
    "2. The space complexity is O(m + n) since the size of the sets and the two distinct lists depend on the combined number of unique elements in nums1 and nums2."
   ]
  },
  {
   "cell_type": "markdown",
   "id": "7c022393",
   "metadata": {},
   "source": [
    "### Q3.Given a 2D integer array matrix, return the transpose of matrix.\n",
    "\n",
    "The **transpose** of a matrix is the matrix flipped over its main diagonal, switching the matrix's row and column indices."
   ]
  },
  {
   "cell_type": "markdown",
   "id": "7f1daceb",
   "metadata": {},
   "source": [
    "Ans3. To find the transpose of a matrix, we need to swap the elements at the (i, j) index with the elements at the (j, i) index, where i and j represent the row and column indices, respectively.\n",
    "\n",
    "Here's the implementation in Python:"
   ]
  },
  {
   "cell_type": "code",
   "execution_count": 6,
   "id": "688c448f",
   "metadata": {},
   "outputs": [],
   "source": [
    "def transpose(matrix):\n",
    "    rows = len(matrix)\n",
    "    cols = len(matrix[0]) if matrix else 0\n",
    "\n",
    "    # Create a new matrix with swapped rows and columns\n",
    "    transposed = [[0] * rows for _ in range(cols)]\n",
    "    \n",
    "    for i in range(rows):\n",
    "        for j in range(cols):\n",
    "            transposed[j][i] = matrix[i][j]\n",
    "\n",
    "    return transposed\n"
   ]
  },
  {
   "cell_type": "code",
   "execution_count": 7,
   "id": "9b28b8ab",
   "metadata": {},
   "outputs": [
    {
     "name": "stdout",
     "output_type": "stream",
     "text": [
      "[[1, 4, 7], [2, 5, 8], [3, 6, 9]]\n"
     ]
    }
   ],
   "source": [
    "matrix = [[1, 2, 3], [4, 5, 6], [7, 8, 9]]\n",
    "\n",
    "result = transpose(matrix)\n",
    "print(result)\n"
   ]
  },
  {
   "cell_type": "markdown",
   "id": "3a2ca0a5",
   "metadata": {},
   "source": [
    "### complexity analysis\n",
    "1. The time complexity of this algorithm is O(m * n), where m is the number of rows and n is the number of columns in the given matrix. We iterate through all the elements in the matrix to construct the transpose matrix. \n",
    "2. The space complexity is also O(m * n) since we need to store the transpose matrix."
   ]
  },
  {
   "cell_type": "markdown",
   "id": "2e2c33cb",
   "metadata": {},
   "source": [
    "### Q4.Given an integer array nums of 2n integers, group these integers into n pairs (a1, b1), (a2, b2), ..., (an, bn) such that the sum of min(ai, bi) for all i is **maximized**. Return *the maximized sum*.\n",
    "\n"
   ]
  },
  {
   "cell_type": "markdown",
   "id": "a29c5809",
   "metadata": {},
   "source": [
    "Ans4. To maximize the sum of the minimum elements in each pair, we should pair the smallest numbers with each other. By doing so, we ensure that the larger numbers are left unpaired and contribute to the sum.\n",
    "\n",
    "To solve this problem, we can sort the array and pair adjacent elements. The sum of the minimum elements in each pair will be the maximum possible sum.\n",
    "\n",
    "Here's the implementation in Python:"
   ]
  },
  {
   "cell_type": "code",
   "execution_count": 7,
   "id": "fb27b41a",
   "metadata": {},
   "outputs": [],
   "source": [
    "def array_pair_sum(nums):\n",
    "    nums.sort()\n",
    "    n = len(nums)\n",
    "    pair_sum = 0\n",
    "\n",
    "    for i in range(0, n, 2):\n",
    "        pair_sum += nums[i]\n",
    "\n",
    "    return pair_sum\n"
   ]
  },
  {
   "cell_type": "code",
   "execution_count": 8,
   "id": "2c70fe56",
   "metadata": {},
   "outputs": [
    {
     "name": "stdout",
     "output_type": "stream",
     "text": [
      "4\n"
     ]
    }
   ],
   "source": [
    "nums = [1, 4, 3, 2]\n",
    "\n",
    "result = array_pair_sum(nums)\n",
    "print(result)\n"
   ]
  },
  {
   "cell_type": "markdown",
   "id": "1e4c235f",
   "metadata": {},
   "source": [
    "### Complexity analysis\n",
    "1. The time complexity of this algorithm is O(n log n), where n is the size of the input array nums. This complexity arises from the sorting operation. \n",
    "2. The space complexity is O(1) since we are using only a constant amount of extra space."
   ]
  },
  {
   "cell_type": "markdown",
   "id": "c8107a76",
   "metadata": {},
   "source": [
    "### Q5. You have n coins and you want to build a staircase with these coins. The staircase consists of k rows where the ith row has exactly i coins. The last row of the staircase **may be** incomplete.\n",
    "\n",
    "Given the integer n, return *the number of **complete rows** of the staircase you will build*."
   ]
  },
  {
   "cell_type": "markdown",
   "id": "6dd683a5",
   "metadata": {},
   "source": [
    "Ans5. To find the number of complete rows in the staircase, we can use a binary search approach. We start with the entire range of possible rows, from 1 to n, and then iteratively narrow down the range by halving it until we find the largest complete row.\n",
    "Here is the implementation in Python:"
   ]
  },
  {
   "cell_type": "code",
   "execution_count": 10,
   "id": "33322973",
   "metadata": {},
   "outputs": [],
   "source": [
    "def arrange_coins(n):\n",
    "    row = 1\n",
    "\n",
    "    while n >= row:\n",
    "        n -= row\n",
    "        row += 1\n",
    "\n",
    "    return row - 1\n"
   ]
  },
  {
   "cell_type": "code",
   "execution_count": 11,
   "id": "7cfd1ee0",
   "metadata": {},
   "outputs": [
    {
     "name": "stdout",
     "output_type": "stream",
     "text": [
      "2\n"
     ]
    }
   ],
   "source": [
    "n = 5\n",
    "\n",
    "result = arrange_coins(n)\n",
    "print(result)\n"
   ]
  },
  {
   "cell_type": "markdown",
   "id": "0480048a",
   "metadata": {},
   "source": [
    "### complexity analysis\n",
    "1. The time complexity of this solution is O(log n) because we are using binary search to find the answer. \n",
    "2. The space complexity is O(1) since we are only using a constant amount of extra space."
   ]
  },
  {
   "cell_type": "markdown",
   "id": "4395cd34",
   "metadata": {},
   "source": [
    "### Q6. Given an integer array nums sorted in non-decreasing order, return an array of the squares of each number sorted in non-decreasing order."
   ]
  },
  {
   "cell_type": "markdown",
   "id": "ed4458cb",
   "metadata": {},
   "source": [
    "Ans6. To solve this problem, we can use a two-pointer approach.\n",
    "\n",
    "#### Algorithm:\n",
    "1. We will initialize two pointers, one at the beginning of the array (pointing to the smallest element) and the other at the end of the array (pointing to the largest element).\n",
    "2. We compare the absolute values of the elements at both pointers and square them, storing the results in a new array. \n",
    "3. We increment/decrement the pointers based on the comparison to move towards the middle of the array. Finally, we return the new array sorted in non-decreasing order.\n",
    "\n",
    "Here's the implementation in Python:"
   ]
  },
  {
   "cell_type": "code",
   "execution_count": 11,
   "id": "e2187ee0",
   "metadata": {},
   "outputs": [],
   "source": [
    "def sortedSquares(nums):\n",
    "    n = len(nums)\n",
    "    result = [0] * n\n",
    "    left = 0\n",
    "    right = n - 1\n",
    "    index = n - 1\n",
    "\n",
    "    while left <= right:\n",
    "        if abs(nums[left]) > abs(nums[right]):\n",
    "            result[index] = nums[left] ** 2\n",
    "            left += 1\n",
    "        else:\n",
    "            result[index] = nums[right] ** 2\n",
    "            right -= 1\n",
    "        index -= 1\n",
    "\n",
    "    return result"
   ]
  },
  {
   "cell_type": "code",
   "execution_count": 12,
   "id": "686fd80d",
   "metadata": {},
   "outputs": [
    {
     "name": "stdout",
     "output_type": "stream",
     "text": [
      "[0, 1, 9, 16, 100]\n"
     ]
    }
   ],
   "source": [
    "nums = [-4, -1, 0, 3, 10]\n",
    "\n",
    "result = sorted_squares(nums)\n",
    "print(result)\n"
   ]
  },
  {
   "cell_type": "markdown",
   "id": "1e2bb3b3",
   "metadata": {},
   "source": [
    "### complexity analysis\n",
    "1. The time complexity of this solution is O(n) because we iterate through the input array once. \n",
    "2. The space complexity is O(n) as well since we create a new array to store the squared values."
   ]
  },
  {
   "cell_type": "markdown",
   "id": "cee3b1ac",
   "metadata": {},
   "source": [
    "### Q7. You are given an m x n matrix M initialized with all 0's and an array of operations ops, where ops[i] = [ai, bi] means M[x][y] should be incremented by one for all 0 <= x < ai and 0 <= y < bi.\n",
    "\n",
    "Count and return *the number of maximum integers in the matrix after performing all the operations*"
   ]
  },
  {
   "cell_type": "markdown",
   "id": "391b1183",
   "metadata": {},
   "source": [
    "Ans7. To solve this problem, we can observe that the maximum integers will always be located in the top-left corner of the matrix. The number of maximum integers is determined by the minimum dimensions of the operations performed.\n",
    "\n",
    "We iterate through the ops array and keep track of the minimum values of ai and bi. The final count of maximum integers will be the product of these minimum values.\n",
    "\n",
    "Here's the implementation in Python:"
   ]
  },
  {
   "cell_type": "code",
   "execution_count": 13,
   "id": "e2654371",
   "metadata": {},
   "outputs": [
    {
     "name": "stdout",
     "output_type": "stream",
     "text": [
      "4\n"
     ]
    }
   ],
   "source": [
    "from typing import List\n",
    "\n",
    "def maxCount(m: int, n: int, ops: List[List[int]]) -> int:\n",
    "    min_a = m\n",
    "    min_b = n\n",
    "    \n",
    "    for op in ops:\n",
    "        min_a = min(min_a, op[0])\n",
    "        min_b = min(min_b, op[1])\n",
    "    \n",
    "    return min_a * min_b\n",
    "\n",
    "m = 3\n",
    "n = 3\n",
    "ops = [[2,2],[3,3]]\n",
    "print(maxCount(m,n,ops))"
   ]
  },
  {
   "cell_type": "markdown",
   "id": "0a2b643a",
   "metadata": {},
   "source": [
    "### complexity analysis\n",
    "1. The time complexity of this solution is O(k), where k is the length of the ops array. We iterate through the array once to find the minimum values. \n",
    "2. The space complexity is O(1) since we only use a constant amount of additional space to store the minimum values."
   ]
  },
  {
   "cell_type": "markdown",
   "id": "eff1e297",
   "metadata": {},
   "source": [
    "### Q8. Given the array nums consisting of 2n elements in the form [x1,x2,...,xn,y1,y2,...,yn].\n",
    "\n",
    "*Return the array in the form* [x1,y1,x2,y2,...,xn,yn].\n",
    "\n"
   ]
  },
  {
   "cell_type": "markdown",
   "id": "a2a26e36",
   "metadata": {},
   "source": [
    "Ans8. To rearrange the elements of the array nums in the specified form, we can create a new array and populate it by alternating between elements from the first half of nums (representing x values) and elements from the second half of nums (representing y values).\n",
    "\n",
    "Here's the implementation in Python:"
   ]
  },
  {
   "cell_type": "code",
   "execution_count": 14,
   "id": "8a83e14e",
   "metadata": {},
   "outputs": [],
   "source": [
    "def shuffle_array(nums, n):\n",
    "    result = []\n",
    "    for i in range(n):\n",
    "        result.append(nums[i])\n",
    "        result.append(nums[i + n])\n",
    "    return result\n"
   ]
  },
  {
   "cell_type": "code",
   "execution_count": 15,
   "id": "d4fadc91",
   "metadata": {},
   "outputs": [
    {
     "name": "stdout",
     "output_type": "stream",
     "text": [
      "[2, 3, 5, 4, 1, 7]\n"
     ]
    }
   ],
   "source": [
    "nums = [2, 5, 1, 3, 4, 7]\n",
    "n = 3\n",
    "\n",
    "result = shuffle_array(nums, n)\n",
    "print(result)\n"
   ]
  },
  {
   "cell_type": "markdown",
   "id": "329e6a2d",
   "metadata": {},
   "source": [
    "### complexity analysis\n",
    "1. The time complexity of the given code is O(n), where n is the length of the input array nums. This is because the code iterates over the range from 0 to n-1 and performs constant-time operations inside the loop.\n",
    "\n",
    "2. The space complexity of the code is O(n) as well. This is because the result array, which stores the shuffled elements, has a length of 2n, where n is the number of pairs in the input array. Therefore, the space required by the result array grows linearly with the input size."
   ]
  },
  {
   "cell_type": "code",
   "execution_count": null,
   "id": "c83b8355",
   "metadata": {},
   "outputs": [],
   "source": []
  }
 ],
 "metadata": {
  "kernelspec": {
   "display_name": "Python 3 (ipykernel)",
   "language": "python",
   "name": "python3"
  },
  "language_info": {
   "codemirror_mode": {
    "name": "ipython",
    "version": 3
   },
   "file_extension": ".py",
   "mimetype": "text/x-python",
   "name": "python",
   "nbconvert_exporter": "python",
   "pygments_lexer": "ipython3",
   "version": "3.10.9"
  }
 },
 "nbformat": 4,
 "nbformat_minor": 5
}
