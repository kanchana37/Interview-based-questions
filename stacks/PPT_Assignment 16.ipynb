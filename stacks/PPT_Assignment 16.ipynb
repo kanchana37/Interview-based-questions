{
 "cells": [
  {
   "cell_type": "markdown",
   "id": "97b5fab4",
   "metadata": {},
   "source": [
    "**Q.1.** Given an array, for each element find the value of the nearest element to the right which is having a frequency greater than that of the current element. If there does not exist an answer for a position, then make the value ‘-1’.\n",
    "\n",
    "**Examples:**\n",
    "    \n",
    "```\n",
    "Input: a[] = [1, 1, 2, 3, 4, 2, 1]\n",
    "Output : [-1, -1, 1, 2, 2, 1, -1]\n",
    "\n",
    "Explanation:\n",
    "Given array a[] = [1, 1, 2, 3, 4, 2, 1]\n",
    "Frequency of each element is: 3, 3, 2, 1, 1, 2, 3\n",
    "\n",
    "Lets calls Next Greater Frequency element as NGF\n",
    "1. For element a[0] = 1 which has a frequency = 3,\n",
    "   As it has frequency of 3 and no other next element\n",
    "   has frequency more than 3 so  '-1'\n",
    "2. For element a[1] = 1 it will be -1 same logic\n",
    "   like a[0]\n",
    "3. For element a[2] = 2 which has frequency = 2,\n",
    "   NGF element is 1 at position = 6  with frequency\n",
    "   of 3 > 2\n",
    "4. For element a[3] = 3 which has frequency = 1,\n",
    "   NGF element is 2 at position = 5 with frequency\n",
    "   of 2 > 1\n",
    "5. For element a[4] = 4 which has frequency = 1,\n",
    "   NGF element is 2 at position = 5 with frequency\n",
    "   of 2 > 1\n",
    "6. For element a[5] = 2 which has frequency = 2,\n",
    "   NGF element is 1 at position = 6 with frequency\n",
    "   of 3 > 2\n",
    "7. For element a[6] = 1 there is no element to its\n",
    "   right, hence -1\n",
    "-------------    \n",
    "Input : a[] = [1, 1, 1, 2, 2, 2, 2, 11, 3, 3]\n",
    "Output : [2, 2, 2, -1, -1, -1, -1, 3, -1, -1]\n",
    "```"
   ]
  },
  {
   "cell_type": "code",
   "execution_count": 1,
   "id": "4364c0b2",
   "metadata": {},
   "outputs": [
    {
     "name": "stdout",
     "output_type": "stream",
     "text": [
      "[-1, -1, 1, 2, 2, 1, -1]\n"
     ]
    }
   ],
   "source": [
    "def find_nearest_higher_freq(arr):\n",
    "    # initialize an empty dictionary to store frequencies\n",
    "    freq = {}\n",
    "    # loop through the array and update frequencies\n",
    "    for x in arr:\n",
    "        freq[x] = freq.get(x, 0) + 1\n",
    "    # initialize an empty stack to store indices\n",
    "    stack = []\n",
    "    # initialize an output array with -1 values\n",
    "    output = [-1] * len(arr)\n",
    "    # loop through the array from right to left\n",
    "    for i in range(len(arr) - 1, -1, -1):\n",
    "        # pop the stack until it is empty or the top element has a higher frequency than the current element\n",
    "        while stack and freq[arr[stack[-1]]] <= freq[arr[i]]:\n",
    "            stack.pop()\n",
    "        # if the stack is not empty, update the output array with the value of the top element of the stack\n",
    "        if stack:\n",
    "            output[i] = arr[stack[-1]]\n",
    "        # push the current index to the stack\n",
    "        stack.append(i)\n",
    "    # return the output array\n",
    "    return output\n",
    "\n",
    "# test the code with an example input\n",
    "arr = [1, 1, 2, 3, 4, 2, 1]\n",
    "print(find_nearest_higher_freq(arr))"
   ]
  },
  {
   "cell_type": "markdown",
   "id": "c4e97256",
   "metadata": {},
   "source": [
    "**Q.2.** Given a stack of integers, sort it in ascending order using another temporary stack.\n",
    "\n",
    "**Examples:**\n",
    "\n",
    "```\n",
    "Input : [34, 3, 31, 98, 92, 23]\n",
    "Output : [3, 23, 31, 34, 92, 98]\n",
    "----------\n",
    "Input : [3, 5, 1, 4, 2, 8]\n",
    "Output : [1, 2, 3, 4, 5, 8]\n",
    "```"
   ]
  },
  {
   "cell_type": "code",
   "execution_count": 2,
   "id": "77a60f4c",
   "metadata": {},
   "outputs": [
    {
     "name": "stdout",
     "output_type": "stream",
     "text": [
      "[1, 2, 3, 4, 5, 8]\n"
     ]
    }
   ],
   "source": [
    "def sort_stack(input_stack):\n",
    "  # initialize an empty output stack\n",
    "  output_stack = []\n",
    "  # loop until the input stack is empty\n",
    "  while input_stack:\n",
    "    # pop the top element from the input stack and store it in a temporary variable\n",
    "    temp = input_stack.pop()\n",
    "    # while the output stack is not empty and the top element of the output stack is greater than the temporary variable\n",
    "    while output_stack and output_stack[-1] > temp:\n",
    "      # pop the top element from the output stack and push it to the input stack\n",
    "      input_stack.append(output_stack.pop())\n",
    "    # push the temporary variable to the output stack\n",
    "    output_stack.append(temp)\n",
    "  # return the output stack as the final result\n",
    "  return output_stack\n",
    "\n",
    "# test the code with an example input\n",
    "input_stack = [3, 5, 1, 4, 2, 8]\n",
    "print(sort_stack(input_stack))"
   ]
  },
  {
   "cell_type": "markdown",
   "id": "9dd3cdde",
   "metadata": {},
   "source": [
    "**Q.3.** Given a stack with **push()**, **pop()**, and **empty()** operations, The task is to delete the **middle** element ****of it without using any additional data structure.\n",
    "\n",
    "**Examples :**\n",
    "\n",
    "```\n",
    "Input  : Stack[] = [1, 2, 3, 4, 5]\n",
    "Output : Stack[] = [1, 2, 4, 5]\n",
    "------------\n",
    "Input  : Stack[] = [1, 2, 3, 4, 5, 6]\n",
    "Output : Stack[] = [1, 2, 4, 5, 6]\n",
    "```"
   ]
  },
  {
   "cell_type": "code",
   "execution_count": 3,
   "id": "65de4c43",
   "metadata": {},
   "outputs": [
    {
     "name": "stdout",
     "output_type": "stream",
     "text": [
      "[1, 2, 4, 5, 6]\n"
     ]
    }
   ],
   "source": [
    "def delete_middle(stack, count):\n",
    "    # base case: if the stack is empty, return\n",
    "    if not stack:\n",
    "        return\n",
    "    # pop the top element from the stack and store it in a temporary variable\n",
    "    temp = stack.pop()\n",
    "    # call the helper function recursively with the stack and the count decremented by one\n",
    "    delete_middle(stack, count - 1)\n",
    "    # if the count is not zero, push the temporary variable back to the stack\n",
    "    if count != 0:\n",
    "        stack.append(temp)\n",
    "\n",
    "def delete_middle_element(stack):\n",
    "    # call the helper function with the stack and its size divided by two as arguments\n",
    "    delete_middle(stack, len(stack) // 2)\n",
    "    # return the modified stack as the final result\n",
    "    return stack\n",
    "\n",
    "# test the code with an example input\n",
    "stack = [1, 2, 3, 4, 5, 6]\n",
    "print(delete_middle_element(stack))"
   ]
  },
  {
   "cell_type": "markdown",
   "id": "39d93e22",
   "metadata": {},
   "source": [
    "**Q.4.** Given a Queue consisting of first **n** natural numbers (in random order). The task is to check whether the given Queue elements can be arranged in increasing order in another Queue using a stack. The operation allowed are:\n",
    "\n",
    "1. Push and pop elements from the stack\n",
    "2. Pop (Or Dequeue) from the given Queue.\n",
    "3. Push (Or Enqueue) in the another Queue.\n",
    "\n",
    "**Examples :**\n",
    "\n",
    "```\n",
    "Input : Queue[] = { 5, 1, 2, 3, 4 } \n",
    "Output : Yes \n",
    "\n",
    "Pop the first element of the given Queue \n",
    "i.e 5. Push 5 into the stack. \n",
    "Now, pop all the elements of the given Queue and push them to second Queue. \n",
    "Now, pop element 5 in the stack and push it to the second Queue.   \n",
    "------------\n",
    "Input : Queue[] = { 5, 1, 2, 6, 3, 4 } \n",
    "Output : No \n",
    "\n",
    "Push 5 to stack. \n",
    "Pop 1, 2 from given Queue and push it to another Queue. \n",
    "Pop 6 from given Queue and push to stack. \n",
    "Pop 3, 4 from given Queue and push to second Queue. \n",
    "```\n",
    "\n",
    "Now, from using any of above operation, we cannot push 5 into the second Queue because it is below the 6 in the stack."
   ]
  },
  {
   "cell_type": "code",
   "execution_count": 4,
   "id": "595505fb",
   "metadata": {},
   "outputs": [
    {
     "name": "stdout",
     "output_type": "stream",
     "text": [
      "False\n"
     ]
    }
   ],
   "source": [
    "from queue import Queue\n",
    "\n",
    "def can_sort(input_queue):\n",
    "  # initialize an empty stack and an empty output queue\n",
    "  stack = []\n",
    "  output_queue = Queue()\n",
    "  # initialize a variable called expected with the value 1\n",
    "  expected = 1\n",
    "  # loop until the input queue is empty or the expected value exceeds the size of the input queue\n",
    "  while not input_queue.empty() and expected <= input_queue.qsize():\n",
    "    # if the front element of the input queue is equal to the expected value\n",
    "    if input_queue.queue[0] == expected:\n",
    "      # pop it from the input queue and push it to the output queue\n",
    "      output_queue.put(input_queue.get())\n",
    "      # increment the expected value by one\n",
    "      expected += 1\n",
    "    # else if the top element of the stack is equal to the expected value\n",
    "    elif stack and stack[-1] == expected:\n",
    "      # pop it from the stack and push it to the output queue\n",
    "      output_queue.put(stack.pop())\n",
    "      # increment the expected value by one\n",
    "      expected += 1\n",
    "    # else if \n",
    "    #the front element of \n",
    "    #the input queue is not equal to \n",
    "    #the expected value and \n",
    "    #the stack is not empty and \n",
    "    #the top element of \n",
    "    #the stack is smaller than \n",
    "    #the front element of \n",
    "    #the input queue\n",
    "    elif stack and stack[-1] < input_queue.queue[0]:\n",
    "      # return False as it is not possible to sort \n",
    "      #the elements using a stack\n",
    "      return False\n",
    "    # else pop \n",
    "    #the front element from \n",
    "    #the input queue and push it to \n",
    "    #the stack\n",
    "    else:\n",
    "      stack.append(input_queue.get())\n",
    "  # after \n",
    "  #the loop, check if \n",
    "  #the stack is empty\n",
    "  if not stack:\n",
    "    # return True as it is possible to sort \n",
    "    #the elements using a stack\n",
    "    return True\n",
    "  else:\n",
    "    # return False as it is not possible to sort \n",
    "    #the elements using a stack\n",
    "    return False\n",
    "\n",
    "# test \n",
    "#the code with an example input\n",
    "input_queue = Queue()\n",
    "input_queue.put(5)\n",
    "input_queue.put(1)\n",
    "input_queue.put(2)\n",
    "input_queue.put(6)\n",
    "input_queue.put(3)\n",
    "input_queue.put(4)\n",
    "print(can_sort(input_queue))"
   ]
  },
  {
   "cell_type": "markdown",
   "id": "4d1ed532",
   "metadata": {},
   "source": [
    "**Q.5.** Given a number , write a program to reverse this number using stack.\n",
    "\n",
    "**Examples:**\n",
    "    \n",
    "```\n",
    "Input : 365\n",
    "Output : 563\n",
    "----------\n",
    "Input : 6899\n",
    "Output : 9986\n",
    "```"
   ]
  },
  {
   "cell_type": "code",
   "execution_count": 5,
   "id": "12c33c45",
   "metadata": {},
   "outputs": [
    {
     "name": "stdout",
     "output_type": "stream",
     "text": [
      "9986\n"
     ]
    }
   ],
   "source": [
    "def reverse_number(number):\n",
    "    # initialize an empty stack and an empty string\n",
    "    stack = []\n",
    "    string = \"\"\n",
    "    # convert the number into a string\n",
    "    number = str(number)\n",
    "    # loop through each character of the string and push it into the stack\n",
    "    for char in number:\n",
    "        stack.append(char)\n",
    "    # loop until the stack is empty and pop each character from the stack\n",
    "    while stack:\n",
    "        # append it to the string\n",
    "        string += stack.pop()\n",
    "    # convert the string back to a number and return it\n",
    "    return int(string)\n",
    "\n",
    "# test the code with an example input\n",
    "number = 6899\n",
    "print(reverse_number(number))"
   ]
  },
  {
   "cell_type": "markdown",
   "id": "1cbb315d",
   "metadata": {},
   "source": [
    "**Q.6.** Given an integer k and a **[queue](https://www.geeksforgeeks.org/queue-data-structure/)** of integers, The task is to reverse the order of the first **k** elements of the queue, leaving the other elements in the same relative order.\n",
    "\n",
    "Only following standard operations are allowed on queue.\n",
    "\n",
    "- **enqueue(x) :** Add an item x to rear of queue\n",
    "- **dequeue() :** Remove an item from front of queue\n",
    "- **size() :** Returns number of elements in queue.\n",
    "- **front() :** Finds front item."
   ]
  },
  {
   "cell_type": "code",
   "execution_count": 6,
   "id": "d6a047ff",
   "metadata": {},
   "outputs": [
    {
     "name": "stdout",
     "output_type": "stream",
     "text": [
      "50 40 30 20 10 60 70 80 90 100 "
     ]
    }
   ],
   "source": [
    "from queue import Queue\n",
    "\n",
    "def reverse_first_k(queue, k):\n",
    "    # initialize an empty stack and an empty queue\n",
    "    stack = []\n",
    "    other_queue = Queue()\n",
    "    # loop from 0 to k and dequeue each element from the given queue and push it into the stack\n",
    "    for i in range(k):\n",
    "        stack.append(queue.get())\n",
    "    # loop until the stack is empty and pop each element from the stack and enqueue it into the other queue\n",
    "    while stack:\n",
    "        other_queue.put(stack.pop())\n",
    "    # loop until the given queue is empty and dequeue each element from the given queue and enqueue it into the other queue\n",
    "    while not queue.empty():\n",
    "        other_queue.put(queue.get())\n",
    "    # return the other queue as the final result\n",
    "    return other_queue\n",
    "\n",
    "# test the code with an example input\n",
    "queue = Queue()\n",
    "queue.put(10)\n",
    "queue.put(20)\n",
    "queue.put(30)\n",
    "queue.put(40)\n",
    "queue.put(50)\n",
    "queue.put(60)\n",
    "queue.put(70)\n",
    "queue.put(80)\n",
    "queue.put(90)\n",
    "queue.put(100)\n",
    "\n",
    "k = 5\n",
    "\n",
    "other_queue = reverse_first_k(queue, k)\n",
    "\n",
    "# print the elements of the other queue\n",
    "while not other_queue.empty():\n",
    "    print(other_queue.get(), end=\" \")"
   ]
  },
  {
   "cell_type": "markdown",
   "id": "244d26f0",
   "metadata": {},
   "source": [
    "**Q.7.** Given a sequence of n strings, the task is to check if any two similar words come together and then destroy each other then print the number of words left in the sequence after this pairwise destruction.\n",
    "\n",
    "**Examples:**\n",
    "\n",
    "Input : ab aa aa bcd ab\n",
    "\n",
    "Output : 3\n",
    "\n",
    "*As aa, aa destroys each other so,*\n",
    "\n",
    "*ab bcd ab is the new sequence.*\n",
    "\n",
    "Input :  tom jerry jerry tom\n",
    "\n",
    "Output : 0\n",
    "\n",
    "*As first both jerry will destroy each other.*\n",
    "\n",
    "*Then sequence will be tom, tom they will also destroy*\n",
    "\n",
    "*each other. So, the final sequence doesn’t contain any*\n",
    "\n",
    "*word.*"
   ]
  },
  {
   "cell_type": "code",
   "execution_count": 7,
   "id": "3de2c3c2",
   "metadata": {},
   "outputs": [
    {
     "name": "stdout",
     "output_type": "stream",
     "text": [
      "3\n"
     ]
    }
   ],
   "source": [
    "def count_words(sequence):\n",
    "    # initialize an empty stack\n",
    "    stack = []\n",
    "    # split the sequence of strings by space and store it in a list\n",
    "    words = sequence.split()\n",
    "    # loop through each word in the list\n",
    "    for word in words:\n",
    "        # check if the stack is not empty and the word is equal to the top element of the stack\n",
    "        if stack and word == stack[-1]:\n",
    "            # pop the top element from the stack\n",
    "            stack.pop()\n",
    "        # else, push the word into the stack\n",
    "        else:\n",
    "            stack.append(word)\n",
    "    # return the size of the stack\n",
    "    return len(stack)\n",
    "\n",
    "# test the code with an example input\n",
    "sequence = \"ab aa aa bcd ab\"\n",
    "print(count_words(sequence))"
   ]
  },
  {
   "cell_type": "markdown",
   "id": "74990f27",
   "metadata": {},
   "source": [
    "**Q.8.** Given an array of integers, the task is to find the maximum absolute difference between the nearest left and the right smaller element of every element in the array.\n",
    "\n",
    "**Note:** If there is no smaller element on right side or left side of any element then we take zero as the smaller element. For example for the leftmost element, the nearest smaller element on the left side is considered as 0. Similarly, for rightmost elements, the smaller element on the right side is considered as 0.\n",
    "\n",
    "**Examples:**\n",
    "\n",
    "```\n",
    "Input : arr[] = {2, 1, 8}\n",
    "Output : 1\n",
    "Left smaller  LS[] {0, 0, 1}\n",
    "Right smaller RS[] {1, 0, 0}\n",
    "Maximum Diff of abs(LS[i] - RS[i]) = 1\n",
    "\n",
    "Input  : arr[] = {2, 4, 8, 7, 7, 9, 3}\n",
    "Output : 4\n",
    "Left smaller   LS[] = {0, 2, 4, 4, 4, 7, 2}\n",
    "Right smaller  RS[] = {0, 3, 7, 3, 3, 3, 0}\n",
    "Maximum Diff of abs(LS[i] - RS[i]) = 7 - 3 = 4\n",
    "\n",
    "Input : arr[] = {5, 1, 9, 2, 5, 1, 7}\n",
    "Output : 1\n",
    "```"
   ]
  },
  {
   "cell_type": "code",
   "execution_count": 8,
   "id": "23ebb2de",
   "metadata": {},
   "outputs": [
    {
     "name": "stdout",
     "output_type": "stream",
     "text": [
      "4\n"
     ]
    }
   ],
   "source": [
    "def max_diff(arr):\n",
    "    # initialize two empty stacks: left_stack and right_stack\n",
    "    left_stack = []\n",
    "    right_stack = []\n",
    "    # initialize two empty lists: left and right\n",
    "    left = []\n",
    "    right = []\n",
    "    # loop through array from left to right\n",
    "    for i in range(len(arr)):\n",
    "        # while left_stack is not empty and top element is greater than or equal to current element, pop stack\n",
    "        while left_stack and arr[left_stack[-1]] >= arr[i]:\n",
    "            left_stack.pop()\n",
    "        # if left_stack is empty, append -1 to left list\n",
    "        if not left_stack:\n",
    "            left.append(-1)\n",
    "        # else, append top element of left_stack to left list\n",
    "        else:\n",
    "            left.append(left_stack[-1])\n",
    "        # push current index to left_stack\n",
    "            left_stack.append(i)\n",
    "  \n",
    "    # loop through array from right to left\n",
    "    for i in range(len(arr) - 1, -1, -1):\n",
    "        # while right_stack is not empty and top element is greater than or equal to current element, pop stack\n",
    "        while right_stack and arr[right_stack[-1]] >= arr[i]:\n",
    "            right_stack.pop()\n",
    "        # if right_stack is empty, append -1 to right list\n",
    "        if not right_stack:\n",
    "            right.append(-1)\n",
    "        # else, append top element of right_stack to right list\n",
    "        else:\n",
    "            right.append(right_stack[-1])\n",
    "        # push current index to right_stack\n",
    "        right_stack.append(i)\n",
    "  \n",
    "    # reverse right list\n",
    "    right.reverse()\n",
    "  \n",
    "    # initialize max_diff with zero\n",
    "    max_diff = 0\n",
    "  \n",
    "    # loop through array \n",
    "    for i in range(len(arr)):\n",
    "        # if both left and right lists have -1 at that index, continue to next iteration\n",
    "        if left[i] == -1 and right[i] == -1:\n",
    "            continue\n",
    "        # else, calculate abs(arr[left[i]] - arr[right[i]])\n",
    "        diff = abs(arr[left[i]] - arr[right[i]])\n",
    "        # update max_diff with maximum of max_diff and calculated difference\n",
    "        max_diff = max(max_diff, diff)\n",
    "  \n",
    "    # return max_diff as final result\n",
    "    return max_diff\n",
    "\n",
    "# test the code with an example input\n",
    "arr = [2, 4, 8, 7, 7, 9, 3]\n",
    "print(max_diff(arr))"
   ]
  }
 ],
 "metadata": {
  "kernelspec": {
   "display_name": "Python 3 (ipykernel)",
   "language": "python",
   "name": "python3"
  },
  "language_info": {
   "codemirror_mode": {
    "name": "ipython",
    "version": 3
   },
   "file_extension": ".py",
   "mimetype": "text/x-python",
   "name": "python",
   "nbconvert_exporter": "python",
   "pygments_lexer": "ipython3",
   "version": "3.10.9"
  }
 },
 "nbformat": 4,
 "nbformat_minor": 5
}
