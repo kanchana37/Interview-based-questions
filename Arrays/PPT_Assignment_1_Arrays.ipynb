{
 "cells": [
  {
   "cell_type": "markdown",
   "id": "516ece77",
   "metadata": {},
   "source": [
    "# PPT Assignment-1"
   ]
  },
  {
   "cell_type": "markdown",
   "id": "64926d00",
   "metadata": {},
   "source": [
    "### Q1.Given an array of integers nums and an integer target, return indices of the two numbers such that they add up to target. You may assume that each input would have exactly one solution, and you may not use the same element twice. You can return the answer in any order.\n",
    "\n"
   ]
  },
  {
   "cell_type": "markdown",
   "id": "749731d2",
   "metadata": {},
   "source": [
    "Ans 1.The provided problem is a classic Two-Sum problem. We need to find two numbers from the given array that add up to the target number. Here's an approach to solve this problem:"
   ]
  },
  {
   "cell_type": "code",
   "execution_count": 1,
   "id": "d4353fbf",
   "metadata": {},
   "outputs": [
    {
     "name": "stdout",
     "output_type": "stream",
     "text": [
      "[0, 1]\n"
     ]
    }
   ],
   "source": [
    "def twoSum(nums, target):\n",
    "    # Create a dictionary to store the complement of each number\n",
    "    complement_dict = {}\n",
    "\n",
    "    # Iterate through the array\n",
    "    for i, num in enumerate(nums):\n",
    "        complement = target - num\n",
    "        # Check if the complement exists in the dictionary\n",
    "        if complement in complement_dict:\n",
    "            # Return the indices of the current number and its complement\n",
    "            return [complement_dict[complement], i]\n",
    "        else:\n",
    "            # Add the current number and its index to the dictionary\n",
    "            complement_dict[num] = i\n",
    "\n",
    "    # No two numbers found that add up to the target\n",
    "    return []\n",
    "\n",
    "# Example usage\n",
    "nums = [2, 7, 11, 15]\n",
    "target = 9\n",
    "result = twoSum(nums, target)\n",
    "print(result) \n"
   ]
  },
  {
   "cell_type": "markdown",
   "id": "0c3223dd",
   "metadata": {},
   "source": [
    "### complexity analysis\n",
    "\n",
    "1. Time complexity- O(n), where n is the length of the input array nums. This is because we iterate through the array once to check for the complements in the dictionary.\n",
    "2. space complexity-o(n)In the worst case, where no two numbers add up to the target, we might need to store all the numbers in the dictionary. "
   ]
  },
  {
   "cell_type": "markdown",
   "id": "76feb41e",
   "metadata": {},
   "source": [
    "### Q2. Given an integer array nums and an integer val, remove all occurrences of val in nums in-place. The order of the elements may be changed. Then return the number of elements in nums which are not equal to val. Consider the number of elements in nums which are not equal to val be k, to get accepted, you need to do the following things:\n",
    "\n",
    "- Change the array nums such that the first k elements of nums contain the elements which are not equal to val. The remaining elements of nums are not important as well as the size of nums.\n",
    "- Return k.\n"
   ]
  },
  {
   "cell_type": "markdown",
   "id": "e237cf23",
   "metadata": {},
   "source": [
    "### Ans2.  Approach: two pointers appraoch\n",
    "To solve the problem and meet the given requirements, you can use a two-pointer approach.\n",
    "\n",
    "#### Algorithm:\n",
    "1. We have two pointers, i and k, where i iterates through the array and k keeps track of the current position for elements that are not equal to val.\n",
    "\n",
    "2. We iterate through the array and check if the current element is not equal to val.\n",
    "\n",
    "3. If it's not equal to val, we move it to the kth position and increment k.\n",
    "\n",
    "4. After processing all elements, the modified array will have the desired elements in the first k positions.\n",
    "\n",
    "5. Finally, We return the value of k, which represents the count of elements not equal to val.\n",
    "\n",
    "Here's an implementation that modifies the array in-place and returns the count of elements that are not equal to the given value:"
   ]
  },
  {
   "cell_type": "code",
   "execution_count": 2,
   "id": "a258a4a8",
   "metadata": {},
   "outputs": [
    {
     "name": "stdout",
     "output_type": "stream",
     "text": [
      "2\n",
      "[2, 2, 2, 3]\n"
     ]
    }
   ],
   "source": [
    "def removeElement(nums, val):\n",
    "    # Initialize two pointers\n",
    "    i = 0  # pointer to the current position\n",
    "    k = 0  # count of elements not equal to val\n",
    "\n",
    "    # Iterate through the array\n",
    "    while i < len(nums):\n",
    "        # If the current element is not equal to val,\n",
    "        # move it to the kth position and increment k\n",
    "        if nums[i] != val:\n",
    "            nums[k] = nums[i]\n",
    "            k += 1\n",
    "        i += 1\n",
    "\n",
    "    # Return the count of elements not equal to val (k)\n",
    "    return k\n",
    "\n",
    "# Example usage\n",
    "nums = [3, 2, 2, 3]\n",
    "val = 3\n",
    "k = removeElement(nums, val)\n",
    "print(k)       \n",
    "print(nums)   "
   ]
  },
  {
   "cell_type": "markdown",
   "id": "93a13b81",
   "metadata": {},
   "source": [
    "### complexity analysis\n",
    "\n",
    "1. time complexity - O(n), where n is the length of the input array nums. This is because we iterate through the array once to check each element.\n",
    "\n",
    "2. space complexity -O(1) because we are modifying the array in-place without using any additional data structures that scale with the input size. We only use two pointers (i and k) and a constant amount of additional variables, regardless of the size of the input array. Therefore, the space required remains constant as the input size increases.\n"
   ]
  },
  {
   "cell_type": "markdown",
   "id": "8f987efd",
   "metadata": {},
   "source": [
    "### Q3. Given a sorted array of distinct integers and a target value, return the index if the target is found. If not, return the index where it would be if it were inserted in order. You must write an algorithm with O(log n) runtime complexity."
   ]
  },
  {
   "cell_type": "markdown",
   "id": "1b5fef23",
   "metadata": {},
   "source": [
    "Ans3. To solve this problem with a runtime complexity of O(log n), we can use the binary search algorithm to find the target or the position where it should be inserted.\n",
    "\n",
    "#### algorithm:\n",
    "1. Initialize two pointers, left and right, to the start and end of the array, respectively.\n",
    "\n",
    "2. Enter a while loop that continues as long as left is less than or equal to right.\n",
    "\n",
    "3. Calculate the middle index mid using integer division.\n",
    "\n",
    "4. Check if the value at index mid is equal to the target. If it is, return mid.\n",
    "\n",
    "5. If the value at index mid is less than the target, update left to mid + 1 to search in the right half of the array.\n",
    "\n",
    "6. If the value at index mid is greater than the target, update right to mid - 1 to search in the left half of the array.\n",
    "\n",
    "7. Repeat steps 3-6 until the target is found or the pointers cross each other.\n",
    "\n",
    "8. If the target is not found, return the value of left as it represents the position where the target would be inserted.\n",
    "\n",
    "Here's an implementation in Python:"
   ]
  },
  {
   "cell_type": "code",
   "execution_count": 3,
   "id": "a34c0ccf",
   "metadata": {},
   "outputs": [
    {
     "name": "stdout",
     "output_type": "stream",
     "text": [
      "2\n"
     ]
    }
   ],
   "source": [
    "def searchInsert(nums, target):\n",
    "    left = 0\n",
    "    right = len(nums) - 1\n",
    "\n",
    "    while left <= right:\n",
    "        mid = (left + right) // 2\n",
    "\n",
    "        if nums[mid] == target:\n",
    "            return mid\n",
    "        elif nums[mid] < target:\n",
    "            left = mid + 1\n",
    "        else:\n",
    "            right = mid - 1\n",
    "\n",
    "    return left\n",
    "\n",
    "# Example usage\n",
    "nums = [1, 3, 5, 6]\n",
    "target = 5\n",
    "index = searchInsert(nums, target)\n",
    "print(index)  # Output: 2\n"
   ]
  },
  {
   "cell_type": "markdown",
   "id": "025154db",
   "metadata": {},
   "source": [
    "### complexity analysis\n",
    "\n",
    "1. Time complexity -O(log n)\n",
    "2. space complexity -o(1)"
   ]
  },
  {
   "cell_type": "markdown",
   "id": "bb6bc8ef",
   "metadata": {},
   "source": [
    "### Q4. You are given a large integer represented as an integer array digits, where each digits[i] is the ith digit of the integer. The digits are ordered from most significant to least significant in left-to-right order. The large integer does not contain any leading 0's. Increment the large integer by one and return the resulting array of digits."
   ]
  },
  {
   "cell_type": "markdown",
   "id": "23787d71",
   "metadata": {},
   "source": [
    "Ans4. To solve this problem, you can follow a simple algorithm to increment the given array of digits as if it represents a large integer. Here's an implementation in Python:"
   ]
  },
  {
   "cell_type": "code",
   "execution_count": 4,
   "id": "baae167c",
   "metadata": {},
   "outputs": [
    {
     "name": "stdout",
     "output_type": "stream",
     "text": [
      "[1, 2, 4]\n"
     ]
    }
   ],
   "source": [
    "def plusOne(digits):\n",
    "    n = len(digits)\n",
    "    carry = 1\n",
    "\n",
    "    # Traverse the digits in reverse order\n",
    "    for i in range(n - 1, -1, -1):\n",
    "        # Add the carry to the current digit\n",
    "        digits[i] += carry\n",
    "        carry = digits[i] // 10\n",
    "        digits[i] %= 10\n",
    "\n",
    "        # If there is no carry, we can stop and return the result\n",
    "        if carry == 0:\n",
    "            return digits\n",
    "\n",
    "    # If there is still a carry, we need to insert a new digit at the beginning\n",
    "    if carry == 1:\n",
    "        digits.insert(0, carry)\n",
    "\n",
    "    return digits\n",
    "\n",
    "# Example usage\n",
    "digits = [1, 2, 3]\n",
    "result = plusOne(digits)\n",
    "print(result)  # Output: [1, 2, 4]\n"
   ]
  },
  {
   "cell_type": "markdown",
   "id": "3419041b",
   "metadata": {},
   "source": [
    "The code iterates through the digits array in reverse order, starting from the least significant digit. It adds the carry (initially 1) to each digit and updates the digit and carry accordingly. If there is no carry remaining, the updated array is returned. If there is still a carry after iterating through all digits, a new digit is inserted at the beginning of the array."
   ]
  },
  {
   "cell_type": "markdown",
   "id": "462eccb7",
   "metadata": {},
   "source": [
    "### complexity analysis\n",
    "\n",
    "1. Time complexity -O(n)-This is because we traverse the array once in the worst case, incrementing each digit by 1 and handling any resulting carries.\n",
    "2. space complexity -O(1)-because we are modifying the input array in-place without using any additional data structures that scale with the input size."
   ]
  },
  {
   "cell_type": "markdown",
   "id": "bdcee95a",
   "metadata": {},
   "source": [
    "### Q5. You are given two integer arrays nums1 and nums2, sorted in non-decreasing order, and two integers m and n, representing the number of elements in nums1 and nums2 respectively.Merge nums1 and nums2 into a single array sorted in non-decreasing order. The final sorted array should not be returned by the function, but instead be stored inside the array nums1. To accommodate this, nums1 has a length of m + n, where the first m elements denote the elements that should be merged, and the last n elements are set to 0 and should be ignored. nums2 has a length of n.\n"
   ]
  },
  {
   "cell_type": "markdown",
   "id": "073c7a71",
   "metadata": {},
   "source": [
    "### Ans5. Approach -Two pointers approach\n",
    "\n",
    "To merge two sorted arrays, nums1 and nums2, into nums1 in non-decreasing order, you can use a two-pointer approach. Since nums1 has enough space to accommodate both arrays, you can start comparing elements from the end of each array and place them in the correct positions in nums1.\n",
    "\n",
    "#### Algorithm\n",
    "\n",
    "1. The code initializes three pointers: p1 pointing to the last valid element in nums1, p2 pointing to the last element in nums2, and p pointing to the last position in nums1 where the merged elements will be placed.\n",
    "\n",
    "2. We compare elements from the end of both arrays and place the larger element in the p position in nums1. We then decrement the corresponding pointer (p1 or p2) and the merged array pointer (p).\n",
    "\n",
    "3. After merging all the elements from nums2, if there are remaining elements in nums2, we copy them to the beginning of nums1.\n",
    "\n",
    "Here's an implementation in Python"
   ]
  },
  {
   "cell_type": "code",
   "execution_count": 5,
   "id": "7829ccd0",
   "metadata": {},
   "outputs": [
    {
     "name": "stdout",
     "output_type": "stream",
     "text": [
      "[1, 2, 2, 3, 5, 6]\n"
     ]
    }
   ],
   "source": [
    "def merge(nums1, m, nums2, n):\n",
    "    p1 = m - 1  # Pointer for nums1\n",
    "    p2 = n - 1  # Pointer for nums2\n",
    "    p = m + n - 1  # Pointer for the merged array\n",
    "\n",
    "    # Merge elements from the end\n",
    "    while p1 >= 0 and p2 >= 0:\n",
    "        if nums1[p1] >= nums2[p2]:\n",
    "            nums1[p] = nums1[p1]\n",
    "            p1 -= 1\n",
    "        else:\n",
    "            nums1[p] = nums2[p2]\n",
    "            p2 -= 1\n",
    "        p -= 1\n",
    "\n",
    "    # If there are remaining elements in nums2, copy them to nums1\n",
    "    nums1[:p2 + 1] = nums2[:p2 + 1]\n",
    "\n",
    "# Example usage\n",
    "nums1 = [1, 2, 3, 0, 0, 0]\n",
    "m = 3\n",
    "nums2 = [2, 5, 6]\n",
    "n = 3\n",
    "\n",
    "merge(nums1, m, nums2, n)\n",
    "print(nums1)  # Output: [1, 2, 2, 3, 5, 6]\n"
   ]
  },
  {
   "cell_type": "markdown",
   "id": "2b19f764",
   "metadata": {},
   "source": [
    "### complexity analysis\n",
    "\n",
    "1. Time complexity - O(m+n)- where m and n are the lengths of nums1 and nums2, respectively. This is because we iterate through both arrays once, comparing and merging elements. The time complexity is linear with respect to the total number of elements in nums1 and nums2.\n",
    "2. space complexity - O(1)- since we are modifying nums1 in-place without using any additional data structures that scale with the input size. We only use a constant amount of extra space to store the pointers and variables required for the merging process. "
   ]
  },
  {
   "cell_type": "markdown",
   "id": "3753405a",
   "metadata": {},
   "source": [
    "### Q6. Given an integer array nums, return true if any value appears at least twice in the array, and return false if every element is distinct.\n"
   ]
  },
  {
   "cell_type": "markdown",
   "id": "7487459b",
   "metadata": {},
   "source": [
    "Ans6. To determine if any value appears at least twice in the given array nums, we can use a set data structure to keep track of the unique elements encountered. If a duplicate element is found, we can return True. Here's an implementation in Python:"
   ]
  },
  {
   "cell_type": "code",
   "execution_count": 8,
   "id": "431991e8",
   "metadata": {},
   "outputs": [
    {
     "name": "stdout",
     "output_type": "stream",
     "text": [
      "True\n"
     ]
    }
   ],
   "source": [
    "def containsDuplicate(nums):\n",
    "    seen = set()\n",
    "    for num in nums:\n",
    "        if num in seen:\n",
    "            return True\n",
    "        seen.add(num) #hashing\n",
    "    return False\n",
    "\n",
    "# Example usage\n",
    "nums = [1, 2, 3, 1]\n",
    "result = containsDuplicate(nums)\n",
    "print(result) "
   ]
  },
  {
   "cell_type": "markdown",
   "id": "06556d3a",
   "metadata": {},
   "source": [
    "The code iterates through each element in the array nums and checks if it already exists in the seen set. If it does, we return True since a duplicate element has been found. Otherwise, we add the element to the set seen. If the loop completes without finding any duplicates, we return False"
   ]
  },
  {
   "cell_type": "markdown",
   "id": "c5864f13",
   "metadata": {},
   "source": [
    "### complexity analysis\n",
    "\n",
    "1. Time complexity -O(n)\n",
    "2. space complexity -O(n)"
   ]
  },
  {
   "cell_type": "markdown",
   "id": "1bc5c581",
   "metadata": {},
   "source": [
    "### Q7. Given an integer array nums, move all 0's to the end of it while maintaining the relative order of the nonzero elements.\n",
    "\n",
    "Note: that you must do this in-place without making a copy of the array.\n",
    "\n"
   ]
  },
  {
   "cell_type": "markdown",
   "id": "008887e3",
   "metadata": {},
   "source": [
    "### Ans7. Approach -Two pointers approach \n",
    "To move all zeros to the end of the given array nums while maintaining the relative order of nonzero elements, you can use a two-pointer approach. \n",
    "\n",
    "#### Algorithm:\n",
    "1. The code initializes two pointers, left and right, both starting at index 0. The right pointer is used to traverse the array from left to right.\n",
    "\n",
    "2. We iterate through the array with the right pointer. If the element at nums[right] is non-zero, we swap it with the element at nums[left] and increment both pointers. This effectively moves non-zero elements towards the left side of the array.\n",
    "\n",
    "3. After traversing the entire array, all the non-zero elements have been moved to the left, and the remaining elements to the right of the left pointer are zeros.\n",
    "\n",
    "Here's an implementation in Python:"
   ]
  },
  {
   "cell_type": "code",
   "execution_count": 9,
   "id": "74fd4f0a",
   "metadata": {},
   "outputs": [
    {
     "name": "stdout",
     "output_type": "stream",
     "text": [
      "[1, 3, 12, 0, 0]\n"
     ]
    }
   ],
   "source": [
    "def moveZeroes(nums):\n",
    "    n = len(nums)\n",
    "    left = 0  # Pointer for the current position to swap\n",
    "    right = 0  # Pointer for traversing the array\n",
    "\n",
    "    # Move non-zero elements to the left\n",
    "    while right < n:\n",
    "        if nums[right] != 0:\n",
    "            nums[left], nums[right] = nums[right], nums[left]\n",
    "            left += 1\n",
    "        right += 1\n",
    "\n",
    "# Example usage\n",
    "nums = [0, 1, 0, 3, 12]\n",
    "moveZeroes(nums)\n",
    "print(nums)  # Output: [1, 3, 12, 0, 0]\n"
   ]
  },
  {
   "cell_type": "markdown",
   "id": "2872ec10",
   "metadata": {},
   "source": [
    "### Complexity analysis\n",
    "\n",
    "1. The time complexity of the provided solution is O(n), where n is the length of the input array nums. The solution involves iterating through the array once with two pointers, left and right. Each element is visited and potentially swapped once, so the time complexity is linear with respect to the size of the input array.\n",
    "\n",
    "2. The space complexity of the solution is O(1) because it uses only a constant amount of extra space to store the two pointers and temporary variables for swapping elements. The space required does not depend on the size of the input array, thus making it an in-place solution."
   ]
  },
  {
   "cell_type": "markdown",
   "id": "dbdf2531",
   "metadata": {},
   "source": [
    "### Q8. You have a set of integers s, which originally contains all the numbers from 1 to n. Unfortunately, due to some error, one of the numbers in s got duplicated to another number in the set, which results in repetition of one number and loss of another number. You are given an integer array nums representing the data status of this set after the error. Find the number that occurs twice and the number that is missing and return them in the form of an array.\n",
    "\n"
   ]
  },
  {
   "cell_type": "markdown",
   "id": "04829c02",
   "metadata": {},
   "source": [
    "Ans8. To find the number that occurs twice and the number that is missing in the given array nums, you can utilize the concept of a set and some arithmetic calculations. Here's an implementation in Python:"
   ]
  },
  {
   "cell_type": "code",
   "execution_count": 10,
   "id": "987a5c6d",
   "metadata": {},
   "outputs": [
    {
     "name": "stdout",
     "output_type": "stream",
     "text": [
      "[2, 3]\n"
     ]
    }
   ],
   "source": [
    "def findErrorNums(nums):\n",
    "    n = len(nums)\n",
    "    num_set = set(nums)\n",
    "    duplicate = sum(nums) - sum(num_set)\n",
    "    missing = (n * (n + 1) // 2) - sum(num_set)\n",
    "    return [duplicate, missing]\n",
    "\n",
    "# Example usage\n",
    "nums = [1, 2, 2, 4]\n",
    "result = findErrorNums(nums)\n",
    "print(result)  # Output: [2, 3]\n"
   ]
  },
  {
   "cell_type": "markdown",
   "id": "cd6887b7",
   "metadata": {},
   "source": [
    "#### algorithm:\n",
    "The code first creates a set called num_set to store the unique elements from the array nums. By converting nums to a set, we can easily identify the duplicate element by calculating the difference between the sum of all elements in nums and the sum of the elements in num_set.\n",
    "\n",
    "To find the missing number, we use the formula for the sum of consecutive integers from 1 to n, which is (n * (n + 1) // 2). We subtract the sum of num_set from this expected sum to obtain the missing number."
   ]
  },
  {
   "cell_type": "markdown",
   "id": "1a99076d",
   "metadata": {},
   "source": [
    "### complexity analysis\n",
    "\n",
    "1. The time complexity of the provided solution is O(n), where n is the length of the input array nums. The solution involves iterating through the array once to calculate the sum of all elements and the sum of the elements in the set.\n",
    "\n",
    "2. The space complexity of the solution is O(n) as well. The set num_set can potentially store all unique elements from the array, which would require O(n) space in the worst case. Additionally, the solution uses a constant amount of extra space to store the duplicate and missing numbers in the output array."
   ]
  },
  {
   "cell_type": "code",
   "execution_count": null,
   "id": "de7ab125",
   "metadata": {},
   "outputs": [],
   "source": []
  }
 ],
 "metadata": {
  "kernelspec": {
   "display_name": "Python 3 (ipykernel)",
   "language": "python",
   "name": "python3"
  },
  "language_info": {
   "codemirror_mode": {
    "name": "ipython",
    "version": 3
   },
   "file_extension": ".py",
   "mimetype": "text/x-python",
   "name": "python",
   "nbconvert_exporter": "python",
   "pygments_lexer": "ipython3",
   "version": "3.10.9"
  }
 },
 "nbformat": 4,
 "nbformat_minor": 5
}
