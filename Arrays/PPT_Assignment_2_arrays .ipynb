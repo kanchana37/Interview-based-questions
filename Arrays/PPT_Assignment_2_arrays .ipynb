{
 "cells": [
  {
   "cell_type": "markdown",
   "id": "d8d436e3",
   "metadata": {},
   "source": [
    "# Assignment_2_Arrays"
   ]
  },
  {
   "cell_type": "markdown",
   "id": "bd7119f1",
   "metadata": {},
   "source": [
    "### Q1. Given an integer array nums of 2n integers, group these integers into n pairs (a1, b1), (a2, b2),..., (an, bn) such that the sum of min(ai, bi) for all i is maximized. Return the maximized sum."
   ]
  },
  {
   "cell_type": "markdown",
   "id": "ae879832",
   "metadata": {},
   "source": [
    "Ans1. To maximize the sum of the minimum elements in the pairs, we should pair the smallest element with the second smallest element, the third smallest element with the fourth smallest element, and so on. This way, we ensure that the larger elements are paired together, contributing to a higher overall sum.\n",
    "\n",
    "#### algorithm\n",
    "\n",
    "1. Sort the given array nums in ascending order.\n",
    "2. Initialize a variable max_sum to 0.\n",
    "3. Iterate over the sorted array with a step size of 2, i.e., i ranging from 0 to length of nums - 1 with a step of 2.\n",
    "4. In each iteration, add the element at index i to max_sum.\n",
    "5. Return the value of max_sum."
   ]
  },
  {
   "cell_type": "code",
   "execution_count": 1,
   "id": "8d6596c1",
   "metadata": {},
   "outputs": [],
   "source": [
    "def arrayPairSum(nums):\n",
    "    nums.sort()  # Sort the array in ascending order\n",
    "    max_sum = 0\n",
    "    for i in range(0, len(nums), 2):\n",
    "        max_sum += nums[i]\n",
    "    return max_sum\n"
   ]
  },
  {
   "cell_type": "code",
   "execution_count": 2,
   "id": "5b28b371",
   "metadata": {},
   "outputs": [
    {
     "name": "stdout",
     "output_type": "stream",
     "text": [
      "7\n"
     ]
    }
   ],
   "source": [
    "nums = [2, 5, 3, 6]\n",
    "print(arrayPairSum(nums))\n"
   ]
  },
  {
   "cell_type": "markdown",
   "id": "11be3137",
   "metadata": {},
   "source": [
    "### complexity analysis"
   ]
  },
  {
   "cell_type": "markdown",
   "id": "0a9913cf",
   "metadata": {},
   "source": [
    "1. Time Complexity: The time complexity of this solution is O(n log n), where n is the length of the input array nums. This is because the sort() function has a time complexity of O(n log n).\n",
    "\n",
    "2. Space Complexity: The space complexity is O(1) because the algorithm uses only a constant amount of extra space, regardless of the size of the input array."
   ]
  },
  {
   "cell_type": "markdown",
   "id": "c0d9f064",
   "metadata": {},
   "source": [
    "### Q2.Alice has n candies, where the ith candy is of type candyType[i]. Alice noticed that she started to gain weight, so she visited a doctor.The doctor advised Alice to only eat n / 2 of the candies she has (n is always even). Alice likes her candies very much, and she wants to eat the maximum number of different types of candies while still following the doctor's advice. Given the integer array candyType of length n, return the maximum number of different types of candies she can eat if she only eats n / 2 of them.\n"
   ]
  },
  {
   "cell_type": "markdown",
   "id": "6c3d93b8",
   "metadata": {},
   "source": [
    "Ans 2. To find the maximum number of different types of candies Alice can eat while following the doctor's advice, we need to determine the number of unique candy types in the given array candyType. Alice can eat a maximum of n/2 candies, where n is the length of the array (always even).\n",
    "\n",
    "To solve this problem, we can follow these steps:\n",
    "\n",
    "1. Initialize an empty set unique_candies to store the unique candy types.\n",
    "2. Iterate over the elements in the candyType array.\n",
    "3. Add each candy type to the unique_candies set.\n",
    "4. After iterating through all the candies, calculate the minimum value between the length of unique_candies and n/2.\n",
    "5. Return the minimum value calculated in the previous step.\n",
    "\n",
    "Here's the implementation in Python:"
   ]
  },
  {
   "cell_type": "code",
   "execution_count": 3,
   "id": "2eedae23",
   "metadata": {},
   "outputs": [],
   "source": [
    "def maxCandies(candyType):\n",
    "    unique_candies = set()\n",
    "    for candy in candyType:\n",
    "        unique_candies.add(candy)\n",
    "    return min(len(unique_candies), len(candyType) // 2)\n"
   ]
  },
  {
   "cell_type": "code",
   "execution_count": 4,
   "id": "e0ca0929",
   "metadata": {},
   "outputs": [
    {
     "name": "stdout",
     "output_type": "stream",
     "text": [
      "3\n"
     ]
    }
   ],
   "source": [
    "candyType = [1, 1, 2, 2, 3, 3]\n",
    "print(maxCandies(candyType))"
   ]
  },
  {
   "cell_type": "markdown",
   "id": "b7779b83",
   "metadata": {},
   "source": [
    "### complexity analysis"
   ]
  },
  {
   "cell_type": "markdown",
   "id": "29118e48",
   "metadata": {},
   "source": [
    "1. Time Complexity: The time complexity of this solution is O(n), where n is the length of the candyType array. \n",
    "2. Space Complexity: The space complexity is O(n), where n is the length of the candyType array. This is because we create a set to store the unique types of candies, which can have at most n elements."
   ]
  },
  {
   "cell_type": "markdown",
   "id": "0025e875",
   "metadata": {},
   "source": [
    "### Q3.We define a harmonious array as an array where the difference between its maximum value and its minimum value is exactly 1. Given an integer array nums, return the length of its longest harmonious subsequence among all its possible subsequences. A subsequence of an array is a sequence that can be derived from the array by deleting some or no elements without changing the order of the remaining elements.\n",
    "Example 1:\n",
    "Input: nums = [1,3,2,2,5,2,3,7]\n",
    "Output: 5\n",
    "Explanation: The longest harmonious subsequence is [3,2,2,2,3]."
   ]
  },
  {
   "cell_type": "markdown",
   "id": "05b1782f",
   "metadata": {},
   "source": [
    "Ans 3. To find the length of its longest harmonious subsequence:-\n",
    "\n",
    "1. The solution uses a hashmap specifically the Counter object to count the frequency of each number in the array. \n",
    "2. It iterates over the keys of the count dictionary and checks if the current number and the next number exist in the dictionary. \n",
    "3. If they do, it calculates the length of the subsequence containing both numbers and updates the longest_subseq_len variable if necessary. \n",
    "4. Finally, it returns the length of the longest harmonious subsequence found."
   ]
  },
  {
   "cell_type": "code",
   "execution_count": 3,
   "id": "afdafb08",
   "metadata": {},
   "outputs": [],
   "source": [
    "from collections import Counter\n",
    "\n",
    "def findLHS(nums):\n",
    "    count = Counter(nums)  # Count the frequency of each number\n",
    "\n",
    "    longest_subseq_len = 0\n",
    "\n",
    "    for num in count:\n",
    "        if num + 1 in count:  # Check if the current number and the next number exist\n",
    "            subseq_len = count[num] + count[num + 1]\n",
    "            longest_subseq_len = max(longest_subseq_len, subseq_len)\n",
    "\n",
    "    return longest_subseq_len"
   ]
  },
  {
   "cell_type": "code",
   "execution_count": 6,
   "id": "1313055d",
   "metadata": {},
   "outputs": [
    {
     "name": "stdout",
     "output_type": "stream",
     "text": [
      "5\n"
     ]
    }
   ],
   "source": [
    "nums=[1,3,2,2,5,2,3,7]\n",
    "print(findLHS(nums))"
   ]
  },
  {
   "cell_type": "markdown",
   "id": "1171a25e",
   "metadata": {},
   "source": [
    "### complexity analysis"
   ]
  },
  {
   "cell_type": "markdown",
   "id": "702ac0e7",
   "metadata": {},
   "source": [
    "1. Time Complexity: The time complexity of this solution is O(n), where n is the length of the input array nums. Counting the frequency of each number in the array takes O(n) time, and iterating over the keys of the count dictionary takes at most O(n) time.\n",
    "\n",
    "2. Space Complexity: The space complexity is O(n), where n is the length of the input array nums. This is because we use a Counter object to count the frequency of each number in the array, which can have at most n elements."
   ]
  },
  {
   "cell_type": "markdown",
   "id": "62079d9d",
   "metadata": {},
   "source": [
    "### Q4. You have a long flowerbed in which some of the plots are planted, and some are not. However, flowers cannot be planted in adjacent plots. Given an integer array flowerbed containing 0's and 1's, where 0 means empty and 1 means not empty, and an integer n, return true if n new flowers can be planted in the flowerbed without violating the no-adjacent-flowers rule and false otherwise."
   ]
  },
  {
   "cell_type": "markdown",
   "id": "67feb4a4",
   "metadata": {},
   "source": [
    "### Ans4. Approach-1:- single scan approach\n",
    "\n",
    "#### Algorithm:\n",
    "\n",
    "We can find out the extra maximum number of flowers, count, that can be planted for the given flowerbed arrangement.To do so\n",
    "\n",
    "1. The solution iterates through the flowerbed array and checks each plot once. \n",
    "2. If a plot is empty (0) and the adjacent plots are also empty (either at the beginning, end, or both sides), a flower can be planted in that plot. \n",
    "3. The count variable keeps track of the number of flowers planted. \n",
    "4. Finally, the function returns true if the count is greater than or equal to n, indicating that n new flowers can be planted in the flowerbed without violating the no-adjacent-flowers rule.\n",
    "\n",
    "Here's a solution in Python to determine if n new flowers can be planted in a flowerbed without violating the no-adjacent-flowers rule:"
   ]
  },
  {
   "cell_type": "code",
   "execution_count": 21,
   "id": "527642a6",
   "metadata": {},
   "outputs": [],
   "source": [
    "def canPlaceFlowers(flowerbed, n):\n",
    "    count = 0\n",
    "    i = 0\n",
    "    while i < len(flowerbed):\n",
    "        if flowerbed[i] == 0:\n",
    "            if (i == 0 or flowerbed[i - 1] == 0) and (i == len(flowerbed) - 1 or flowerbed[i + 1] == 0):\n",
    "                flowerbed[i] = 1\n",
    "                count += 1\n",
    "        i += 1\n",
    "\n",
    "    return count >= n\n",
    "\n"
   ]
  },
  {
   "cell_type": "code",
   "execution_count": null,
   "id": "96eda833",
   "metadata": {},
   "outputs": [],
   "source": [
    "flowerbed = [1, 0, 0, 0, 1]\n",
    "n = 1\n",
    "\n",
    "can_be_planted = canPlaceFlowers(flowerbed, n)\n",
    "print(can_be_planted)"
   ]
  },
  {
   "cell_type": "markdown",
   "id": "cadef6fe",
   "metadata": {},
   "source": [
    "### Approach 2 - Optimized \n",
    "\n",
    "#### Algorithm\n",
    "\n",
    "Instead of finding the maximum value of count that can be obtained, as done in the last approach, we can stop the process of checking the positions for planting the flowers as soon as count becomes equal to n. Doing this leads to an optimization of the first approach. If count never becomes equal to n, n flowers can't be planted at the empty positions."
   ]
  },
  {
   "cell_type": "code",
   "execution_count": 19,
   "id": "dd2f1462",
   "metadata": {},
   "outputs": [],
   "source": [
    "def canPlaceFlowers(flowerbed, n):\n",
    "    count = 0\n",
    "    i = 0\n",
    "    while i < len(flowerbed):\n",
    "        #checking if the plots are empty\n",
    "        if flowerbed[i] == 0 and (i == 0 or flowerbed[i - 1] == 0) and (i == len(flowerbed) - 1 or flowerbed[i + 1] == 0):\n",
    "            flowerbed[i] = 1\n",
    "            count += 1\n",
    "            if count == n:  # Optimization: Stop when count reaches n\n",
    "                return True\n",
    "        i += 1\n",
    "\n",
    "    return count >= n\n",
    "\n"
   ]
  },
  {
   "cell_type": "code",
   "execution_count": 20,
   "id": "91182f5f",
   "metadata": {},
   "outputs": [
    {
     "name": "stdout",
     "output_type": "stream",
     "text": [
      "True\n"
     ]
    }
   ],
   "source": [
    "flowerbed = [1, 0, 0, 0, 1]\n",
    "n = 1\n",
    "\n",
    "can_be_planted = canPlaceFlowers(flowerbed, n)\n",
    "print(can_be_planted) "
   ]
  },
  {
   "cell_type": "markdown",
   "id": "61ff777d",
   "metadata": {},
   "source": [
    "### complexity analysis:\n",
    "\n",
    "1. Time complexity: o(n). A single scan of the flowerbed array of size nnn is done.\n",
    "\n",
    "2. Space complexity: O(1). Constant extra space is used."
   ]
  },
  {
   "cell_type": "markdown",
   "id": "491efa47",
   "metadata": {},
   "source": [
    "### Q5. Given an integer array nums, find three numbers whose product is maximum and return the maximum product.\n"
   ]
  },
  {
   "cell_type": "markdown",
   "id": "a25f6102",
   "metadata": {},
   "source": [
    "### Ans5. Approach-1 sorting arrays\n",
    "\n",
    "#### Algorithm:\n",
    "The solution first sorts the input array in ascending order. Then, it calculates the product of the last three elements of the sorted array (if all the numbers are positive) and the product of the first two elements and the last element (if there are negative numbers present). Finally, it returns the maximum product obtained from these two cases."
   ]
  },
  {
   "cell_type": "code",
   "execution_count": 25,
   "id": "43d21055",
   "metadata": {},
   "outputs": [],
   "source": [
    "def maximumProduct(nums):\n",
    "    nums.sort()  # Sort the array in ascending order\n",
    "\n",
    "    # Return the maximum of two cases:\n",
    "    # 1. The product of the last three elements (if all positive)\n",
    "    # 2. The product of the first two elements and the last element (if there are negative numbers)\n",
    "    return max(nums[-1] * nums[-2] * nums[-3], nums[0] * nums[1] * nums[-1])"
   ]
  },
  {
   "cell_type": "code",
   "execution_count": 26,
   "id": "b7184066",
   "metadata": {},
   "outputs": [
    {
     "name": "stdout",
     "output_type": "stream",
     "text": [
      "6\n"
     ]
    }
   ],
   "source": [
    "nums = [1, 2, 3]\n",
    "max_product = maximumProduct(nums)\n",
    "print(max_product)"
   ]
  },
  {
   "cell_type": "markdown",
   "id": "5370b9a0",
   "metadata": {},
   "source": [
    "### complexity analysis:\n",
    "    \n",
    "1. Time Complexity: The time complexity of this solution is O(n log n), where n is the length of the nums array. Sorting the array takes O(n log n) time.\n",
    "\n",
    "2. Space Complexity: The space complexity is O(1) because the algorithm uses a constant amount of extra space."
   ]
  },
  {
   "cell_type": "markdown",
   "id": "51a2b653",
   "metadata": {},
   "source": [
    "### Approach-2 Brute Force Approach\n",
    "\n",
    "To find the maximum product of three numbers, we can find all the triplets of the array and multiply them to get the maximum result.\n",
    "\n",
    "#### algorithm:\n",
    "\n",
    "1. Create a variable maxProduct and initialize it with INT_MIN\n",
    "2. Find all the triplets of the array, multiply them and update\n",
    "3. maxProduct with max(maxProduct, product(triplet))"
   ]
  },
  {
   "cell_type": "code",
   "execution_count": 8,
   "id": "9c47f6ea",
   "metadata": {},
   "outputs": [],
   "source": [
    "def maximum_product(nums):\n",
    "    n = len(nums)\n",
    "    max_product = float('-inf')\n",
    "\n",
    "    for i in range(n - 2):\n",
    "        for j in range(i + 1, n - 1):\n",
    "            for k in range(j + 1, n):\n",
    "                triplet_product = nums[i] * nums[j] * nums[k]\n",
    "                max_product = max(max_product, triplet_product)\n",
    "\n",
    "    return max_product"
   ]
  },
  {
   "cell_type": "code",
   "execution_count": 9,
   "id": "9c780a20",
   "metadata": {},
   "outputs": [
    {
     "name": "stdout",
     "output_type": "stream",
     "text": [
      "225\n"
     ]
    }
   ],
   "source": [
    "# Example usage\n",
    "nums = [1, 4, 5, 2, -5, -9, 3]\n",
    "result = maximum_product(nums)\n",
    "print(result)\n"
   ]
  },
  {
   "cell_type": "markdown",
   "id": "7eb46985",
   "metadata": {},
   "source": [
    "### Complexity Analysis\n",
    "\n",
    "1. Time Complexity: O(n³)\n",
    "\n",
    "2. Space Complexity: O(1)"
   ]
  },
  {
   "cell_type": "markdown",
   "id": "3e46d459",
   "metadata": {},
   "source": [
    "### Approach-3 Simple Linear scan\n",
    "\n",
    "This approach uses a simple linear scan of the input array to find the largest three values and the smallest two values. \n",
    "\n",
    "#### algorithm\n",
    "\n",
    "1. Create 5 variables to store the largest three integers and the smallest two integers of the nums array.\n",
    "2. Initialize three of them INT_MIN that be used to store the maximum three values of the array.\n",
    "3. Initialize the rest two with INT_MAX , that can be used to store the minimum two values of the array.\n",
    "4. In a single pass,iterate through the nums array and maintain all the five variables such that at the end, they would have stored maximum, 2nd maximum, 3rd maximum, minimum, 2nd minimum."
   ]
  },
  {
   "cell_type": "code",
   "execution_count": 5,
   "id": "f6b7d389",
   "metadata": {},
   "outputs": [],
   "source": [
    "import sys\n",
    "\n",
    "def maximum_product(nums):\n",
    "    max1 = max2 = max3 = -sys.maxsize - 1\n",
    "    min1 = min2 = sys.maxsize\n",
    "\n",
    "    for num in nums:\n",
    "        if num > max1:\n",
    "            max3 = max2\n",
    "            max2 = max1\n",
    "            max1 = num\n",
    "        elif num > max2:\n",
    "            max3 = max2\n",
    "            max2 = num\n",
    "        elif num > max3:\n",
    "            max3 = num\n",
    "\n",
    "        if num < min1:\n",
    "            min2 = min1\n",
    "            min1 = num\n",
    "        elif num < min2:\n",
    "            min2 = num\n",
    "\n",
    "    return max(max1 * max2 * max3, min1 * min2 * max1)"
   ]
  },
  {
   "cell_type": "code",
   "execution_count": 6,
   "id": "c72efa38",
   "metadata": {},
   "outputs": [
    {
     "name": "stdout",
     "output_type": "stream",
     "text": [
      "225\n"
     ]
    }
   ],
   "source": [
    "nums = [1, 4, 5, 2, -5, -9, 3]\n",
    "result = maximum_product(nums)\n",
    "print(result)"
   ]
  },
  {
   "cell_type": "markdown",
   "id": "56646d80",
   "metadata": {},
   "source": [
    "### Complexity Analysis\n",
    "\n",
    "1. Time Complexity: O(n)\n",
    "\n",
    "2. Space Complexity: O(1)"
   ]
  },
  {
   "cell_type": "markdown",
   "id": "5beb8afb",
   "metadata": {},
   "source": [
    "### Q6. Given an array of integers nums which is sorted in ascending order, and an integer target, write a function to search target in nums. If target exists, then return its index. Otherwise, return -1. You must write an algorithm with O(log n) runtime complexity."
   ]
  },
  {
   "cell_type": "markdown",
   "id": "cb3458f2",
   "metadata": {},
   "source": [
    "Ans 6. To search for a target in a sorted array of integers with O(log n) runtime complexity, you can use the binary search algorithm.\n",
    "\n",
    "#### Algorithm:\n",
    "\n",
    "1. The function search(nums, target) takes the sorted array nums and the target integer as inputs.\n",
    "2. It initializes two pointers, left and right, to the start and end of the array respectively.\n",
    "3. The algorithm enters a while loop that continues as long as the left pointer is less than or equal to the right pointer.\n",
    "4. Inside the loop, it calculates the middle index mid using the formula (left + right) // 2.\n",
    "5. It compares the value at the middle index nums[mid] with the target value.\n",
    "6. If nums[mid] is equal to the target, the target is found, and the function returns the index mid.\n",
    "7. If nums[mid] is less than the target, the target is in the right half of the remaining array. So, the left pointer is updated to mid + 1 to search in the right half.\n",
    "8. If nums[mid] is greater than the target, the target is in the left half of the remaining array. So, the right pointer is updated to mid - 1 to search in the left half.\n",
    "9. If the while loop ends without finding the target, the function returns -1 to indicate that the target is not present in the array.\n"
   ]
  },
  {
   "cell_type": "code",
   "execution_count": 10,
   "id": "3541fcf4",
   "metadata": {},
   "outputs": [
    {
     "name": "stdout",
     "output_type": "stream",
     "text": [
      "4\n"
     ]
    }
   ],
   "source": [
    "def search(nums, target):\n",
    "    left = 0\n",
    "    right = len(nums) - 1\n",
    "\n",
    "    while left <= right:\n",
    "        mid = left + (right - left) // 2\n",
    "\n",
    "        if nums[mid] == target:\n",
    "            return mid\n",
    "        elif nums[mid] < target:\n",
    "            left = mid + 1\n",
    "        else:\n",
    "            right = mid - 1\n",
    "\n",
    "    return -1\n",
    "\n",
    "# Example usage\n",
    "nums = [-1, 0, 3, 5, 9, 12]\n",
    "target = 9\n",
    "result = search(nums, target)\n",
    "print(result)\n"
   ]
  },
  {
   "cell_type": "markdown",
   "id": "ed96dd61",
   "metadata": {},
   "source": [
    "### Q7. An array is monotonic if it is either monotone increasing or monotone decreasing. An array nums is monotone increasing if for all i <= j, nums[i] <= nums[j]. An array nums is monotone decreasing if for all i <= j, nums[i] >= nums[j]. Given an integer array nums, return true if the given array is monotonic, or false otherwise.\n"
   ]
  },
  {
   "cell_type": "markdown",
   "id": "d3391284",
   "metadata": {},
   "source": [
    "Ans7. To determine if an array is monotonic, we can iterate through the array and check if it is either monotone increasing or monotone decreasing. \n",
    "\n",
    "#### Algorithm:\n",
    "\n",
    "1. In this code, the function is_monotonic takes the array nums as input. It initializes two boolean variables, increasing and decreasing, to True initially. These variables will be used to track if the array is monotone increasing or monotone decreasing.\n",
    "\n",
    "2. The algorithm iterates through the array starting from the second element (i = 1) using the range function. For each element, it compares it with the previous element.\n",
    "\n",
    "3. If an element is smaller than the previous element (nums[i] < nums[i - 1]), it means the array is not monotone increasing. So, it sets the increasing variable to False.\n",
    "\n",
    "4. If an element is greater than the previous element (nums[i] > nums[i - 1]), it means the array is not monotone decreasing. So, it sets the decreasing variable to False.\n",
    "\n",
    "5. After iterating through the entire array, the algorithm checks if either increasing or decreasing is True. If either is True, it means the array is monotonic, and the function returns True. Otherwise, it returns False.\n",
    "\n",
    "Here's the Python code that implements this logic:"
   ]
  },
  {
   "cell_type": "code",
   "execution_count": 11,
   "id": "1cf1c82d",
   "metadata": {},
   "outputs": [
    {
     "name": "stdout",
     "output_type": "stream",
     "text": [
      "True\n"
     ]
    }
   ],
   "source": [
    "def is_monotonic(nums):\n",
    "    increasing = decreasing = True\n",
    "\n",
    "    for i in range(1, len(nums)):\n",
    "        if nums[i] < nums[i - 1]:\n",
    "            increasing = False\n",
    "        if nums[i] > nums[i - 1]:\n",
    "            decreasing = False\n",
    "\n",
    "    return increasing or decreasing\n",
    "\n",
    "# Example usage\n",
    "nums = [1, 2, 2,3]\n",
    "result = is_monotonic(nums)\n",
    "print(result)"
   ]
  },
  {
   "cell_type": "markdown",
   "id": "3f45cf45",
   "metadata": {},
   "source": [
    "### complexity analysis\n",
    "\n",
    "1. Time complexity: O(n)-This is because the function iterates through the array once, comparing each element with its previous element.\n",
    "2. Space complexity: O(1) -The function uses a constant amount of extra space to store the boolean variables increasing and decreasing, regardless of the size of the input array"
   ]
  },
  {
   "cell_type": "markdown",
   "id": "6d9418f4",
   "metadata": {},
   "source": [
    "### Q8.You are given an integer array nums and an integer k. In one operation, you can choose any index i where 0 <= i < nums.length and change nums[i] to nums[i] + x where x is an integer from the range [-k, k]. You can apply this operation at most once for each index i. The score of nums is the difference between the maximum and minimum elements in nums. Return the minimum score of nums after applying the mentioned operation at most once for each index in it."
   ]
  },
  {
   "cell_type": "markdown",
   "id": "e6fc3623",
   "metadata": {},
   "source": [
    "Ans8. To minimize the score of the array nums after applying the mentioned operation at most once for each index, we can perform the following steps:\n",
    "\n",
    "1. Find the minimum and maximum values in the array nums and calculate the initial score as max(nums) - min(nums).\n",
    "2. Iterate through each element num in nums.\n",
    "3. For each num, calculate the minimum and maximum values that can be obtained by applying the operation num + x where x is in the range [-k, k]. These values can be calculated as min_val = min(num - k, current_min) and max_val = max(num + k, current_max), where current_min and current_max are the current minimum and maximum values obtained so far.\n",
    "4. Update the current minimum and maximum values if the newly calculated values are smaller or larger, respectively.\n",
    "5. After iterating through all elements, calculate the final score as current_max - current_min and return it.\n",
    "\n",
    "Here's the Python code that implements this algorithm:"
   ]
  },
  {
   "cell_type": "code",
   "execution_count": 12,
   "id": "304f39fe",
   "metadata": {},
   "outputs": [
    {
     "name": "stdout",
     "output_type": "stream",
     "text": [
      "0\n"
     ]
    }
   ],
   "source": [
    "def minimum_score(nums, k):\n",
    "    min_val = float('inf')\n",
    "    max_val = float('-inf')\n",
    "\n",
    "    for num in nums:\n",
    "        min_val = min(num - k, min_val)\n",
    "        max_val = max(num + k, max_val)\n",
    "\n",
    "    return max_val - min_val\n",
    "\n",
    "# Example usage\n",
    "nums =[1]\n",
    "k = 0\n",
    "\n",
    "result = minimum_score(nums, k)\n",
    "print(result)\n"
   ]
  },
  {
   "cell_type": "markdown",
   "id": "c8c424b5",
   "metadata": {},
   "source": [
    "### complexity analysis\n",
    "\n",
    "1. Time complexity:o(n)- the algorithm iterates through each element in nums exactly once, performing a constant amount of operations for each element.\n",
    "2. space complexity o(1)-it uses a constant amount of extra space that does not depend on the size of the input."
   ]
  },
  {
   "cell_type": "code",
   "execution_count": null,
   "id": "9e60d699",
   "metadata": {},
   "outputs": [],
   "source": []
  }
 ],
 "metadata": {
  "kernelspec": {
   "display_name": "Python 3 (ipykernel)",
   "language": "python",
   "name": "python3"
  },
  "language_info": {
   "codemirror_mode": {
    "name": "ipython",
    "version": 3
   },
   "file_extension": ".py",
   "mimetype": "text/x-python",
   "name": "python",
   "nbconvert_exporter": "python",
   "pygments_lexer": "ipython3",
   "version": "3.10.9"
  }
 },
 "nbformat": 4,
 "nbformat_minor": 5
}
