{
 "cells": [
  {
   "cell_type": "markdown",
   "id": "edd27101",
   "metadata": {},
   "source": [
    "# PPT Assignment-3"
   ]
  },
  {
   "cell_type": "markdown",
   "id": "412554c9",
   "metadata": {},
   "source": [
    "### Q1. Given an integer array nums of length n and an integer target, find three integers in nums such that the sum is closest to the target. Return the sum of the three integers. You may assume that each input would have exactly one solution."
   ]
  },
  {
   "cell_type": "markdown",
   "id": "7db26326",
   "metadata": {},
   "source": [
    "### Ans1.To find three integers in the array nums whose sum is closest to the target, we can use a two-pointer approach combined with sorting the array. \n",
    "\n",
    "#### algorithm:\n",
    "1. Sort the nums array in ascending order.\n",
    "2. Initialize a variable closest_sum with a large value (positive infinity).\n",
    "3. Iterate through the array from index 0 to n - 2, where n is the length of nums.\n",
    "4. For each element at index i, set two pointers, left and right, at indices i + 1 and n - 1 respectively.\n",
    "5. Enter a while loop with the condition left < right to perform a two-pointer traversal.\n",
    "6. Calculate the current sum of the three elements at indices i, left, and right.\n",
    "7. If the current sum is equal to the target, return the current sum as the closest sum.\n",
    "8. Check if the absolute difference between the current sum and the target is smaller than the absolute difference between the closest sum and the target.\n",
    "9. If it is, update closest_sum to the current sum.\n",
    "10. If the current sum is less than the target, increment the left pointer.\n",
    "- This is because increasing the sum requires adding a larger element, so we move the left pointer to the right.\n",
    "11. If the current sum is greater than the target, decrement the right pointer.\n",
    "- This is because decreasing the sum requires adding a smaller element, so we move the right pointer to the left.\n",
    "12. Repeat steps 6-10 until the two pointers meet (left >= right).\n",
    "13. Return the closest_sum found.\n",
    "\n",
    "Here's an optimized implementation in Python:"
   ]
  },
  {
   "cell_type": "code",
   "execution_count": 1,
   "id": "1dbc120f",
   "metadata": {},
   "outputs": [
    {
     "name": "stdout",
     "output_type": "stream",
     "text": [
      "2\n"
     ]
    }
   ],
   "source": [
    "def threeSumClosest(nums, target):\n",
    "    nums.sort()  # Sort the array in ascending order\n",
    "    n = len(nums)\n",
    "    closest_sum = float('inf')  # Initialize with a large value\n",
    "\n",
    "    for i in range(n - 2):\n",
    "        left = i + 1\n",
    "        right = n - 1\n",
    "\n",
    "        while left < right:\n",
    "            current_sum = nums[i] + nums[left] + nums[right]\n",
    "            \n",
    "            if current_sum == target:\n",
    "                return current_sum\n",
    "\n",
    "            # Update closest_sum if the current sum is closer to the target\n",
    "            if abs(current_sum - target) < abs(closest_sum - target):\n",
    "                closest_sum = current_sum\n",
    "\n",
    "            if current_sum < target:\n",
    "                left += 1\n",
    "            else:\n",
    "                right -= 1\n",
    "\n",
    "    return closest_sum\n",
    "\n",
    "# Example usage\n",
    "nums = [-1, 2, 1, -4]\n",
    "target = 1\n",
    "result = threeSumClosest(nums, target)\n",
    "print(result)  # Output: 2\n"
   ]
  },
  {
   "cell_type": "markdown",
   "id": "5e7371f7",
   "metadata": {},
   "source": [
    "### complexity analysis\n",
    "1. Time complexity -O(n^2) This complexity arises from the nested loops used to iterate over combinations of three elements in the array. The outer loop runs from index 0 to n - 3, and the inner while loop performs a two-pointer traversal from both ends of the array. As a result, the overall time complexity is quadratic.\n",
    "\n",
    "2. space complexity-O(1) it uses a constant amount of extra space. It does not utilize any data structures that scale with the size of the input array. "
   ]
  },
  {
   "cell_type": "markdown",
   "id": "d47c24f8",
   "metadata": {},
   "source": [
    "### Q2. Given an array nums of n integers, return an array of all the unique quadruplets [nums[a], nums[b], nums[c], nums[d]] such that:\n",
    "           ● 0 <= a, b, c, d < n\n",
    "           ● a, b, c, and d are distinct.\n",
    "           ● nums[a] + nums[b] + nums[c] + nums[d] == target\n",
    "\n",
    "You may return the answer in any order."
   ]
  },
  {
   "cell_type": "markdown",
   "id": "bee0e08c",
   "metadata": {},
   "source": [
    "### Ans2. To find all unique quadruplets in the nums array that sum up to the target, you can use a combination of sorting, two-pointer technique, and nested loops. \n",
    "\n",
    "#### Algorithm:\n",
    "1. Sort the nums array in ascending order.\n",
    "2. Iterate through the array using two nested loops to fix the first two elements of the quadruplet.\n",
    "3. Skip duplicates for the first element.\n",
    "4. Skip duplicates for the second element.\n",
    "5. Set two pointers, left and right, inside the remaining subarray.\n",
    "6. Perform a two-pointer traversal, updating the pointers based on the current sum:\n",
    "   a. If the sum is equal to the target, add the quadruplet to the result list and skip duplicates for the third and fourth elements.\n",
    "   b. If the sum is less than the target, increment left.\n",
    "   c. If the sum is greater than the target, decrement right.\n",
    "7. Repeat the two-pointer traversal until the pointers meet.\n",
    "8. Return the list of unique quadruplets found.\n",
    "\n",
    "Here's an implementation in Python:"
   ]
  },
  {
   "cell_type": "code",
   "execution_count": 2,
   "id": "2efaa3a3",
   "metadata": {},
   "outputs": [
    {
     "name": "stdout",
     "output_type": "stream",
     "text": [
      "[[-2, -1, 1, 2], [-2, 0, 0, 2], [-1, 0, 0, 1]]\n"
     ]
    }
   ],
   "source": [
    "def fourSum(nums, target):\n",
    "    nums.sort()  # Sort the array in ascending order\n",
    "    n = len(nums)\n",
    "    quadruplets = []\n",
    "\n",
    "    for i in range(n - 3):\n",
    "        # Skip duplicates for the first element\n",
    "        if i > 0 and nums[i] == nums[i - 1]:\n",
    "            continue\n",
    "\n",
    "        for j in range(i + 1, n - 2):\n",
    "            # Skip duplicates for the second element\n",
    "            if j > i + 1 and nums[j] == nums[j - 1]:\n",
    "                continue\n",
    "\n",
    "            left = j + 1\n",
    "            right = n - 1\n",
    "\n",
    "            while left < right:\n",
    "                current_sum = nums[i] + nums[j] + nums[left] + nums[right]\n",
    "\n",
    "                if current_sum == target:\n",
    "                    quadruplets.append([nums[i], nums[j], nums[left], nums[right]])\n",
    "\n",
    "                    # Skip duplicates for the third and fourth elements\n",
    "                    while left < right and nums[left] == nums[left + 1]:\n",
    "                        left += 1\n",
    "                    while left < right and nums[right] == nums[right - 1]:\n",
    "                        right -= 1\n",
    "\n",
    "                    left += 1\n",
    "                    right -= 1\n",
    "                elif current_sum < target:\n",
    "                    left += 1\n",
    "                else:\n",
    "                    right -= 1\n",
    "\n",
    "    return quadruplets\n",
    "\n",
    "# Example usage\n",
    "nums = [1, 0, -1, 0, -2, 2]\n",
    "target = 0\n",
    "result = fourSum(nums, target)\n",
    "print(result)  \n"
   ]
  },
  {
   "cell_type": "markdown",
   "id": "52706e06",
   "metadata": {},
   "source": [
    "### Complexity analysis\n",
    "1. The time complexity of this implementation is O(n^3), where n is the length of the nums array. The sorting step takes O(n log n), and the nested loops combined with the two-pointer traversal take O(n^3) in the worst case. \n",
    "\n",
    "2. The space complexity is O(1) since the additional space used is only for storing the result quadruplets."
   ]
  },
  {
   "cell_type": "markdown",
   "id": "cb3376a9",
   "metadata": {},
   "source": [
    "### Q3. A permutation of an array of integers is an arrangement of its members into a sequence or linear order. For example, for arr = [1,2,3], the following are all the permutations of arr:[1,2,3], [1,3,2], [2, 1, 3], [2, 3, 1], [3,1,2], [3,2,1].\n",
    "\n",
    "### The next permutation of an array of integers is the next lexicographically greater permutation of its integer. More formally, if all the permutations of the array are sorted in one container according to their lexicographical order, then the next N  permutation of that array is the permutation that follows it in the sorted container. If such an arrangement is not possible, the array must be rearranged as the lowest possible order (i.e., sorted in ascending order).\n",
    "\n",
    "#### ● For example, the next permutation of arr = [1,2,3] is [1,3,2].\n",
    "#### ● Similarly, the next permutation of arr = [2,3,1] is [3,1,2].\n",
    "#### ● While the next permutation of arr = [3,2,1] is [1,2,3] because [3,2,1] does not have a lexicographical larger rearrangement.\n",
    "\n",
    "### Given an array of integers nums, find the next permutation of nums. The replacement must be in place and use only constant extra memory.\n"
   ]
  },
  {
   "cell_type": "markdown",
   "id": "ca6963c9",
   "metadata": {},
   "source": [
    "Ans 3. To find the next permutation of the given array nums, we can follow the following steps:\n",
    "\n",
    "1. Start from the rightmost element of the array and find the first pair of adjacent elements nums[i] and nums[i-1] such that nums[i] > nums[i-1].\n",
    "2. If such a pair is found, it means we can make a lexicographically greater permutation by rearranging the elements.\n",
    "3. Find the smallest element in the subarray nums[i:] that is greater than nums[i-1]. Let's call this element nums[j].\n",
    "4. Swap nums[i-1] with nums[j].\n",
    "5. Reverse the subarray nums[i:] to get the next lexicographically greater permutation.\n",
    "6. If no pair is found in step 1, it means the given array is already in the highest possible order. In this case, we reverse the entire array to get the lowest possible order.\n",
    "\n",
    "Here's the implementation in Python:"
   ]
  },
  {
   "cell_type": "code",
   "execution_count": 5,
   "id": "b530db61",
   "metadata": {},
   "outputs": [
    {
     "name": "stdout",
     "output_type": "stream",
     "text": [
      "[1, 3, 2]\n"
     ]
    }
   ],
   "source": [
    "def nextPermutation(nums):\n",
    "    # Step 1: Find the first pair of adjacent elements in reverse order\n",
    "    i = len(nums) - 1\n",
    "    while i > 0 and nums[i] <= nums[i - 1]:\n",
    "        i -= 1\n",
    "\n",
    "    if i > 0:\n",
    "        # Step 2: Find the smallest element greater than nums[i-1] in nums[i:]\n",
    "        j = len(nums) - 1\n",
    "        while nums[j] <= nums[i - 1]:\n",
    "            j -= 1\n",
    "\n",
    "        # Step 3: Swap nums[i-1] and nums[j]\n",
    "        nums[i - 1], nums[j] = nums[j], nums[i - 1]\n",
    "\n",
    "    # Step 4: Reverse the subarray nums[i:]\n",
    "    left = i\n",
    "    right = len(nums) - 1\n",
    "    while left < right:\n",
    "        nums[left], nums[right] = nums[right], nums[left]\n",
    "        left += 1\n",
    "        right -= 1\n",
    "\n",
    "    return nums\n",
    "\n",
    "#example usage\n",
    "nums = [1,2,3]\n",
    "print(nextPermutation(nums))"
   ]
  },
  {
   "cell_type": "markdown",
   "id": "76fb18d9",
   "metadata": {},
   "source": [
    "### complexity analysis\n",
    "\n",
    "1. The time complexity of this algorithm is O(n), where n is the length of the nums array, as we perform a linear scan and a reverse operation. \n",
    "2. The space complexity is O(1) as we use only constant extra memory.\n"
   ]
  },
  {
   "cell_type": "markdown",
   "id": "4847ef90",
   "metadata": {},
   "source": [
    "### Q4. Given a sorted array of distinct integers and a target value, return the index if the target is found. If not, return the index where it would be if it were inserted in order.\n",
    "\n",
    "#### You must write an algorithm with O(log n) runtime complexity."
   ]
  },
  {
   "cell_type": "markdown",
   "id": "4c84893f",
   "metadata": {},
   "source": [
    "#### Ans4. To solve this problem, we can use a binary search algorithm since the input array is sorted. \n",
    "\n",
    "#### Algorithm\n",
    "1. Initialize two pointers, left and right, pointing to the leftmost and rightmost positions in the sorted array, respectively.\n",
    "2. Enter a while loop that continues as long as left is less than or equal to right.\n",
    "3. Calculate the middle index mid by taking the average of left and right.\n",
    "4. Check if the value at the middle index mid is equal to the target:\n",
    "   a. If it is, return mid as the index where the target is found.\n",
    "   b. If not, continue to the next step.\n",
    "5. Check if the value at mid is less than the target:\n",
    "   a. If it is, update left to mid + 1 to search in the right half of the array.\n",
    "   b. If not, update right to mid - 1 to search in the left half of the array.\n",
    "6. Repeat steps 3-6 until the target is found or left becomes greater than right.\n",
    "7. If the target is not found, return left as the index where the target would be inserted to maintain the sorted order.\n",
    "\n",
    "Here's an explanation of the code to find the index of the target value or its insertion position:"
   ]
  },
  {
   "cell_type": "code",
   "execution_count": 8,
   "id": "f0284c6f",
   "metadata": {},
   "outputs": [
    {
     "name": "stdout",
     "output_type": "stream",
     "text": [
      "2\n"
     ]
    }
   ],
   "source": [
    "def searchInsert(nums, target):\n",
    "    left = 0\n",
    "    right = len(nums) - 1\n",
    "\n",
    "    while left <= right:\n",
    "        mid = (left + right) // 2\n",
    "\n",
    "        if nums[mid] == target:\n",
    "            return mid\n",
    "        elif nums[mid] < target:\n",
    "            left = mid + 1\n",
    "        else:\n",
    "            right = mid - 1\n",
    "\n",
    "    return left\n",
    "\n",
    "#example usage\n",
    "nums = [1,3,5,6]\n",
    "target = 5\n",
    "print(searchInsert(nums,target))"
   ]
  },
  {
   "cell_type": "markdown",
   "id": "a861352f",
   "metadata": {},
   "source": [
    "### Q5. You are given a large integer represented as an integer array digits, where each digits[i] is the ith digit of the integer. The digits are ordered from most significant to least significant in left-to-right order. The large integer does not contain any leading 0's. Increment the large integer by one and return the resulting array of digits."
   ]
  },
  {
   "cell_type": "markdown",
   "id": "2b49944a",
   "metadata": {},
   "source": [
    "Ans5. To increment a large integer represented as an integer array, you can follow these steps:\n",
    "\n",
    "1. Initialize a carry variable to 1.\n",
    "2. Iterate through the digits array from right to left.\n",
    "3. For each digit, add the carry to it.\n",
    "4. If the sum is 10, set the carry to 1 and update the digit to 0.\n",
    "5. If the sum is less than 10, update the digit to the sum and set the carry to 0.\n",
    "5. After the loop, if the carry is still 1, insert it at the beginning of the array.\n",
    "6. Return the updated digits array.\n",
    "\n",
    "Here's the implementation in Python:"
   ]
  },
  {
   "cell_type": "code",
   "execution_count": 2,
   "id": "4b857b25",
   "metadata": {},
   "outputs": [
    {
     "name": "stdout",
     "output_type": "stream",
     "text": [
      "[1, 2, 4]\n"
     ]
    }
   ],
   "source": [
    "def plusOne(digits):\n",
    "    # Convert the array to an integer\n",
    "    num = 0\n",
    "    for digit in digits:\n",
    "        num = num * 10 + digit\n",
    "    \n",
    "    # Increment the integer by one\n",
    "    num += 1\n",
    "    \n",
    "    # Convert the incremented integer back to an array\n",
    "    result = []\n",
    "    while num > 0:\n",
    "        result.insert(0, num % 10)\n",
    "        num //= 10\n",
    "    \n",
    "    return result\n",
    "\n",
    "digits = [1, 2, 3]\n",
    "result = plusOne(digits)\n",
    "print(result)"
   ]
  },
  {
   "cell_type": "markdown",
   "id": "78f3d324",
   "metadata": {},
   "source": [
    "### complexity analysis\n",
    "\n",
    "1. The time complexity of the approach to increment a large integer represented as an integer array is O(n), where n is the length of the digits array. This is because we iterate through the array once to perform the addition operation and handle any carry overs.\n",
    "\n",
    "2. The space complexity is also O(n) because the resulting array will have the same length as the input digits array. We create a new array to store the incremented digits."
   ]
  },
  {
   "cell_type": "markdown",
   "id": "1d627c75",
   "metadata": {},
   "source": [
    "### Q6. Given a non-empty array of integers nums, every element appears twice except for one. Find that single one. You must implement a solution with a linear runtime complexity and use only constant extra space."
   ]
  },
  {
   "cell_type": "markdown",
   "id": "1862e7ca",
   "metadata": {},
   "source": [
    "Ans6. To find the element that appears only once in an array where every other element appears twice, we can use the XOR operation. \n",
    "XORing an element with itself cancels out and results in 0. Therefore, XORing all the elements in the array will give us the element that appears only once.\n",
    "Here's the implementation in Python:"
   ]
  },
  {
   "cell_type": "code",
   "execution_count": 3,
   "id": "b2efd01b",
   "metadata": {},
   "outputs": [
    {
     "name": "stdout",
     "output_type": "stream",
     "text": [
      "1\n"
     ]
    }
   ],
   "source": [
    "def findSingle(nums):\n",
    "    result = 0\n",
    "    for num in nums:\n",
    "        result ^= num\n",
    "    return result\n",
    "nums = [2, 2, 1]\n",
    "print(findSingle(nums))"
   ]
  },
  {
   "cell_type": "markdown",
   "id": "cb04d919",
   "metadata": {},
   "source": [
    "### complexity analysis\n",
    "1. The time complexity of this solution is O(n) since we iterate through the entire array once. \n",
    "2. The space complexity is O(1) since we are using a constant amount of extra space."
   ]
  },
  {
   "cell_type": "markdown",
   "id": "886d891f",
   "metadata": {},
   "source": [
    "### Q7. You are given an inclusive range [lower, upper] and a sorted unique integer array nums, where all elements are within the inclusive range. A number x is considered missing if x is in the range [lower, upper] and x is not in nums.\n",
    "\n",
    "### Return the shortest sorted list of ranges that exactly covers all the missing numbers. That is, no element of nums is included in any of the ranges, and each missing number is covered by one of the ranges.\n"
   ]
  },
  {
   "cell_type": "markdown",
   "id": "0d1005ce",
   "metadata": {},
   "source": [
    "Ans7. To solve this problem, we can iterate through the given range [lower, upper] and check for missing numbers by comparing them with the elements in the nums array. Whenever we encounter a missing number, we start a new range. Once we find a number that is not missing, we add the range to the result and continue the iteration.\n",
    "\n",
    "Here's the implementation in Python:"
   ]
  },
  {
   "cell_type": "code",
   "execution_count": 5,
   "id": "5f59ffec",
   "metadata": {},
   "outputs": [
    {
     "name": "stdout",
     "output_type": "stream",
     "text": [
      "[[2, 2], [4, 49], [51, 74], [76, 99]]\n"
     ]
    }
   ],
   "source": [
    "def findMissingRanges(nums, lower, upper):\n",
    "    result = []\n",
    "    prev = lower - 1  # Initialize the previous number to one less than the lower bound\n",
    "    \n",
    "    # Iterate through the range [lower, upper]\n",
    "    for num in nums + [upper + 1]:\n",
    "        if num - prev > 1:  # Missing number(s) found\n",
    "            result.append([prev + 1, num - 1])\n",
    "        prev = num\n",
    "    \n",
    "    return result\n",
    "\n",
    "nums = [0, 1, 3, 50, 75]\n",
    "lower = 0\n",
    "upper = 99\n",
    "print(findMissingRanges(nums, lower, upper))"
   ]
  },
  {
   "cell_type": "markdown",
   "id": "d4b14fdd",
   "metadata": {},
   "source": [
    "### complexity analysis\n",
    "1. The time complexity of the Missing Ranges algorithm is O(n), where n is the number of elements in the input array nums. This is because we iterate through the array once to identify the missing ranges.\n",
    "\n",
    "2. The space complexity of the algorithm is O(1) because we are not using any additional data structures that grow with the input size. The result is stored in a separate list, but its size is determined by the number of missing ranges, which is typically much smaller than the input array size. Therefore, the space usage is considered constant."
   ]
  },
  {
   "cell_type": "markdown",
   "id": "2422953e",
   "metadata": {},
   "source": [
    "### Q8. Given an array of meeting time intervals where intervals[i] = [starti, endi], determine if a person could attend all meetings."
   ]
  },
  {
   "cell_type": "markdown",
   "id": "f8873553",
   "metadata": {},
   "source": [
    "### Ans8. We will use interval scheduling algorithm to determine if a person could attend all meetings.\n",
    "We need to check if there are any overlapping intervals. If any two intervals overlap, it means that the person cannot attend all meetings without conflicting schedules.\n",
    "\n",
    "Here's the algorithm to solve the problem:\n",
    "\n",
    "1. Initialize an empty set called \"meetings\".\n",
    "2. Iterate through each interval in the intervals list.\n",
    "   a. For each interval, iterate through each minute from the start time to the end time.\n",
    "   b. If the current minute is already in the \"meetings\" set, it means there is an overlap, and the person cannot attend all the meetings. Return False.\n",
    "   c. Otherwise, add the current minute to the \"meetings\" set.\n",
    "3. If no overlaps are found, return True, indicating that the person can attend all the meetings.\n",
    "\n",
    "Here's the implementation of the algorithm in Python:"
   ]
  },
  {
   "cell_type": "code",
   "execution_count": 7,
   "id": "35f0f22e",
   "metadata": {},
   "outputs": [
    {
     "name": "stdout",
     "output_type": "stream",
     "text": [
      "False\n"
     ]
    }
   ],
   "source": [
    "def canAttendMeetings(intervals):\n",
    "    meetings = set()\n",
    "    for interval in intervals:\n",
    "        start, end = interval[0], interval[1]\n",
    "        for minute in range(start, end):\n",
    "            if minute in meetings:\n",
    "                return False  # Overlapping meetings found\n",
    "            meetings.add(minute)\n",
    "    return True  # No overlaps found\n",
    "\n",
    "# Example usage:\n",
    "intervals = [[0,30],[5,10],[15,20]]\n",
    "print(canAttendMeetings(intervals))\n"
   ]
  },
  {
   "cell_type": "markdown",
   "id": "ab8a7bae",
   "metadata": {},
   "source": [
    "### complexity analysis\n",
    "1. The time complexity is O(n), where n is the total number of minutes in all the intervals.\n",
    "2. The space complexity is O(m) as it uses additional space for the \"meetings\" set, resulting in a space complexity of O(m), where m is the number of unique minutes in all the intervals."
   ]
  },
  {
   "cell_type": "code",
   "execution_count": null,
   "id": "872133ec",
   "metadata": {},
   "outputs": [],
   "source": []
  }
 ],
 "metadata": {
  "kernelspec": {
   "display_name": "Python 3 (ipykernel)",
   "language": "python",
   "name": "python3"
  },
  "language_info": {
   "codemirror_mode": {
    "name": "ipython",
    "version": 3
   },
   "file_extension": ".py",
   "mimetype": "text/x-python",
   "name": "python",
   "nbconvert_exporter": "python",
   "pygments_lexer": "ipython3",
   "version": "3.10.9"
  }
 },
 "nbformat": 4,
 "nbformat_minor": 5
}
