{
 "cells": [
  {
   "cell_type": "markdown",
   "id": "50fa3a8d",
   "metadata": {},
   "source": [
    "# DSA ASSIGNMENT-24 "
   ]
  },
  {
   "cell_type": "markdown",
   "id": "e8587a52",
   "metadata": {},
   "source": [
    "<aside>\n",
    "💡 1. **Roman to Integer**\n",
    "\n",
    "Roman numerals are represented by seven different symbols: `I`, `V`, `X`, `L`, `C`, `D` and `M`.\n",
    "\n",
    "```\n",
    "SymbolValue\n",
    "I             1\n",
    "V             5\n",
    "X             10\n",
    "L             50\n",
    "C             100\n",
    "D             500\n",
    "M             1000\n",
    "```\n",
    "\n",
    "For example, `2` is written as `II` in Roman numeral, just two ones added together. `12` is written as `XII`, which is simply `X + II`. The number `27` is written as `XXVII`, which is `XX + V + II`.\n",
    "\n",
    "Roman numerals are usually written largest to smallest from left to right. However, the numeral for four is not `IIII`. Instead, the number four is written as `IV`. Because the one is before the five we subtract it making four. The same principle applies to the number nine, which is written as `IX`. There are six instances where subtraction is used:\n",
    "\n",
    "- `I` can be placed before `V` (5) and `X` (10) to make 4 and 9.\n",
    "- `X` can be placed before `L` (50) and `C` (100) to make 40 and 90.\n",
    "- `C` can be placed before `D` (500) and `M` (1000) to make 400 and 900.\n",
    "\n",
    "Given a roman numeral, convert it to an integer.\n",
    "\n",
    "**Example 1:**\n",
    "\n",
    "```\n",
    "Input: s = \"III\"\n",
    "Output: 3\n",
    "Explanation: III = 3.\n",
    "```\n",
    "\n",
    "**Example 2:**\n",
    "\n",
    "```\n",
    "Input: s = \"LVIII\"\n",
    "Output: 58\n",
    "Explanation: L = 50, V= 5, III = 3.\n",
    "```\n",
    "\n",
    "**Constraints:**\n",
    "\n",
    "- `1 <= s.length <= 15`\n",
    "- `s` contains only the characters `('I', 'V', 'X', 'L', 'C', 'D', 'M')`.\n",
    "- It is **guaranteed** that `s` is a valid roman numeral in the range `[1, 3999]`.\n",
    "</aside>\n"
   ]
  },
  {
   "cell_type": "code",
   "execution_count": 4,
   "id": "f14457c7",
   "metadata": {},
   "outputs": [
    {
     "name": "stdout",
     "output_type": "stream",
     "text": [
      "Integer value: 17\n"
     ]
    }
   ],
   "source": [
    "def roman_to_int(s):\n",
    "    roman_values = {\n",
    "        'I': 1,\n",
    "        'V': 5,\n",
    "        'X': 10,\n",
    "        'L': 50,\n",
    "        'C': 100,\n",
    "        'D': 500,\n",
    "        'M': 1000\n",
    "    }\n",
    "    result = 0\n",
    "    prev_value = 0\n",
    "    for c in s[::-1]:\n",
    "        value = roman_values[c]\n",
    "        if value >= prev_value:\n",
    "            result += value\n",
    "        else:\n",
    "            result -= value\n",
    "        prev_value = value\n",
    "    return result\n",
    "\n",
    "# Example usage\n",
    "roman_numeral = \"XVII\"\n",
    "result = roman_to_int(roman_numeral)\n",
    "print(\"Integer value:\", result)"
   ]
  },
  {
   "cell_type": "markdown",
   "id": "696f619f",
   "metadata": {},
   "source": [
    "💡 2. **Longest Substring Without Repeating Characters**\n",
    "\n",
    "Given a string `s`, find the length of the **longest substring** without repeating characters."
   ]
  },
  {
   "cell_type": "code",
   "execution_count": 5,
   "id": "f1fae414",
   "metadata": {},
   "outputs": [
    {
     "name": "stdout",
     "output_type": "stream",
     "text": [
      "Length of longest substring without repeating characters: 3\n"
     ]
    }
   ],
   "source": [
    "def length_of_longest_substring(s):\n",
    "    max_length = 0\n",
    "    left = 0\n",
    "    char_index_map = {}\n",
    "    for right in range(len(s)):\n",
    "        if s[right] in char_index_map and char_index_map[s[right]] >= left:\n",
    "            left = char_index_map[s[right]] + 1\n",
    "        char_index_map[s[right]] = right\n",
    "        max_length = max(max_length, right - left + 1)\n",
    "    return max_length\n",
    "\n",
    "# Example usage\n",
    "string = \"abcabcbb\"\n",
    "result = length_of_longest_substring(string)\n",
    "print(\"Length of longest substring without repeating characters:\", result)"
   ]
  },
  {
   "cell_type": "markdown",
   "id": "30089574",
   "metadata": {},
   "source": [
    "💡 Q3. **Majority Element**\n",
    "\n",
    "Given an array `nums` of size `n`, return *the majority element*.\n",
    "\n",
    "The majority element is the element that appears more than `⌊n / 2⌋` times. You may assume that the majority element always exists in the array.\n"
   ]
  },
  {
   "cell_type": "code",
   "execution_count": 7,
   "id": "b3f61861",
   "metadata": {},
   "outputs": [
    {
     "name": "stdout",
     "output_type": "stream",
     "text": [
      "Majority element: 2\n"
     ]
    }
   ],
   "source": [
    "def majority_element(nums):\n",
    "    counts = {}\n",
    "    n = len(nums)\n",
    "    for num in nums:\n",
    "        counts[num] = counts.get(num, 0) + 1\n",
    "        if counts[num] > n // 2:\n",
    "            return num\n",
    "    return -1  # Majority element not found\n",
    "\n",
    "# Example usage\n",
    "numbers = [2, 2, 1, 1, 1, 2, 2]\n",
    "result = majority_element(numbers)\n",
    "print(\"Majority element:\", result)"
   ]
  },
  {
   "cell_type": "markdown",
   "id": "d5684f4a",
   "metadata": {},
   "source": [
    "💡 Q4. **Group Anagram**\n",
    "\n",
    "Given an array of strings `strs`, group **the anagrams** together. You can return the answer in **any order**.\n",
    "\n",
    "An **Anagram** is a word or phrase formed by rearranging the letters of a different word or phrase, typically using all the original letters exactly once.\n"
   ]
  },
  {
   "cell_type": "code",
   "execution_count": 9,
   "id": "285488f4",
   "metadata": {},
   "outputs": [
    {
     "name": "stdout",
     "output_type": "stream",
     "text": [
      "Anagram groups: [['eat', 'tea', 'ate'], ['tan', 'nat'], ['bat']]\n"
     ]
    }
   ],
   "source": [
    "from collections import defaultdict\n",
    "\n",
    "def group_anagrams(strs):\n",
    "    anagram_groups = defaultdict(list)\n",
    "    for word in strs:\n",
    "        sorted_word = \"\".join(sorted(word))\n",
    "        anagram_groups[sorted_word].append(word)\n",
    "    return list(anagram_groups.values())\n",
    "\n",
    "# Example usage\n",
    "strings = [\"eat\", \"tea\", \"tan\", \"ate\", \"nat\", \"bat\"]\n",
    "result = group_anagrams(strings)\n",
    "print(\"Anagram groups:\", result)"
   ]
  },
  {
   "cell_type": "markdown",
   "id": "3824701c",
   "metadata": {},
   "source": [
    "💡 Q5. **Ugly Numbers**\n",
    "\n",
    "An **ugly number** is a positive integer whose prime factors are limited to `2`, `3`, and `5`.\n",
    "\n",
    "Given an integer `n`, return *the* `nth` ***ugly number***."
   ]
  },
  {
   "cell_type": "code",
   "execution_count": 11,
   "id": "4a22e392",
   "metadata": {},
   "outputs": [
    {
     "name": "stdout",
     "output_type": "stream",
     "text": [
      "The 10 th ugly number: 12\n"
     ]
    }
   ],
   "source": [
    "def nth_ugly_number(n):\n",
    "    ugly_nums = [1]\n",
    "    i2 = i3 = i5 = 0\n",
    "    while len(ugly_nums) < n:\n",
    "        next_ugly = min(ugly_nums[i2] * 2, ugly_nums[i3] * 3, ugly_nums[i5] * 5)\n",
    "        if next_ugly == ugly_nums[i2] * 2:\n",
    "            i2 += 1\n",
    "        if next_ugly == ugly_nums[i3] * 3:\n",
    "            i3 += 1\n",
    "        if next_ugly == ugly_nums[i5] * 5:\n",
    "            i5 += 1\n",
    "        ugly_nums.append(next_ugly)\n",
    "    return ugly_nums[-1]\n",
    "\n",
    "# Example usage\n",
    "n = 10\n",
    "result = nth_ugly_number(n)\n",
    "print(\"The\", n, \"th ugly number:\", result)"
   ]
  },
  {
   "cell_type": "markdown",
   "id": "e5ece8e3",
   "metadata": {},
   "source": [
    "💡 Q6. **Top K Frequent Words**\n",
    "\n",
    "Given an array of strings `words` and an integer `k`, return *the* `k` *most frequent strings*.\n",
    "\n",
    "Return the answer **sorted** by **the frequency** from highest to lowest. Sort the words with the same frequency by their **lexicographical order**."
   ]
  },
  {
   "cell_type": "code",
   "execution_count": 14,
   "id": "c5c2e741",
   "metadata": {},
   "outputs": [
    {
     "name": "stdout",
     "output_type": "stream",
     "text": [
      "Top 2 frequent words: ['cherry', 'banana']\n"
     ]
    }
   ],
   "source": [
    "from heapq import heapify, heappop\n",
    "\n",
    "def top_k_frequent(words, k):\n",
    "    counts = {}\n",
    "    for word in words:\n",
    "        counts[word] = counts.get(word, 0) - 1  # Negate count for proper ordering\n",
    "    min_heap = [(-count, word) for word, count in counts.items()]\n",
    "    heapify(min_heap)\n",
    "    return [heappop(min_heap)[1] for _ in range(k)]\n",
    "\n",
    "# Example usage\n",
    "word_list = [\"apple\", \"banana\", \"cherry\", \"apple\", \"banana\", \"apple\"]\n",
    "k = 2\n",
    "result = top_k_frequent(word_list, k)\n",
    "print(\"Top\", k, \"frequent words:\", result)"
   ]
  },
  {
   "cell_type": "markdown",
   "id": "9d6f104a",
   "metadata": {},
   "source": [
    "💡 Q7. **Sliding Window Maximum**\n",
    "\n",
    "You are given an array of integers `nums`, there is a sliding window of size `k` which is moving from the very left of the array to the very right. You can only see the `k` numbers in the window. Each time the sliding window moves right by one position.\n",
    "\n",
    "Return *the max sliding window*."
   ]
  },
  {
   "cell_type": "code",
   "execution_count": 15,
   "id": "73ca8f40",
   "metadata": {},
   "outputs": [
    {
     "name": "stdout",
     "output_type": "stream",
     "text": [
      "Maximum elements in sliding windows of size 3 : [3, 3, 5, 5, 6, 7]\n"
     ]
    }
   ],
   "source": [
    "from collections import deque\n",
    "\n",
    "def max_sliding_window(nums, k):\n",
    "    window_max = []\n",
    "    window = deque()\n",
    "    for i, num in enumerate(nums):\n",
    "        while window and nums[window[-1]] <= num:\n",
    "            window.pop()\n",
    "        window.append(i)\n",
    "        if window[0] <= i - k:\n",
    "            window.popleft()\n",
    "        if i >= k - 1:\n",
    "            window_max.append(nums[window[0]])\n",
    "    return window_max\n",
    "\n",
    "# Example usage\n",
    "numbers = [1, 3, -1, -3, 5, 3, 6, 7]\n",
    "k = 3\n",
    "result = max_sliding_window(numbers, k)\n",
    "print(\"Maximum elements in sliding windows of size\", k, \":\", result)"
   ]
  },
  {
   "cell_type": "markdown",
   "id": "36005d2e",
   "metadata": {},
   "source": [
    "💡 Q8. **Find K Closest Elements**\n",
    "\n",
    "Given a **sorted** integer array `arr`, two integers `k` and `x`, return the `k` closest integers to `x` in the array. The result should also be sorted in ascending order.\n",
    "\n",
    "An integer `a` is closer to `x` than an integer `b` if:\n",
    "\n",
    "- `|a - x| < |b - x|`, or\n",
    "- `|a - x| == |b - x|` and `a < b`"
   ]
  },
  {
   "cell_type": "code",
   "execution_count": 17,
   "id": "ee8a81d0",
   "metadata": {},
   "outputs": [
    {
     "name": "stdout",
     "output_type": "stream",
     "text": [
      "Closest 3 elements to 3 : [2, 3, 4]\n"
     ]
    }
   ],
   "source": [
    "from heapq import heappop, heappush\n",
    "\n",
    "def find_closest_elements(arr, k, x):\n",
    "    max_heap = []\n",
    "    for num in arr:\n",
    "        diff = abs(num - x)\n",
    "        if len(max_heap) < k:\n",
    "            heappush(max_heap, (-diff, -num))\n",
    "        elif diff < -max_heap[0][0]:\n",
    "            heappop(max_heap)\n",
    "            heappush(max_heap, (-diff, -num))\n",
    "    closest_nums = [-num for _, num in max_heap]\n",
    "    closest_nums.sort()\n",
    "    return closest_nums\n",
    "\n",
    "# Example usage\n",
    "numbers = [1, 2, 3, 4, 5]\n",
    "k = 3\n",
    "x = 3\n",
    "result = find_closest_elements(numbers, k, x)\n",
    "print(\"Closest\", k, \"elements to\", x, \":\", result)"
   ]
  },
  {
   "cell_type": "code",
   "execution_count": null,
   "id": "b999639f",
   "metadata": {},
   "outputs": [],
   "source": []
  }
 ],
 "metadata": {
  "kernelspec": {
   "display_name": "Python 3 (ipykernel)",
   "language": "python",
   "name": "python3"
  },
  "language_info": {
   "codemirror_mode": {
    "name": "ipython",
    "version": 3
   },
   "file_extension": ".py",
   "mimetype": "text/x-python",
   "name": "python",
   "nbconvert_exporter": "python",
   "pygments_lexer": "ipython3",
   "version": "3.10.9"
  }
 },
 "nbformat": 4,
 "nbformat_minor": 5
}
