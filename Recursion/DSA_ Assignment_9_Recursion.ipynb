{
 "cells": [
  {
   "cell_type": "markdown",
   "id": "1aa8081b",
   "metadata": {},
   "source": [
    "# Assignment-9 Recursion"
   ]
  },
  {
   "cell_type": "markdown",
   "id": "c2933a00",
   "metadata": {},
   "source": [
    "### Q.1 Given an integer `n`, return *`true` if it is a power of two. Otherwise, return `false`*. An integer `n` is a power of two, if there exists an integer `x` such that `n == 2x`.\n",
    "\n",
    "**Example 1:**\n",
    "Input: n = 1 \n",
    "\n",
    "Output: true\n",
    "\n",
    "**Example 2:**\n",
    "Input: n = 16 \n",
    "\n",
    "Output: true\n",
    "\n",
    "**Example 3:**\n",
    "Input: n = 3 \n",
    "\n",
    "Output: false"
   ]
  },
  {
   "cell_type": "code",
   "execution_count": 5,
   "id": "84bd43b7",
   "metadata": {},
   "outputs": [
    {
     "name": "stdout",
     "output_type": "stream",
     "text": [
      "True\n",
      "True\n",
      "False\n"
     ]
    }
   ],
   "source": [
    "def isPowerOfTwo(n):\n",
    "    if n == 1:\n",
    "        return True\n",
    "    elif n < 1 or n % 2 != 0:\n",
    "        return False\n",
    "\n",
    "    return isPowerOfTwo(n // 2)\n",
    "\n",
    "print(isPowerOfTwo(1))  # True\n",
    "print(isPowerOfTwo(16))  # True\n",
    "print(isPowerOfTwo(3))  # False\n"
   ]
  },
  {
   "cell_type": "markdown",
   "id": "447d430c",
   "metadata": {},
   "source": [
    "### complexity analysis\n",
    "1. The time complexity of this recursive solution is O(log n). Each recursive call reduces the value of n by half (n // 2). The number of recursive calls required to reach the base case (n == 1) is proportional to the logarithm of n (base 2). Therefore, the time complexity is logarithmic, or O(log n).\n",
    "\n",
    "2. The space complexity of the solution is O(log n) as well. Each recursive call adds a new frame to the call stack, consuming space."
   ]
  },
  {
   "cell_type": "markdown",
   "id": "79041cf2",
   "metadata": {},
   "source": [
    "### Q2. Given a number n, find the sum of the first natural numbers.\n",
    "**Example 1:**\n",
    "\n",
    "Input: n = 3 \n",
    "\n",
    "Output: 6\n",
    "\n",
    "**Example 2:**\n",
    "\n",
    "Input  : 5 \n",
    "\n",
    "Output : 15"
   ]
  },
  {
   "cell_type": "code",
   "execution_count": 6,
   "id": "2ec55cfa",
   "metadata": {},
   "outputs": [
    {
     "name": "stdout",
     "output_type": "stream",
     "text": [
      "6\n",
      "15\n"
     ]
    }
   ],
   "source": [
    "def sumOfNaturalNumbers(n):\n",
    "    sum = (n * (n + 1)) // 2\n",
    "    return sum\n",
    "\n",
    "# Testing the function\n",
    "print(sumOfNaturalNumbers(3)) \n",
    "print(sumOfNaturalNumbers(5))  \n"
   ]
  },
  {
   "cell_type": "markdown",
   "id": "4bba19bf",
   "metadata": {},
   "source": [
    "### Complexity analysis\n",
    "1. The time complexity of the sumOfNaturalNumbers function is O(1) because the computation of the sum involves a constant number of arithmetic operations, regardless of the value of n. The time complexity does not depend on the size of the input.\n",
    "\n",
    "2. The space complexity of the function is also O(1) because it only uses a fixed amount of additional space to store the result of the computation (sum). The space required does not scale with the input size."
   ]
  },
  {
   "cell_type": "markdown",
   "id": "cc20f7ac",
   "metadata": {},
   "source": [
    "### Q3. Given a positive integer, N. Find the factorial of N. \n",
    "\n",
    "**Example 1:**\n",
    "\n",
    "Input: N = 5 \n",
    "\n",
    "Output: 120\n",
    "\n",
    "**Example 2:**\n",
    "\n",
    "Input: N = 4\n",
    "\n",
    "Output: 24"
   ]
  },
  {
   "cell_type": "code",
   "execution_count": 7,
   "id": "ee7c9aac",
   "metadata": {},
   "outputs": [
    {
     "name": "stdout",
     "output_type": "stream",
     "text": [
      "120\n",
      "24\n"
     ]
    }
   ],
   "source": [
    "def factorial(N):\n",
    "    # Base case: factorial of 0 or 1 is 1\n",
    "    if N == 0 or N == 1:\n",
    "        return 1\n",
    "\n",
    "    # Recursive case: factorial of N is N multiplied by factorial of N-1\n",
    "    return N * factorial(N - 1)\n",
    "\n",
    "# Testing the function\n",
    "print(factorial(5))  # Output: 120\n",
    "print(factorial(4))  # Output: 24"
   ]
  },
  {
   "cell_type": "markdown",
   "id": "fef9bf26",
   "metadata": {},
   "source": [
    "### Complexity analysis\n",
    "1. The time complexity of this recursive solution is O(N) because the function makes N recursive calls, each taking constant time. \n",
    "2. The space complexity is also O(N) due to the recursive calls, as the maximum depth of the call stack is proportional to N."
   ]
  },
  {
   "cell_type": "markdown",
   "id": "f4062bd3",
   "metadata": {},
   "source": [
    "### Q4. Given a number N and a power P, the task is to find the exponent of this number raised to the given power, i.e. N^P.\n",
    "\n",
    "**Example 1 :** \n",
    "\n",
    "Input: N = 5, P = 2\n",
    "\n",
    "Output: 25\n",
    "\n",
    "**Example 2 :**\n",
    "Input: N = 2, P = 5\n",
    "\n",
    "Output: 32"
   ]
  },
  {
   "cell_type": "markdown",
   "id": "94788f6a",
   "metadata": {},
   "source": [
    "Ans4. To find the exponent of a number N raised to a given power P, you can use a recursive approach. Here's the implementation in Python:"
   ]
  },
  {
   "cell_type": "code",
   "execution_count": 10,
   "id": "0793f647",
   "metadata": {},
   "outputs": [
    {
     "name": "stdout",
     "output_type": "stream",
     "text": [
      "25\n",
      "32\n"
     ]
    }
   ],
   "source": [
    "def power(N, P):\n",
    "    # Base case: if the power is 0, return 1\n",
    "    if P == 0:\n",
    "        return 1\n",
    "\n",
    "    # Recursive case: calculate N raised to P-1 and multiply it by N\n",
    "    return N * power(N, P - 1)\n",
    "\n",
    "# Testing the function\n",
    "print(power(5, 2))  # Output: 25\n",
    "print(power(2, 5))  # Output: 32"
   ]
  },
  {
   "cell_type": "markdown",
   "id": "2bd941ea",
   "metadata": {},
   "source": [
    "### Complexity analysis\n",
    "1. The time complexity of this recursive solution is O(P) because the function makes P recursive calls, each taking constant time. \n",
    "2. The space complexity is also O(P) due to the recursive calls, as the maximum depth of the call stack is proportional to P."
   ]
  },
  {
   "cell_type": "markdown",
   "id": "828b4027",
   "metadata": {},
   "source": [
    "### Q5. Given an array of integers *arr*, the task is to find maximum element of that array using recursion.\n",
    "\n",
    "**Example 1:**\n",
    "\n",
    "Input: arr = {1, 4, 3, -5, -4, 8, 6};\n",
    "Output: 8\n",
    "\n",
    "**Example 2:**\n",
    "\n",
    "Input: arr = {1, 4, 45, 6, 10, -8};\n",
    "Output: 45"
   ]
  },
  {
   "cell_type": "markdown",
   "id": "2a92e574",
   "metadata": {},
   "source": [
    "Ans5. To find the maximum element in an array using recursion, you can implement a recursive helper function that compares elements pairwise and selects the maximum among them. Here's the implementation in Python:"
   ]
  },
  {
   "cell_type": "code",
   "execution_count": 8,
   "id": "381909c0",
   "metadata": {},
   "outputs": [
    {
     "name": "stdout",
     "output_type": "stream",
     "text": [
      "8\n",
      "45\n"
     ]
    }
   ],
   "source": [
    "def findMax(arr):\n",
    "    # Base case: if the array has only one element, return that element\n",
    "    if len(arr) == 1:\n",
    "        return arr[0]\n",
    "\n",
    "    # Recursive case: divide the array into two halves\n",
    "    mid = len(arr) // 2\n",
    "    left_max = findMax(arr[:mid])\n",
    "    right_max = findMax(arr[mid:])\n",
    "\n",
    "    # Return the maximum element between the left and right halves\n",
    "    return max(left_max, right_max)\n",
    "\n",
    "# Testing the function\n",
    "arr1 = [1, 4, 3, -5, -4, 8, 6]\n",
    "print(findMax(arr1))  # Output: 8\n",
    "\n",
    "arr2 = [1, 4, 45, 6, 10, -8]\n",
    "print(findMax(arr2))  # Output: 45"
   ]
  },
  {
   "cell_type": "markdown",
   "id": "c4f419ce",
   "metadata": {},
   "source": [
    "### Complexity analysis\n",
    "1. The time complexity of this recursive solution is O(n), where n is the number of elements in the array. In each recursive call, we divide the array into two halves, so the number of recursive calls is proportional to the number of elements in the array. \n",
    "2. The space complexity is O(log n) due to the recursive calls, as the maximum depth of the call stack is logarithmic in n."
   ]
  },
  {
   "cell_type": "markdown",
   "id": "0813b203",
   "metadata": {},
   "source": [
    "### Q.6. Given first term (a), common difference (d) and a integer N of the Arithmetic Progression series, the task is to find Nth term of the series.\n",
    "\n",
    "**Example 1:**\n",
    "\n",
    "Input : a = 2 d = 1 N = 5\n",
    "\n",
    "Output : 6\n",
    "\n",
    "The 5th term of the series is : 6\n",
    "\n",
    "**Example 2:**\n",
    "\n",
    "Input : a = 5 d = 2 N = 10\n",
    "\n",
    "Output : 23\n",
    "\n",
    "The 10th term of the series is : 23"
   ]
  },
  {
   "cell_type": "code",
   "execution_count": 9,
   "id": "88cec60b",
   "metadata": {},
   "outputs": [
    {
     "name": "stdout",
     "output_type": "stream",
     "text": [
      "6\n",
      "23\n"
     ]
    }
   ],
   "source": [
    "def nth_term(a, d, n):\n",
    "    \n",
    "    nth = a + (n-1) * d\n",
    "    \n",
    "    return nth\n",
    "\n",
    "print(nth_term(2, 1, 5))\n",
    "print(nth_term(5, 2, 10))"
   ]
  },
  {
   "cell_type": "markdown",
   "id": "2f151485",
   "metadata": {},
   "source": [
    "### Complexity analysis\n",
    "1. The time complexity of this function is O(1), which means it has a constant time complexity. Regardless of the value of n, the function performs a fixed number of operations to calculate the nth term. It does not depend on the size of the input.\n",
    "\n",
    "2. The space complexity of this function is also O(1). It only uses a constant amount of additional space to store the intermediate calculations and return the result."
   ]
  },
  {
   "cell_type": "markdown",
   "id": "216d5874",
   "metadata": {},
   "source": [
    "### Q.7. Given a string S, the task is to write a program to print all permutations of a given string.\n",
    "\n",
    "**Example 1:**\n",
    "\n",
    "*Input:*\n",
    "\n",
    "S = “ABC”\n",
    "\n",
    "*Output:*\n",
    "\n",
    "“ABC”, “ACB”, “BAC”, “BCA”, “CBA”, “CAB”\n",
    "\n",
    "**Example 2:**\n",
    "\n",
    "*Input:*\n",
    "\n",
    "S = “XY”\n",
    "\n",
    "*Output:*\n",
    "\n",
    "“XY”, “YX”"
   ]
  },
  {
   "cell_type": "code",
   "execution_count": 11,
   "id": "fdbc7c47",
   "metadata": {},
   "outputs": [
    {
     "name": "stdout",
     "output_type": "stream",
     "text": [
      "ABC\n",
      "ACB\n",
      "BAC\n",
      "BCA\n",
      "CBA\n",
      "CAB\n",
      "XY\n",
      "YX\n"
     ]
    }
   ],
   "source": [
    "def permutations(s, l, r):\n",
    "    if l == r:\n",
    "        print(s)\n",
    "        \n",
    "    else:\n",
    "        for i in range(l, r + 1):\n",
    "            s = swap(s, l, i)\n",
    "            permutations(s, l + 1, r)\n",
    "            s = swap(s, l, i)\n",
    "\n",
    "def swap(s, i, j):\n",
    "    \n",
    "    s = list(s)\n",
    "    s[i], s[j] = s[j], s[i]\n",
    "    return \"\".join(s)\n",
    "\n",
    "s1 = \"ABC\"\n",
    "s2 = \"XY\"\n",
    "permutations(s1, 0, len(s1) - 1)\n",
    "permutations(s2, 0, len(s2) - 1)"
   ]
  },
  {
   "cell_type": "markdown",
   "id": "dd7a1216",
   "metadata": {},
   "source": [
    "### Complexity analysis\n",
    "1. The time complexity of the code is O(N!), where N is the length of the input string s. The code uses a recursive approach to generate all possible permutations. In the worst case scenario, when all characters in the string are distinct, there will be N! permutations. This is because for each character, there are N-1 options for the next position, then N-2 options for the position after that, and so on, resulting in a factorial number of permutations.\n",
    "\n",
    "2. The space complexity of the code is O(N), where N is the length of the input string s. The space used by the function is primarily for the recursive call stack. Since the function is called recursively for each character position, the maximum depth of the call stack is equal to the length of the string. "
   ]
  },
  {
   "cell_type": "markdown",
   "id": "adba59eb",
   "metadata": {},
   "source": [
    "### Q.8. Given an array, find a product of all array elements.\n",
    "\n",
    "**Example 1**:\n",
    "\n",
    "Input : arr[] = {1, 2, 3, 4, 5}\n",
    "\n",
    "Output : 120\n",
    "\n",
    "**Example 2:**\n",
    "\n",
    "Input : arr[] = {1, 6, 3}\n",
    "\n",
    "Output : 18"
   ]
  },
  {
   "cell_type": "code",
   "execution_count": 12,
   "id": "98e2b60b",
   "metadata": {},
   "outputs": [
    {
     "name": "stdout",
     "output_type": "stream",
     "text": [
      "120\n",
      "18\n"
     ]
    }
   ],
   "source": [
    "def product_of_array(arr):\n",
    "    product = 1    \n",
    "    for x in arr:\n",
    "        product = product * x\n",
    "        \n",
    "    return product\n",
    "\n",
    "arr1 = [1, 2, 3, 4, 5]\n",
    "arr2 = [1, 6, 3]\n",
    "\n",
    "print(product_of_array(arr1))\n",
    "print(product_of_array(arr2))"
   ]
  },
  {
   "cell_type": "markdown",
   "id": "8d0cc25b",
   "metadata": {},
   "source": [
    "### Complexity analysis\n",
    "\n",
    "1. The time complexity of the code is O(N), where N is the number of elements in the input array. The code iterates through each element in the array using a loop, performing a constant-time multiplication operation for each element.\n",
    "\n",
    "2. The space complexity of the code is O(1), meaning it requires a constant amount of additional space. "
   ]
  },
  {
   "cell_type": "code",
   "execution_count": null,
   "id": "aa3def98",
   "metadata": {},
   "outputs": [],
   "source": []
  }
 ],
 "metadata": {
  "kernelspec": {
   "display_name": "Python 3 (ipykernel)",
   "language": "python",
   "name": "python3"
  },
  "language_info": {
   "codemirror_mode": {
    "name": "ipython",
    "version": 3
   },
   "file_extension": ".py",
   "mimetype": "text/x-python",
   "name": "python",
   "nbconvert_exporter": "python",
   "pygments_lexer": "ipython3",
   "version": "3.10.9"
  }
 },
 "nbformat": 4,
 "nbformat_minor": 5
}
