{
  "nbformat": 4,
  "nbformat_minor": 0,
  "metadata": {
    "colab": {
      "provenance": []
    },
    "kernelspec": {
      "name": "python3",
      "display_name": "Python 3"
    },
    "language_info": {
      "name": "python"
    }
  },
  "cells": [
    {
      "cell_type": "code",
      "execution_count": null,
      "metadata": {
        "id": "NVSmenFSGG3A"
      },
      "outputs": [],
      "source": []
    },
    {
      "cell_type": "markdown",
      "source": [
        "#Question-1:\n",
        "\n",
        "Given preorder of a binary tree, calculate its **[depth(or height)](https://www.geeksforgeeks.org/write-a-c-program-to-find-the-maximum-depth-or-height-of-a-tree/)** [starting from depth 0]. The preorder is given as a string with two possible characters.\n",
        "\n",
        "1. ‘l’ denotes the leaf\n",
        "2. ‘n’ denotes internal node\n",
        "\n",
        "The given tree can be seen as a full binary tree where every node has 0 or two children. The two children of a node can ‘n’ or ‘l’ or mix of both.\n",
        "\n",
        "**Examples :**\n",
        "\n",
        "Input  : nlnll\n",
        "Output : 2\n",
        "Explanation :\n",
        "\n",
        "!https://media.geeksforgeeks.org/wp-content/uploads/btree1.png\n",
        "\n",
        "Input  : nlnnlll\n",
        "Output : 3\n",
        "\n",
        "</aside>"
      ],
      "metadata": {
        "id": "b4stCK7VGQ4d"
      }
    },
    {
      "cell_type": "code",
      "source": [
        "def calculate_depth(preorder):\n",
        "    # Base case: if the preorder is empty or the first character is 'l', the depth is 0\n",
        "    if not preorder or preorder[0] == 'l':\n",
        "        return 0\n",
        "\n",
        "    # Recursive case: find the depth of the left and right subtrees\n",
        "    left_subtree = preorder[1:]  # Remove the 'n' at the beginning\n",
        "    right_subtree = ''\n",
        "    i = 2  # Start at index 2 to skip the first 'n'\n",
        "\n",
        "    # Find the end of the left subtree and extract the right subtree\n",
        "    open_count = 1\n",
        "    while i < len(preorder) and open_count > 0:\n",
        "        if preorder[i] == 'n':\n",
        "            open_count += 1\n",
        "        elif preorder[i] == 'l':\n",
        "            open_count -= 1\n",
        "        right_subtree += preorder[i]\n",
        "        i += 1\n",
        "\n",
        "    # Recursively calculate the depth of the left and right subtrees\n",
        "    depth_left = calculate_depth(left_subtree)\n",
        "    depth_right = calculate_depth(right_subtree)\n",
        "\n",
        "    # Return the maximum depth of the left and right subtrees, plus 1 for the current node\n",
        "    return max(depth_left, depth_right) + 1\n"
      ],
      "metadata": {
        "id": "_gREzFXZGTyN"
      },
      "execution_count": null,
      "outputs": []
    },
    {
      "cell_type": "code",
      "source": [
        "# Example 1\n",
        "preorder1 = 'nlnll'\n",
        "result1 = calculate_depth(preorder1)\n",
        "print(result1)\n",
        "\n",
        "# Example 2\n",
        "preorder2 = 'nlnnlll'\n",
        "result2 = calculate_depth(preorder2)\n",
        "print(result2)\n"
      ],
      "metadata": {
        "colab": {
          "base_uri": "https://localhost:8080/"
        },
        "id": "4iaTYY3xGVZ_",
        "outputId": "d3ad5e3d-ee9f-4ea2-e938-5eb31153c822"
      },
      "execution_count": null,
      "outputs": [
        {
          "output_type": "stream",
          "name": "stdout",
          "text": [
            "2\n",
            "3\n"
          ]
        }
      ]
    },
    {
      "cell_type": "markdown",
      "source": [
        "#Question-2:\n",
        "\n",
        "Given a Binary tree, the task is to print the **left view** of the Binary Tree. The left view of a Binary Tree is a set of leftmost nodes for every level.\n",
        "\n",
        "**Examples:**\n",
        "\n",
        "***Input:***\n",
        "\n",
        "            4\n",
        "\n",
        "          /   \\\n",
        "\n",
        "        5     2\n",
        "\n",
        "             /   \\\n",
        "\n",
        "            3     1\n",
        "\n",
        "           /  \\\n",
        "\n",
        "          6    7\n",
        "\n",
        "***Output:** 4 5 3 6*\n",
        "\n",
        "**Explanation:**\n",
        "\n",
        "!https://media.geeksforgeeks.org/wp-content/cdn-uploads/left-view.png\n",
        "\n",
        "***Input:***\n",
        "\n",
        "                    1\n",
        "\n",
        "                  /   \\\n",
        "\n",
        "                2       3\n",
        "\n",
        "                 \\\n",
        "\n",
        "                   4\n",
        "\n",
        "                     \\\n",
        "\n",
        "                        5\n",
        "\n",
        "                           \\\n",
        "\n",
        "                             6\n",
        "\n",
        "**Output:** 1 2 4 5 6\n",
        "\n",
        "</aside>"
      ],
      "metadata": {
        "id": "jHoHEsoOHY7x"
      }
    },
    {
      "cell_type": "code",
      "source": [
        "class Node:\n",
        "    def __init__(self, data):\n",
        "        self.data = data\n",
        "        self.left = None\n",
        "        self.right = None\n",
        "\n",
        "def print_left_view(root):\n",
        "    if root is None:\n",
        "        return\n",
        "\n",
        "    queue = [(root, 1)]  # Queue to perform level order traversal\n",
        "    current_level = 0\n",
        "    left_view = []\n",
        "\n",
        "    while queue:\n",
        "        node, level = queue.pop(0)\n",
        "\n",
        "        if level > current_level:\n",
        "            left_view.append(node.data)\n",
        "            current_level = level\n",
        "\n",
        "        if node.left:\n",
        "            queue.append((node.left, level + 1))\n",
        "        if node.right:\n",
        "            queue.append((node.right, level + 1))\n",
        "\n",
        "    # Print the left view\n",
        "    for node_data in left_view:\n",
        "        print(node_data, end=\" \")\n",
        "\n",
        "# Create the binary tree from the example\n",
        "root = Node(4)\n",
        "root.left = Node(5)\n",
        "root.right = Node(2)\n",
        "root.right.left = Node(3)\n",
        "root.right.right = Node(1)\n",
        "root.right.left.left = Node(6)\n",
        "root.right.left.right = Node(7)\n",
        "\n",
        "# Print the left view of the binary tree\n",
        "print_left_view(root)\n"
      ],
      "metadata": {
        "colab": {
          "base_uri": "https://localhost:8080/"
        },
        "id": "t3SXc6huGYeW",
        "outputId": "4608f7cd-66ff-457a-a145-997953899fbe"
      },
      "execution_count": null,
      "outputs": [
        {
          "output_type": "stream",
          "name": "stdout",
          "text": [
            "4 5 3 6 "
          ]
        }
      ]
    },
    {
      "cell_type": "markdown",
      "source": [],
      "metadata": {
        "id": "bg24wf9NHYG1"
      }
    },
    {
      "cell_type": "markdown",
      "source": [
        "# Question-3:\n",
        "\n",
        "Given a Binary Tree, print the Right view of it.\n",
        "\n",
        "The right view of a Binary Tree is a set of nodes visible when the tree is visited from the Right side.\n",
        "\n",
        "**Examples:**\n",
        "\n",
        "**Input:**\n",
        "\n",
        "         1\n",
        "\n",
        "      /     \\\n",
        "\n",
        "   2         3\n",
        "\n",
        "/   \\       /  \\\n",
        "\n",
        "4     5   6    7\n",
        "\n",
        "             \\\n",
        "\n",
        "               8\n",
        "\n",
        "**Output**:\n",
        "\n",
        "Right view of the tree is 1 3 7 8\n",
        "\n",
        "**Input:**\n",
        "\n",
        "         1\n",
        "\n",
        "       /\n",
        "\n",
        "    8\n",
        "\n",
        "  /\n",
        "\n",
        "7\n",
        "\n",
        "**Output**:\n",
        "\n",
        "Right view of the tree is 1 8 7\n",
        "\n",
        "</aside>"
      ],
      "metadata": {
        "id": "Hzc7URwnHlUr"
      }
    },
    {
      "cell_type": "code",
      "source": [
        "class Node:\n",
        "    def __init__(self, data):\n",
        "        self.data = data\n",
        "        self.left = None\n",
        "        self.right = None\n",
        "\n",
        "def print_right_view(root):\n",
        "    if root is None:\n",
        "        return\n",
        "\n",
        "    queue = [(root, 1)]  # Queue to perform level order traversal\n",
        "    current_level = 0\n",
        "    right_view = []\n",
        "\n",
        "    while queue:\n",
        "        node, level = queue.pop(0)\n",
        "\n",
        "        if level > current_level:\n",
        "            right_view.append(node.data)\n",
        "            current_level = level\n",
        "\n",
        "        if node.right:\n",
        "            queue.append((node.right, level + 1))\n",
        "        if node.left:\n",
        "            queue.append((node.left, level + 1))\n",
        "\n",
        "    # Print the right view\n",
        "    for node_data in right_view:\n",
        "        print(node_data, end=\" \")\n",
        "\n",
        "# Create the binary tree from the example\n",
        "root = Node(1)\n",
        "root.left = Node(2)\n",
        "root.right = Node(3)\n",
        "root.left.left = Node(4)\n",
        "root.left.right = Node(5)\n",
        "root.right.left = Node(6)\n",
        "root.right.right = Node(7)\n",
        "root.right.right.right = Node(8)\n",
        "\n",
        "# Print the right view of the binary tree\n",
        "print_right_view(root)\n"
      ],
      "metadata": {
        "colab": {
          "base_uri": "https://localhost:8080/"
        },
        "id": "eSZClgAMHxJm",
        "outputId": "08462082-e999-4d59-c7f2-a39268d78e2e"
      },
      "execution_count": null,
      "outputs": [
        {
          "output_type": "stream",
          "name": "stdout",
          "text": [
            "1 3 7 8 "
          ]
        }
      ]
    },
    {
      "cell_type": "code",
      "source": [],
      "metadata": {
        "id": "5eoOl_hDH6Yw"
      },
      "execution_count": null,
      "outputs": []
    },
    {
      "cell_type": "markdown",
      "source": [
        "# Question-4:\n",
        "\n",
        "Given a Binary Tree, The task is to print the **bottom view** from left to right. A node **x** is there in output if x is the bottommost node at its horizontal distance. The horizontal distance of the left child of a node x is equal to a horizontal distance of x minus 1, and that of a right child is the horizontal distance of x plus 1.\n",
        "\n",
        "**Examples:**\n",
        "\n",
        "**Input:**\n",
        "\n",
        "             20\n",
        "\n",
        "           /     \\\n",
        "\n",
        "        8         22\n",
        "\n",
        "    /      \\         \\\n",
        "\n",
        "5         3        25\n",
        "\n",
        "        /    \\\n",
        "\n",
        "   10       14\n",
        "\n",
        "**Output:** 5, 10, 3, 14, 25.\n",
        "\n",
        "**Input:**\n",
        "\n",
        "             20\n",
        "\n",
        "           /     \\\n",
        "\n",
        "        8         22\n",
        "\n",
        "    /      \\      /   \\\n",
        "\n",
        " 5         3    4     25\n",
        "\n",
        "         /    \\\n",
        "\n",
        "     10       14\n",
        "\n",
        "**Output:**\n",
        "\n",
        "5 10 4 14 25.\n",
        "\n",
        "**Explanation:**\n",
        "\n",
        "If there are multiple bottom-most nodes for a horizontal distance from the root, then print the later one in the level traversal.\n",
        "\n",
        "**3 and 4** are both the bottom-most nodes at a horizontal distance of 0, we need to print 4.\n",
        "\n",
        "</aside>"
      ],
      "metadata": {
        "id": "gxAmsxrYIHhA"
      }
    },
    {
      "cell_type": "code",
      "source": [
        "from collections import deque\n",
        "\n",
        "class Node:\n",
        "    def __init__(self, data):\n",
        "        self.data = data\n",
        "        self.left = None\n",
        "        self.right = None\n",
        "\n",
        "def print_bottom_view(root):\n",
        "    if root is None:\n",
        "        return\n",
        "\n",
        "    horizontal_distance = {}  # Dictionary to store node values by horizontal distance\n",
        "    queue = deque([(root, 0)])  # Queue for level order traversal\n",
        "\n",
        "    while queue:\n",
        "        node, distance = queue.popleft()\n",
        "\n",
        "        # Update the value for the current horizontal distance\n",
        "        horizontal_distance[distance] = node.data\n",
        "\n",
        "        if node.left:\n",
        "            queue.append((node.left, distance - 1))\n",
        "        if node.right:\n",
        "            queue.append((node.right, distance + 1))\n",
        "\n",
        "    # Print the bottom view\n",
        "    for distance in sorted(horizontal_distance):\n",
        "        print(horizontal_distance[distance], end=\" \")\n",
        "\n",
        "# Create the binary tree from the example\n",
        "root = Node(20)\n",
        "root.left = Node(8)\n",
        "root.right = Node(22)\n",
        "root.left.left = Node(5)\n",
        "root.left.right = Node(3)\n",
        "root.right.right = Node(25)\n",
        "root.left.right.left = Node(10)\n",
        "root.left.right.right = Node(14)\n",
        "\n",
        "# Print the bottom view of the binary tree\n",
        "print_bottom_view(root)\n"
      ],
      "metadata": {
        "colab": {
          "base_uri": "https://localhost:8080/"
        },
        "id": "ALY5vS1jIJhH",
        "outputId": "f5c01182-0c22-4394-c25e-8f491603a0e1"
      },
      "execution_count": null,
      "outputs": [
        {
          "output_type": "stream",
          "name": "stdout",
          "text": [
            "5 10 3 14 25 "
          ]
        }
      ]
    },
    {
      "cell_type": "code",
      "source": [],
      "metadata": {
        "id": "OZiVZow-IWDx"
      },
      "execution_count": null,
      "outputs": []
    }
  ]
}